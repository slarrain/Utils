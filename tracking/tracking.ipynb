{
 "cells": [
  {
   "cell_type": "code",
   "execution_count": 39,
   "id": "fb26379a-253c-4ca7-8473-69157771422c",
   "metadata": {},
   "outputs": [],
   "source": [
    "import requests\n",
    "from datetime import datetime"
   ]
  },
  {
   "cell_type": "code",
   "execution_count": 2,
   "id": "8b537bea-e1b3-40e9-8011-e82f8262bf9a",
   "metadata": {},
   "outputs": [],
   "source": [
    "API_KEY = 'ed663eae-ace1-4a03-b59a-2c4a6dde68a7'"
   ]
  },
  {
   "cell_type": "code",
   "execution_count": 12,
   "id": "f8c99cb2-bfa6-4ae7-b417-c167cd397acc",
   "metadata": {},
   "outputs": [],
   "source": [
    "url = 'https://url.santiagolarrain.myds.me'"
   ]
  },
  {
   "cell_type": "code",
   "execution_count": 13,
   "id": "62685a90-7344-4395-8bf2-2ab87bc69f50",
   "metadata": {},
   "outputs": [],
   "source": [
    "\n",
    "session = requests.Session()\n",
    "\n",
    "# Replace 'API_ENDPOINT' and 'API_KEY' with your actual API endpoint URL and API key\n",
    "API_ENDPOINT = f'{url}/rest/v3/short-url'\n",
    "\n",
    "def call_post_api_endpoint():\n",
    "    headers = {\n",
    "        'X-Api-Key': f'{API_KEY}',\n",
    "        'Content-Type': 'application/json',\n",
    "    }\n",
    "\n",
    "    data = {\n",
    "        # Replace with actual data you want to send in the POST request\n",
    "        'longUrl': 'https://www.pacificlabs.cl/',\n",
    "        'tags': ['pixel', 'testing']\n",
    "    }\n",
    "\n",
    "    response = session.post(API_ENDPOINT, headers=headers, json=data)\n",
    "\n",
    "    if response.status_code == 200:\n",
    "        print('API call successful!')\n",
    "        print(response.json())\n",
    "    else:\n",
    "        print('Error:', response.status_code)\n",
    "        print(response.text)"
   ]
  },
  {
   "cell_type": "code",
   "execution_count": 11,
   "id": "a8d16cec-1882-43da-902f-7ee14e27dc7a",
   "metadata": {},
   "outputs": [
    {
     "name": "stdout",
     "output_type": "stream",
     "text": [
      "Error: 404\n",
      "{\"title\":\"Not Found\",\"type\":\"https://shlink.io/api/error/not-found\",\"status\":404,\"detail\":\"Cannot POST http://url.santiagolarrain.myds.me/v3/short-url!\"}\n"
     ]
    }
   ],
   "source": [
    "call_post_api_endpoint()"
   ]
  },
  {
   "cell_type": "code",
   "execution_count": 31,
   "id": "b9e0e00a-54ee-4b6f-818d-2e1ec76a7861",
   "metadata": {},
   "outputs": [
    {
     "name": "stdout",
     "output_type": "stream",
     "text": [
      "{\"shortCode\":\"IKcPS\",\"shortUrl\":\"https://url.santiagolarrain.myds.me/IKcPS\",\"longUrl\":\"https://www.pacificlabs.cl\",\"dateCreated\":\"2024-08-08T20:35:14-04:00\",\"tags\":[\"pixel\",\"testing\"],\"meta\":{\"validSince\":null,\"validUntil\":null,\"maxVisits\":null},\"domain\":null,\"title\":\"PacificLabs\",\"crawlable\":false,\"forwardQuery\":true,\"visitsSummary\":{\"total\":0,\"nonBots\":0,\"bots\":0}}\n"
     ]
    }
   ],
   "source": [
    "url = \"https://url.santiagolarrain.myds.me/rest/v3/short-urls\"\n",
    "\n",
    "payload = {\n",
    "    \"longUrl\": \"https://www.pacificlabs.cl\",\n",
    "    \"tags\": [\"pixel\", \"testing\"]\n",
    "}\n",
    "headers = {\n",
    "    \"accept\": \"application/json\",\n",
    "    \"X-Api-Key\": \"ed663eae-ace1-4a03-b59a-2c4a6dde68a7\",\n",
    "    \"Content-Type\": \"application/json\"\n",
    "}\n",
    "\n",
    "response = requests.request(\"POST\", url, json=payload, headers=headers)\n",
    "\n",
    "print(response.text)"
   ]
  },
  {
   "cell_type": "code",
   "execution_count": 32,
   "id": "448204b8-9000-406d-89fe-9e98ce8fc9e9",
   "metadata": {},
   "outputs": [
    {
     "data": {
      "text/plain": [
       "{'shortCode': 'IKcPS',\n",
       " 'shortUrl': 'https://url.santiagolarrain.myds.me/IKcPS',\n",
       " 'longUrl': 'https://www.pacificlabs.cl',\n",
       " 'dateCreated': '2024-08-08T20:35:14-04:00',\n",
       " 'tags': ['pixel', 'testing'],\n",
       " 'meta': {'validSince': None, 'validUntil': None, 'maxVisits': None},\n",
       " 'domain': None,\n",
       " 'title': 'PacificLabs',\n",
       " 'crawlable': False,\n",
       " 'forwardQuery': True,\n",
       " 'visitsSummary': {'total': 0, 'nonBots': 0, 'bots': 0}}"
      ]
     },
     "execution_count": 32,
     "metadata": {},
     "output_type": "execute_result"
    }
   ],
   "source": [
    "response.json()"
   ]
  },
  {
   "cell_type": "code",
   "execution_count": 48,
   "id": "cf5f5d13-f1d7-4ca2-b275-bb895fcfa76e",
   "metadata": {},
   "outputs": [
    {
     "name": "stdout",
     "output_type": "stream",
     "text": [
      "2024-08-08 20:35:14-04:00\n"
     ]
    }
   ],
   "source": [
    "print (datetime.strptime(response.json()['dateCreated'], '%Y-%m-%dT%H:%M:%S%z'))"
   ]
  },
  {
   "cell_type": "code",
   "execution_count": 53,
   "id": "d3cc8d3d-728e-4067-b895-541fc8366b2a",
   "metadata": {},
   "outputs": [],
   "source": [
    "from mysql import connector\n",
    "\n",
    "import requests\n",
    "import configparser\n",
    "\n",
    "\n",
    "def make_pixel_and_save_to_mariadb():\n",
    "\n",
    "    config = configparser.ConfigParser()\n",
    "    config.read('./credentials.ini', )\n",
    "\n",
    "    user = config['NASDB']['user']\n",
    "    password=config['NASDB']['password']\n",
    "    host=config['NASDB']['host']\n",
    "    port=config['NASDB']['port'] \n",
    "    database=config['NASDB']['database']\n",
    "\n",
    "    url = \"https://url.santiagolarrain.myds.me/rest/v3/short-urls\"\n",
    "    \n",
    "    payload = {\n",
    "        \"longUrl\": \"https://www.pacificlabs.cl\",\n",
    "        \"tags\": [\"pixel\", \"testing\"]\n",
    "    }\n",
    "    headers = {\n",
    "        \"accept\": \"application/json\",\n",
    "        \"X-Api-Key\": API_KEY,\n",
    "        \"Content-Type\": \"application/json\"\n",
    "    }\n",
    "    \n",
    "    r = requests.request(\"POST\", url, json=payload, headers=headers)\n",
    "\n",
    "    print (r)\n",
    "    data = r.json()\n",
    "    print (data)\n",
    "    \n",
    "    url = data['shortUrl']\n",
    "    date_created = datetime.strptime(data['dateCreated'], '%Y-%m-%dT%H:%M:%S%z')\n",
    "    short_code = data['shortCode']\n",
    "\n",
    "    conn = connector.connect(\n",
    "        user=user,\n",
    "        password=password,\n",
    "        host=host,\n",
    "        port=port,\n",
    "        database=database\n",
    "        )\n",
    "    cur = conn.cursor() \n",
    "\n",
    "    # #retrieving information \n",
    "    # some_name = \"Georgi\" \n",
    "    # cur.execute(\"SELECT first_name,last_name FROM employees WHERE first_name=?\", (some_name,)) \n",
    "\n",
    "    # for first_name, last_name in cur: \n",
    "        # print(f\"First name: {first_name}, Last name: {last_name}\")\n",
    "        \n",
    "    stmt = \"INSERT INTO pixel_email (url, shortcode, created_date) VALUES (%s, %s, %s)\"\n",
    "    #insert information \n",
    "    try: \n",
    "        cur.execute(stmt, [url, short_code, date_created])\n",
    "    except Exception as e: \n",
    "        print(f\"Error: {e}\")\n",
    "\n",
    "    conn.commit() \n",
    "    # print(f\"Last Inserted ID: {cur.lastrowid}\")\n",
    "        \n",
    "    conn.close()"
   ]
  },
  {
   "cell_type": "code",
   "execution_count": 54,
   "id": "25a35bb9-5214-4104-b849-f4ff43f453a0",
   "metadata": {},
   "outputs": [
    {
     "name": "stdout",
     "output_type": "stream",
     "text": [
      "<Response [200]>\n",
      "{'shortCode': 'TPbAu', 'shortUrl': 'https://url.santiagolarrain.myds.me/TPbAu', 'longUrl': 'https://www.pacificlabs.cl', 'dateCreated': '2024-08-09T13:31:14-04:00', 'tags': ['pixel', 'testing'], 'meta': {'validSince': None, 'validUntil': None, 'maxVisits': None}, 'domain': None, 'title': 'PacificLabs', 'crawlable': False, 'forwardQuery': True, 'visitsSummary': {'total': 0, 'nonBots': 0, 'bots': 0}}\n"
     ]
    }
   ],
   "source": [
    "make_pixel_and_save_to_mariadb()"
   ]
  },
  {
   "cell_type": "code",
   "execution_count": null,
   "id": "37d4f2c4-e2b8-4715-8090-557a1e588366",
   "metadata": {},
   "outputs": [],
   "source": []
  },
  {
   "cell_type": "code",
   "execution_count": null,
   "id": "b5bb229e-fc67-40a7-9918-3a536e095ae7",
   "metadata": {},
   "outputs": [],
   "source": []
  },
  {
   "cell_type": "code",
   "execution_count": null,
   "id": "5d4d29d8-ae81-4056-b307-964fec823379",
   "metadata": {},
   "outputs": [],
   "source": []
  }
 ],
 "metadata": {
  "kernelspec": {
   "display_name": "Python 3 (ipykernel)",
   "language": "python",
   "name": "python3"
  },
  "language_info": {
   "codemirror_mode": {
    "name": "ipython",
    "version": 3
   },
   "file_extension": ".py",
   "mimetype": "text/x-python",
   "name": "python",
   "nbconvert_exporter": "python",
   "pygments_lexer": "ipython3",
   "version": "3.10.12"
  }
 },
 "nbformat": 4,
 "nbformat_minor": 5
}

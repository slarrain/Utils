{
 "cells": [
  {
   "cell_type": "code",
   "execution_count": 18,
   "metadata": {
    "hideCode": false,
    "hidePrompt": false
   },
   "outputs": [],
   "source": [
    "import sqlite3\n",
    "import pandas as pd"
   ]
  },
  {
   "cell_type": "code",
   "execution_count": 19,
   "metadata": {
    "hideCode": false,
    "hidePrompt": false
   },
   "outputs": [],
   "source": [
    "db = \"/home/santiago/Documents/hamster.db\""
   ]
  },
  {
   "cell_type": "code",
   "execution_count": 20,
   "metadata": {
    "hideCode": false,
    "hidePrompt": false
   },
   "outputs": [],
   "source": [
    "cnx = sqlite3.connect(db)"
   ]
  },
  {
   "cell_type": "code",
   "execution_count": 21,
   "metadata": {
    "hideCode": false,
    "hidePrompt": false
   },
   "outputs": [],
   "source": [
    "q1 = \"SELECT * FROM activities\"\n",
    "q2 = \"SELECT * FROM categories\"\n",
    "q3 = \"SELECT * FROM facts\""
   ]
  },
  {
   "cell_type": "code",
   "execution_count": 22,
   "metadata": {
    "hideCode": false,
    "hidePrompt": false
   },
   "outputs": [],
   "source": [
    "activities = pd.read_sql_query(q1, cnx)"
   ]
  },
  {
   "cell_type": "code",
   "execution_count": 23,
   "metadata": {
    "hideCode": false,
    "hidePrompt": false
   },
   "outputs": [],
   "source": [
    "categories = pd.read_sql_query(q2, cnx)"
   ]
  },
  {
   "cell_type": "code",
   "execution_count": 24,
   "metadata": {
    "hideCode": false,
    "hidePrompt": false
   },
   "outputs": [],
   "source": [
    "facts = pd.read_sql_query(q3, cnx, parse_dates=['start_time', 'stop_time'])"
   ]
  },
  {
   "cell_type": "code",
   "execution_count": 122,
   "metadata": {
    "hideCode": false,
    "hidePrompt": false
   },
   "outputs": [
    {
     "name": "stdout",
     "output_type": "stream",
     "text": [
      "<class 'pandas.core.frame.DataFrame'>\n",
      "RangeIndex: 517 entries, 0 to 516\n",
      "Data columns (total 5 columns):\n",
      "id             517 non-null int64\n",
      "activity_id    517 non-null int64\n",
      "start_time     517 non-null datetime64[ns]\n",
      "end_time       516 non-null datetime64[ns]\n",
      "description    249 non-null object\n",
      "dtypes: datetime64[ns](2), int64(2), object(1)\n",
      "memory usage: 20.3+ KB\n"
     ]
    }
   ],
   "source": [
    "df5.info()"
   ]
  },
  {
   "cell_type": "code",
   "execution_count": 25,
   "metadata": {
    "hideCode": false,
    "hidePrompt": false
   },
   "outputs": [
    {
     "name": "stderr",
     "output_type": "stream",
     "text": [
      "/usr/local/lib/python3.6/dist-packages/pandas/core/indexing.py:190: SettingWithCopyWarning: \n",
      "A value is trying to be set on a copy of a slice from a DataFrame\n",
      "\n",
      "See the caveats in the documentation: http://pandas.pydata.org/pandas-docs/stable/indexing.html#indexing-view-versus-copy\n",
      "  self._setitem_with_indexer(indexer, value)\n"
     ]
    }
   ],
   "source": [
    "if facts.end_time.iloc[-1] is None:\n",
    "    facts.end_time.iloc[-1] = pd.datetime.now()\n",
    "facts.end_time = pd.to_datetime(facts.end_time)"
   ]
  },
  {
   "cell_type": "code",
   "execution_count": 46,
   "metadata": {
    "hideCode": false,
    "hidePrompt": false
   },
   "outputs": [],
   "source": [
    "facts['duration'] = (facts.end_time - facts.start_time)/ pd.np.timedelta64(1, 'h')\n",
    "df3 = activities.merge(categories, left_on='category_id', right_on='id')\n",
    "df2 = facts.set_index(\"start_time\").last(\"1M\")\n",
    "df = df2.reset_index().merge(activities[['id', 'category_id']],right_on='id', left_on='activity_id')"
   ]
  },
  {
   "cell_type": "code",
   "execution_count": 45,
   "metadata": {
    "hideCode": false,
    "hidePrompt": false,
    "scrolled": true
   },
   "outputs": [
    {
     "data": {
      "text/plain": [
       "0      1.517222\n",
       "1      0.915833\n",
       "2      2.600556\n",
       "3      0.807778\n",
       "4      0.403333\n",
       "5      3.668333\n",
       "6      1.666667\n",
       "7      7.250000\n",
       "8      0.960556\n",
       "9      3.043889\n",
       "10     1.070000\n",
       "11     2.025833\n",
       "12     1.455278\n",
       "13     0.566667\n",
       "14     0.316667\n",
       "15     1.500000\n",
       "16     0.198889\n",
       "17     1.066667\n",
       "18     5.327500\n",
       "19     0.207778\n",
       "20     0.097778\n",
       "21     0.236111\n",
       "22     0.750000\n",
       "23     2.600000\n",
       "24     1.985833\n",
       "25     2.772778\n",
       "26     1.600000\n",
       "27     6.350000\n",
       "28     1.000000\n",
       "29     2.000000\n",
       "         ...   \n",
       "487    0.524444\n",
       "488    0.270833\n",
       "489    1.089167\n",
       "490    0.969444\n",
       "491    1.816667\n",
       "492    1.245278\n",
       "493    6.000000\n",
       "494    1.226389\n",
       "495    2.171944\n",
       "496    1.335000\n",
       "497    1.589167\n",
       "498    1.293056\n",
       "499    0.761389\n",
       "500    0.322222\n",
       "501    0.500000\n",
       "502    1.098611\n",
       "503    0.741667\n",
       "504    1.473889\n",
       "505    0.508889\n",
       "506    0.573333\n",
       "507    0.182222\n",
       "508    2.605556\n",
       "509    0.195278\n",
       "510    1.115556\n",
       "511    0.122222\n",
       "512    0.146667\n",
       "513    2.675833\n",
       "514    0.177222\n",
       "515    1.917778\n",
       "516    4.735403\n",
       "Length: 517, dtype: float64"
      ]
     },
     "execution_count": 45,
     "metadata": {},
     "output_type": "execute_result"
    }
   ],
   "source": [
    "(facts.end_time - facts.start_time)/ pd.np.timedelta64(1, 'h')"
   ]
  },
  {
   "cell_type": "code",
   "execution_count": 50,
   "metadata": {
    "hideCode": false,
    "hidePrompt": false,
    "scrolled": true
   },
   "outputs": [
    {
     "data": {
      "text/plain": [
       "{2: 25.79611111111112,\n",
       " 7: 1.2930555555555556,\n",
       " 8: 22.98373680611111,\n",
       " 10: 4.545555555555556,\n",
       " 11: 0.04111111111111111,\n",
       " 12: 5.494722222222222}"
      ]
     },
     "execution_count": 50,
     "metadata": {},
     "output_type": "execute_result"
    }
   ],
   "source": [
    "actual = df.groupby('category_id')['duration'].sum().to_dict()\n",
    "actual"
   ]
  },
  {
   "cell_type": "code",
   "execution_count": 119,
   "metadata": {
    "hideCode": false,
    "hidePrompt": false
   },
   "outputs": [],
   "source": [
    "base_original = {\n",
    "    2: 25,\n",
    "    8: 20,\n",
    "    12: 22\n",
    "}\n",
    "base = base_original.copy()\n",
    "names = df3[['id_y', 'name_y']].drop_duplicates().set_index('id_y')['name_y'].to_dict()\n",
    "suma = 0\n",
    "total_mes = sum(base.values())\n",
    "for empresa in base:\n",
    "    suma += actual[empresa]\n",
    "    base[empresa] -= actual[empresa]\n",
    "horas_left = total_mes- suma\n",
    "bdays_left = len(pd.bdate_range(pd.datetime.now().date()+pd.Timedelta(days=1), pd.datetime.now().date()+pd.tseries.offsets.MonthEnd(0)))\n",
    "horas_por_dia = horas_left/bdays_left"
   ]
  },
  {
   "cell_type": "code",
   "execution_count": 120,
   "metadata": {},
   "outputs": [
    {
     "name": "stdout",
     "output_type": "stream",
     "text": [
      "Horas: 12.7 - Por dia: 2.1\n"
     ]
    }
   ],
   "source": [
    "print (\"Horas: {:.1f} - Por dia: {:.1f}\".format(horas_left, horas_por_dia))"
   ]
  },
  {
   "cell_type": "code",
   "execution_count": 91,
   "metadata": {},
   "outputs": [
    {
     "name": "stdout",
     "output_type": "stream",
     "text": [
      "SECOM: -0.8\n",
      "Defontana: -3.0\n",
      "trabajando.com: 16.5\n"
     ]
    }
   ],
   "source": [
    "for x in base:\n",
    "    print (\"{}: {:.1f}\".format(names[x], base[x]))"
   ]
  },
  {
   "cell_type": "code",
   "execution_count": 117,
   "metadata": {
    "hideCode": false,
    "hidePrompt": false
   },
   "outputs": [],
   "source": [
    "bdays_left = len(pd.bdate_range(pd.datetime.now().date()+pd.Timedelta(days=1), pd.datetime.now().date()+pd.tseries.offsets.MonthEnd(0)))"
   ]
  },
  {
   "cell_type": "code",
   "execution_count": 118,
   "metadata": {
    "hideCode": false,
    "hidePrompt": false,
    "scrolled": true
   },
   "outputs": [
    {
     "data": {
      "text/plain": [
       "2.1209049767592583"
      ]
     },
     "execution_count": 118,
     "metadata": {},
     "output_type": "execute_result"
    }
   ],
   "source": [
    "horas_left/bdays_left"
   ]
  },
  {
   "cell_type": "code",
   "execution_count": 112,
   "metadata": {
    "hideCode": false,
    "hidePrompt": false
   },
   "outputs": [
    {
     "data": {
      "text/plain": [
       "datetime.date(2019, 6, 21)"
      ]
     },
     "execution_count": 112,
     "metadata": {},
     "output_type": "execute_result"
    }
   ],
   "source": [
    "pd.datetime.now().date()+pd.Timedelta(days=1)"
   ]
  },
  {
   "cell_type": "code",
   "execution_count": 61,
   "metadata": {
    "hideCode": false,
    "hidePrompt": false
   },
   "outputs": [],
   "source": [
    "values = df4.set_index(\"id_x\").to_dict()"
   ]
  },
  {
   "cell_type": "code",
   "execution_count": 69,
   "metadata": {
    "hideCode": false,
    "hidePrompt": false
   },
   "outputs": [
    {
     "data": {
      "text/plain": [
       "{'name_y': {2: 'SECOM',\n",
       "  3: 'Caja18',\n",
       "  4: 'KCloud',\n",
       "  5: 'Copesa',\n",
       "  6: 'ratio',\n",
       "  7: 'AChS',\n",
       "  8: 'Defontana',\n",
       "  9: 'RN',\n",
       "  10: 'Massiva',\n",
       "  11: 'GTD',\n",
       "  12: 'trabajando.com'}}"
      ]
     },
     "execution_count": 69,
     "metadata": {},
     "output_type": "execute_result"
    }
   ],
   "source": [
    "df3[['id_y', 'name_y']].drop_duplicates().set_index('id_y').to_dict()"
   ]
  },
  {
   "cell_type": "code",
   "execution_count": 77,
   "metadata": {
    "hideCode": false,
    "hidePrompt": false
   },
   "outputs": [
    {
     "data": {
      "text/plain": [
       "pandas.core.series.Series"
      ]
     },
     "execution_count": 77,
     "metadata": {},
     "output_type": "execute_result"
    }
   ],
   "source": [
    "type(df.groupby('category_id')['duration'].sum())"
   ]
  },
  {
   "cell_type": "code",
   "execution_count": 79,
   "metadata": {
    "hideCode": false,
    "hidePrompt": false,
    "scrolled": true
   },
   "outputs": [
    {
     "data": {
      "text/plain": [
       "{2: 'SECOM',\n",
       " 3: 'Caja18',\n",
       " 4: 'KCloud',\n",
       " 5: 'Copesa',\n",
       " 6: 'ratio',\n",
       " 7: 'AChS',\n",
       " 8: 'Defontana',\n",
       " 9: 'RN',\n",
       " 10: 'Massiva',\n",
       " 11: 'GTD',\n",
       " 12: 'trabajando.com'}"
      ]
     },
     "execution_count": 79,
     "metadata": {},
     "output_type": "execute_result"
    }
   ],
   "source": [
    "df3[['id_y', 'name_y']].drop_duplicates().set_index('id_y')['name_y'].to_dict()"
   ]
  },
  {
   "cell_type": "code",
   "execution_count": 85,
   "metadata": {
    "hideCode": false,
    "hidePrompt": false
   },
   "outputs": [
    {
     "data": {
      "text/html": [
       "<div>\n",
       "<style scoped>\n",
       "    .dataframe tbody tr th:only-of-type {\n",
       "        vertical-align: middle;\n",
       "    }\n",
       "\n",
       "    .dataframe tbody tr th {\n",
       "        vertical-align: top;\n",
       "    }\n",
       "\n",
       "    .dataframe thead th {\n",
       "        text-align: right;\n",
       "    }\n",
       "</style>\n",
       "<table border=\"1\" class=\"dataframe\">\n",
       "  <thead>\n",
       "    <tr style=\"text-align: right;\">\n",
       "      <th></th>\n",
       "      <th>id</th>\n",
       "      <th>activity_id</th>\n",
       "      <th>end_time</th>\n",
       "      <th>description</th>\n",
       "      <th>category_id</th>\n",
       "    </tr>\n",
       "  </thead>\n",
       "  <tbody>\n",
       "  </tbody>\n",
       "</table>\n",
       "</div>"
      ],
      "text/plain": [
       "Empty DataFrame\n",
       "Columns: [id, activity_id, end_time, description, category_id]\n",
       "Index: []"
      ]
     },
     "execution_count": 85,
     "metadata": {},
     "output_type": "execute_result"
    }
   ],
   "source": [
    "t2.merge(df[['id', \"category_id\"]],left_on='id', right_on='id')"
   ]
  },
  {
   "cell_type": "code",
   "execution_count": 82,
   "metadata": {
    "hideCode": false,
    "hidePrompt": false,
    "scrolled": true
   },
   "outputs": [
    {
     "name": "stdout",
     "output_type": "stream",
     "text": [
      "<class 'pandas.core.frame.DataFrame'>\n",
      "RangeIndex: 24 entries, 0 to 23\n",
      "Data columns (total 2 columns):\n",
      "id             24 non-null int64\n",
      "category_id    24 non-null int64\n",
      "dtypes: int64(2)\n",
      "memory usage: 464.0 bytes\n"
     ]
    }
   ],
   "source": [
    "df[['id', \"category_id\"]].info()"
   ]
  },
  {
   "cell_type": "code",
   "execution_count": 116,
   "metadata": {
    "hideCode": false,
    "hidePrompt": false
   },
   "outputs": [
    {
     "data": {
      "text/html": [
       "<div>\n",
       "<style scoped>\n",
       "    .dataframe tbody tr th:only-of-type {\n",
       "        vertical-align: middle;\n",
       "    }\n",
       "\n",
       "    .dataframe tbody tr th {\n",
       "        vertical-align: top;\n",
       "    }\n",
       "\n",
       "    .dataframe thead th {\n",
       "        text-align: right;\n",
       "    }\n",
       "</style>\n",
       "<table border=\"1\" class=\"dataframe\">\n",
       "  <thead>\n",
       "    <tr style=\"text-align: right;\">\n",
       "      <th></th>\n",
       "      <th>start_time</th>\n",
       "      <th>id_x</th>\n",
       "      <th>activity_id</th>\n",
       "      <th>end_time</th>\n",
       "      <th>description</th>\n",
       "      <th>id_y</th>\n",
       "      <th>category_id</th>\n",
       "    </tr>\n",
       "  </thead>\n",
       "  <tbody>\n",
       "    <tr>\n",
       "      <th>0</th>\n",
       "      <td>2019-06-03 10:32:14</td>\n",
       "      <td>630</td>\n",
       "      <td>24</td>\n",
       "      <td>2019-06-03 15:04:58.000000</td>\n",
       "      <td>None</td>\n",
       "      <td>24</td>\n",
       "      <td>10</td>\n",
       "    </tr>\n",
       "    <tr>\n",
       "      <th>1</th>\n",
       "      <td>2019-06-03 17:36:38</td>\n",
       "      <td>631</td>\n",
       "      <td>5</td>\n",
       "      <td>2019-06-03 17:48:18.000000</td>\n",
       "      <td>graphs</td>\n",
       "      <td>5</td>\n",
       "      <td>2</td>\n",
       "    </tr>\n",
       "    <tr>\n",
       "      <th>2</th>\n",
       "      <td>2019-06-03 18:08:50</td>\n",
       "      <td>632</td>\n",
       "      <td>5</td>\n",
       "      <td>2019-06-03 19:13:46.000000</td>\n",
       "      <td>graphs</td>\n",
       "      <td>5</td>\n",
       "      <td>2</td>\n",
       "    </tr>\n",
       "    <tr>\n",
       "      <th>3</th>\n",
       "      <td>2019-06-03 19:35:00</td>\n",
       "      <td>635</td>\n",
       "      <td>5</td>\n",
       "      <td>2019-06-03 20:50:00.000000</td>\n",
       "      <td>graphs</td>\n",
       "      <td>5</td>\n",
       "      <td>2</td>\n",
       "    </tr>\n",
       "    <tr>\n",
       "      <th>4</th>\n",
       "      <td>2019-06-04 10:10:00</td>\n",
       "      <td>637</td>\n",
       "      <td>5</td>\n",
       "      <td>2019-06-04 10:28:35.000000</td>\n",
       "      <td>graphs</td>\n",
       "      <td>5</td>\n",
       "      <td>2</td>\n",
       "    </tr>\n",
       "    <tr>\n",
       "      <th>5</th>\n",
       "      <td>2019-06-04 10:28:36</td>\n",
       "      <td>638</td>\n",
       "      <td>5</td>\n",
       "      <td>2019-06-04 10:46:45.000000</td>\n",
       "      <td>graphs</td>\n",
       "      <td>5</td>\n",
       "      <td>2</td>\n",
       "    </tr>\n",
       "    <tr>\n",
       "      <th>6</th>\n",
       "      <td>2019-06-04 10:49:21</td>\n",
       "      <td>639</td>\n",
       "      <td>5</td>\n",
       "      <td>2019-06-04 16:02:19.000000</td>\n",
       "      <td>graphs</td>\n",
       "      <td>5</td>\n",
       "      <td>2</td>\n",
       "    </tr>\n",
       "    <tr>\n",
       "      <th>7</th>\n",
       "      <td>2019-06-04 18:59:01</td>\n",
       "      <td>640</td>\n",
       "      <td>5</td>\n",
       "      <td>2019-06-04 19:53:25.000000</td>\n",
       "      <td>graphs</td>\n",
       "      <td>5</td>\n",
       "      <td>2</td>\n",
       "    </tr>\n",
       "    <tr>\n",
       "      <th>8</th>\n",
       "      <td>2019-06-04 19:59:53</td>\n",
       "      <td>641</td>\n",
       "      <td>5</td>\n",
       "      <td>2019-06-04 20:49:34.000000</td>\n",
       "      <td>graphs</td>\n",
       "      <td>5</td>\n",
       "      <td>2</td>\n",
       "    </tr>\n",
       "    <tr>\n",
       "      <th>9</th>\n",
       "      <td>2019-06-04 23:03:39</td>\n",
       "      <td>642</td>\n",
       "      <td>5</td>\n",
       "      <td>2019-06-04 23:13:58.000000</td>\n",
       "      <td>graphs</td>\n",
       "      <td>5</td>\n",
       "      <td>2</td>\n",
       "    </tr>\n",
       "    <tr>\n",
       "      <th>10</th>\n",
       "      <td>2019-06-05 11:10:31</td>\n",
       "      <td>643</td>\n",
       "      <td>5</td>\n",
       "      <td>2019-06-05 12:31:34.000000</td>\n",
       "      <td>graphs</td>\n",
       "      <td>5</td>\n",
       "      <td>2</td>\n",
       "    </tr>\n",
       "    <tr>\n",
       "      <th>11</th>\n",
       "      <td>2019-06-06 09:59:29</td>\n",
       "      <td>648</td>\n",
       "      <td>5</td>\n",
       "      <td>2019-06-06 10:41:24.000000</td>\n",
       "      <td>None</td>\n",
       "      <td>5</td>\n",
       "      <td>2</td>\n",
       "    </tr>\n",
       "    <tr>\n",
       "      <th>12</th>\n",
       "      <td>2019-06-06 11:00:59</td>\n",
       "      <td>650</td>\n",
       "      <td>5</td>\n",
       "      <td>2019-06-06 11:22:34.000000</td>\n",
       "      <td>None</td>\n",
       "      <td>5</td>\n",
       "      <td>2</td>\n",
       "    </tr>\n",
       "    <tr>\n",
       "      <th>13</th>\n",
       "      <td>2019-06-06 12:00:45</td>\n",
       "      <td>652</td>\n",
       "      <td>5</td>\n",
       "      <td>2019-06-06 12:25:59.000000</td>\n",
       "      <td>None</td>\n",
       "      <td>5</td>\n",
       "      <td>2</td>\n",
       "    </tr>\n",
       "    <tr>\n",
       "      <th>14</th>\n",
       "      <td>2019-06-10 19:25:44</td>\n",
       "      <td>660</td>\n",
       "      <td>5</td>\n",
       "      <td>2019-06-10 20:40:27.000000</td>\n",
       "      <td>None</td>\n",
       "      <td>5</td>\n",
       "      <td>2</td>\n",
       "    </tr>\n",
       "    <tr>\n",
       "      <th>15</th>\n",
       "      <td>2019-06-11 11:00:00</td>\n",
       "      <td>661</td>\n",
       "      <td>5</td>\n",
       "      <td>2019-06-11 17:00:00.000000</td>\n",
       "      <td>None</td>\n",
       "      <td>5</td>\n",
       "      <td>2</td>\n",
       "    </tr>\n",
       "    <tr>\n",
       "      <th>16</th>\n",
       "      <td>2019-06-14 16:34:33</td>\n",
       "      <td>669</td>\n",
       "      <td>5</td>\n",
       "      <td>2019-06-14 16:53:53.000000</td>\n",
       "      <td>None</td>\n",
       "      <td>5</td>\n",
       "      <td>2</td>\n",
       "    </tr>\n",
       "    <tr>\n",
       "      <th>17</th>\n",
       "      <td>2019-06-20 12:18:54</td>\n",
       "      <td>684</td>\n",
       "      <td>5</td>\n",
       "      <td>2019-06-20 12:29:32.000000</td>\n",
       "      <td>None</td>\n",
       "      <td>5</td>\n",
       "      <td>2</td>\n",
       "    </tr>\n",
       "    <tr>\n",
       "      <th>18</th>\n",
       "      <td>2019-06-04 09:57:48</td>\n",
       "      <td>636</td>\n",
       "      <td>25</td>\n",
       "      <td>2019-06-04 10:00:16.000000</td>\n",
       "      <td>None</td>\n",
       "      <td>25</td>\n",
       "      <td>11</td>\n",
       "    </tr>\n",
       "    <tr>\n",
       "      <th>19</th>\n",
       "      <td>2019-06-05 12:40:35</td>\n",
       "      <td>644</td>\n",
       "      <td>20</td>\n",
       "      <td>2019-06-05 13:25:07.000000</td>\n",
       "      <td>dashboard</td>\n",
       "      <td>20</td>\n",
       "      <td>8</td>\n",
       "    </tr>\n",
       "    <tr>\n",
       "      <th>20</th>\n",
       "      <td>2019-06-05 14:13:42</td>\n",
       "      <td>645</td>\n",
       "      <td>20</td>\n",
       "      <td>2019-06-05 14:22:17.000000</td>\n",
       "      <td>dashboard</td>\n",
       "      <td>20</td>\n",
       "      <td>8</td>\n",
       "    </tr>\n",
       "    <tr>\n",
       "      <th>21</th>\n",
       "      <td>2019-06-05 15:03:51</td>\n",
       "      <td>646</td>\n",
       "      <td>20</td>\n",
       "      <td>2019-06-05 15:48:01.000000</td>\n",
       "      <td>dashboard</td>\n",
       "      <td>20</td>\n",
       "      <td>8</td>\n",
       "    </tr>\n",
       "    <tr>\n",
       "      <th>22</th>\n",
       "      <td>2019-06-05 17:08:34</td>\n",
       "      <td>647</td>\n",
       "      <td>20</td>\n",
       "      <td>2019-06-05 17:39:32.000000</td>\n",
       "      <td>dashboard</td>\n",
       "      <td>20</td>\n",
       "      <td>8</td>\n",
       "    </tr>\n",
       "    <tr>\n",
       "      <th>23</th>\n",
       "      <td>2019-06-06 10:51:05</td>\n",
       "      <td>649</td>\n",
       "      <td>20</td>\n",
       "      <td>2019-06-06 11:00:58.000000</td>\n",
       "      <td>graphs</td>\n",
       "      <td>20</td>\n",
       "      <td>8</td>\n",
       "    </tr>\n",
       "    <tr>\n",
       "      <th>24</th>\n",
       "      <td>2019-06-06 11:22:35</td>\n",
       "      <td>651</td>\n",
       "      <td>20</td>\n",
       "      <td>2019-06-06 11:58:09.000000</td>\n",
       "      <td>graphs</td>\n",
       "      <td>20</td>\n",
       "      <td>8</td>\n",
       "    </tr>\n",
       "    <tr>\n",
       "      <th>25</th>\n",
       "      <td>2019-06-06 12:26:00</td>\n",
       "      <td>653</td>\n",
       "      <td>20</td>\n",
       "      <td>2019-06-06 12:37:46.000000</td>\n",
       "      <td>graphs</td>\n",
       "      <td>20</td>\n",
       "      <td>8</td>\n",
       "    </tr>\n",
       "    <tr>\n",
       "      <th>26</th>\n",
       "      <td>2019-06-06 17:01:06</td>\n",
       "      <td>654</td>\n",
       "      <td>20</td>\n",
       "      <td>2019-06-06 17:32:34.000000</td>\n",
       "      <td>graphs</td>\n",
       "      <td>20</td>\n",
       "      <td>8</td>\n",
       "    </tr>\n",
       "    <tr>\n",
       "      <th>27</th>\n",
       "      <td>2019-06-07 13:15:11</td>\n",
       "      <td>655</td>\n",
       "      <td>20</td>\n",
       "      <td>2019-06-07 13:31:26.000000</td>\n",
       "      <td>graphs</td>\n",
       "      <td>20</td>\n",
       "      <td>8</td>\n",
       "    </tr>\n",
       "    <tr>\n",
       "      <th>28</th>\n",
       "      <td>2019-06-07 16:50:00</td>\n",
       "      <td>656</td>\n",
       "      <td>20</td>\n",
       "      <td>2019-06-07 17:55:21.000000</td>\n",
       "      <td>graphs</td>\n",
       "      <td>20</td>\n",
       "      <td>8</td>\n",
       "    </tr>\n",
       "    <tr>\n",
       "      <th>29</th>\n",
       "      <td>2019-06-10 09:55:53</td>\n",
       "      <td>657</td>\n",
       "      <td>20</td>\n",
       "      <td>2019-06-10 10:54:03.000000</td>\n",
       "      <td>graphs</td>\n",
       "      <td>20</td>\n",
       "      <td>8</td>\n",
       "    </tr>\n",
       "    <tr>\n",
       "      <th>30</th>\n",
       "      <td>2019-06-10 13:21:00</td>\n",
       "      <td>659</td>\n",
       "      <td>20</td>\n",
       "      <td>2019-06-10 15:10:00.000000</td>\n",
       "      <td>None</td>\n",
       "      <td>20</td>\n",
       "      <td>8</td>\n",
       "    </tr>\n",
       "    <tr>\n",
       "      <th>31</th>\n",
       "      <td>2019-06-17 15:43:00</td>\n",
       "      <td>671</td>\n",
       "      <td>20</td>\n",
       "      <td>2019-06-17 16:13:00.000000</td>\n",
       "      <td>None</td>\n",
       "      <td>20</td>\n",
       "      <td>8</td>\n",
       "    </tr>\n",
       "    <tr>\n",
       "      <th>32</th>\n",
       "      <td>2019-06-17 16:54:21</td>\n",
       "      <td>672</td>\n",
       "      <td>20</td>\n",
       "      <td>2019-06-17 18:00:16.000000</td>\n",
       "      <td>None</td>\n",
       "      <td>20</td>\n",
       "      <td>8</td>\n",
       "    </tr>\n",
       "    <tr>\n",
       "      <th>33</th>\n",
       "      <td>2019-06-19 09:47:14</td>\n",
       "      <td>676</td>\n",
       "      <td>20</td>\n",
       "      <td>2019-06-19 10:21:38.000000</td>\n",
       "      <td>None</td>\n",
       "      <td>20</td>\n",
       "      <td>8</td>\n",
       "    </tr>\n",
       "    <tr>\n",
       "      <th>34</th>\n",
       "      <td>2019-06-19 10:55:24</td>\n",
       "      <td>678</td>\n",
       "      <td>20</td>\n",
       "      <td>2019-06-19 13:31:44.000000</td>\n",
       "      <td>None</td>\n",
       "      <td>20</td>\n",
       "      <td>8</td>\n",
       "    </tr>\n",
       "    <tr>\n",
       "      <th>35</th>\n",
       "      <td>2019-06-19 14:27:14</td>\n",
       "      <td>680</td>\n",
       "      <td>20</td>\n",
       "      <td>2019-06-19 15:34:10.000000</td>\n",
       "      <td>None</td>\n",
       "      <td>20</td>\n",
       "      <td>8</td>\n",
       "    </tr>\n",
       "    <tr>\n",
       "      <th>36</th>\n",
       "      <td>2019-06-20 09:38:16</td>\n",
       "      <td>683</td>\n",
       "      <td>20</td>\n",
       "      <td>2019-06-20 12:18:49.000000</td>\n",
       "      <td>None</td>\n",
       "      <td>20</td>\n",
       "      <td>8</td>\n",
       "    </tr>\n",
       "    <tr>\n",
       "      <th>37</th>\n",
       "      <td>2019-06-20 12:29:33</td>\n",
       "      <td>685</td>\n",
       "      <td>20</td>\n",
       "      <td>2019-06-20 14:24:37.000000</td>\n",
       "      <td>None</td>\n",
       "      <td>20</td>\n",
       "      <td>8</td>\n",
       "    </tr>\n",
       "    <tr>\n",
       "      <th>38</th>\n",
       "      <td>2019-06-20 15:27:07</td>\n",
       "      <td>686</td>\n",
       "      <td>20</td>\n",
       "      <td>2019-06-20 18:25:29.582545</td>\n",
       "      <td>None</td>\n",
       "      <td>20</td>\n",
       "      <td>8</td>\n",
       "    </tr>\n",
       "    <tr>\n",
       "      <th>39</th>\n",
       "      <td>2019-06-12 10:21:15</td>\n",
       "      <td>663</td>\n",
       "      <td>26</td>\n",
       "      <td>2019-06-12 11:34:50.000000</td>\n",
       "      <td>None</td>\n",
       "      <td>26</td>\n",
       "      <td>12</td>\n",
       "    </tr>\n",
       "    <tr>\n",
       "      <th>40</th>\n",
       "      <td>2019-06-12 16:33:22</td>\n",
       "      <td>664</td>\n",
       "      <td>26</td>\n",
       "      <td>2019-06-12 18:43:41.000000</td>\n",
       "      <td>None</td>\n",
       "      <td>26</td>\n",
       "      <td>12</td>\n",
       "    </tr>\n",
       "    <tr>\n",
       "      <th>41</th>\n",
       "      <td>2019-06-13 10:57:34</td>\n",
       "      <td>665</td>\n",
       "      <td>26</td>\n",
       "      <td>2019-06-13 12:17:40.000000</td>\n",
       "      <td>None</td>\n",
       "      <td>26</td>\n",
       "      <td>12</td>\n",
       "    </tr>\n",
       "    <tr>\n",
       "      <th>42</th>\n",
       "      <td>2019-06-14 11:54:17</td>\n",
       "      <td>668</td>\n",
       "      <td>26</td>\n",
       "      <td>2019-06-14 12:39:58.000000</td>\n",
       "      <td>None</td>\n",
       "      <td>26</td>\n",
       "      <td>12</td>\n",
       "    </tr>\n",
       "    <tr>\n",
       "      <th>43</th>\n",
       "      <td>2019-06-13 16:15:01</td>\n",
       "      <td>666</td>\n",
       "      <td>14</td>\n",
       "      <td>2019-06-13 17:50:22.000000</td>\n",
       "      <td>None</td>\n",
       "      <td>14</td>\n",
       "      <td>2</td>\n",
       "    </tr>\n",
       "    <tr>\n",
       "      <th>44</th>\n",
       "      <td>2019-06-14 10:34:35</td>\n",
       "      <td>667</td>\n",
       "      <td>23</td>\n",
       "      <td>2019-06-14 11:52:10.000000</td>\n",
       "      <td>conclusiones reporte</td>\n",
       "      <td>23</td>\n",
       "      <td>7</td>\n",
       "    </tr>\n",
       "    <tr>\n",
       "      <th>45</th>\n",
       "      <td>2019-06-18 11:38:41</td>\n",
       "      <td>673</td>\n",
       "      <td>27</td>\n",
       "      <td>2019-06-18 12:23:11.000000</td>\n",
       "      <td>None</td>\n",
       "      <td>27</td>\n",
       "      <td>2</td>\n",
       "    </tr>\n",
       "    <tr>\n",
       "      <th>46</th>\n",
       "      <td>2019-06-18 13:03:36</td>\n",
       "      <td>674</td>\n",
       "      <td>27</td>\n",
       "      <td>2019-06-18 14:32:02.000000</td>\n",
       "      <td>None</td>\n",
       "      <td>27</td>\n",
       "      <td>2</td>\n",
       "    </tr>\n",
       "    <tr>\n",
       "      <th>47</th>\n",
       "      <td>2019-06-18 16:23:56</td>\n",
       "      <td>675</td>\n",
       "      <td>27</td>\n",
       "      <td>2019-06-18 16:54:28.000000</td>\n",
       "      <td>None</td>\n",
       "      <td>27</td>\n",
       "      <td>2</td>\n",
       "    </tr>\n",
       "    <tr>\n",
       "      <th>48</th>\n",
       "      <td>2019-06-19 10:36:01</td>\n",
       "      <td>677</td>\n",
       "      <td>27</td>\n",
       "      <td>2019-06-19 10:46:57.000000</td>\n",
       "      <td>None</td>\n",
       "      <td>27</td>\n",
       "      <td>2</td>\n",
       "    </tr>\n",
       "    <tr>\n",
       "      <th>49</th>\n",
       "      <td>2019-06-19 14:15:24</td>\n",
       "      <td>679</td>\n",
       "      <td>27</td>\n",
       "      <td>2019-06-19 14:27:07.000000</td>\n",
       "      <td>None</td>\n",
       "      <td>27</td>\n",
       "      <td>2</td>\n",
       "    </tr>\n",
       "    <tr>\n",
       "      <th>50</th>\n",
       "      <td>2019-06-19 19:16:35</td>\n",
       "      <td>681</td>\n",
       "      <td>27</td>\n",
       "      <td>2019-06-19 19:23:55.000000</td>\n",
       "      <td>None</td>\n",
       "      <td>27</td>\n",
       "      <td>2</td>\n",
       "    </tr>\n",
       "    <tr>\n",
       "      <th>51</th>\n",
       "      <td>2019-06-20 09:29:25</td>\n",
       "      <td>682</td>\n",
       "      <td>27</td>\n",
       "      <td>2019-06-20 09:38:13.000000</td>\n",
       "      <td>None</td>\n",
       "      <td>27</td>\n",
       "      <td>2</td>\n",
       "    </tr>\n",
       "  </tbody>\n",
       "</table>\n",
       "</div>"
      ],
      "text/plain": [
       "            start_time  id_x  activity_id                   end_time  \\\n",
       "0  2019-06-03 10:32:14   630           24 2019-06-03 15:04:58.000000   \n",
       "1  2019-06-03 17:36:38   631            5 2019-06-03 17:48:18.000000   \n",
       "2  2019-06-03 18:08:50   632            5 2019-06-03 19:13:46.000000   \n",
       "3  2019-06-03 19:35:00   635            5 2019-06-03 20:50:00.000000   \n",
       "4  2019-06-04 10:10:00   637            5 2019-06-04 10:28:35.000000   \n",
       "5  2019-06-04 10:28:36   638            5 2019-06-04 10:46:45.000000   \n",
       "6  2019-06-04 10:49:21   639            5 2019-06-04 16:02:19.000000   \n",
       "7  2019-06-04 18:59:01   640            5 2019-06-04 19:53:25.000000   \n",
       "8  2019-06-04 19:59:53   641            5 2019-06-04 20:49:34.000000   \n",
       "9  2019-06-04 23:03:39   642            5 2019-06-04 23:13:58.000000   \n",
       "10 2019-06-05 11:10:31   643            5 2019-06-05 12:31:34.000000   \n",
       "11 2019-06-06 09:59:29   648            5 2019-06-06 10:41:24.000000   \n",
       "12 2019-06-06 11:00:59   650            5 2019-06-06 11:22:34.000000   \n",
       "13 2019-06-06 12:00:45   652            5 2019-06-06 12:25:59.000000   \n",
       "14 2019-06-10 19:25:44   660            5 2019-06-10 20:40:27.000000   \n",
       "15 2019-06-11 11:00:00   661            5 2019-06-11 17:00:00.000000   \n",
       "16 2019-06-14 16:34:33   669            5 2019-06-14 16:53:53.000000   \n",
       "17 2019-06-20 12:18:54   684            5 2019-06-20 12:29:32.000000   \n",
       "18 2019-06-04 09:57:48   636           25 2019-06-04 10:00:16.000000   \n",
       "19 2019-06-05 12:40:35   644           20 2019-06-05 13:25:07.000000   \n",
       "20 2019-06-05 14:13:42   645           20 2019-06-05 14:22:17.000000   \n",
       "21 2019-06-05 15:03:51   646           20 2019-06-05 15:48:01.000000   \n",
       "22 2019-06-05 17:08:34   647           20 2019-06-05 17:39:32.000000   \n",
       "23 2019-06-06 10:51:05   649           20 2019-06-06 11:00:58.000000   \n",
       "24 2019-06-06 11:22:35   651           20 2019-06-06 11:58:09.000000   \n",
       "25 2019-06-06 12:26:00   653           20 2019-06-06 12:37:46.000000   \n",
       "26 2019-06-06 17:01:06   654           20 2019-06-06 17:32:34.000000   \n",
       "27 2019-06-07 13:15:11   655           20 2019-06-07 13:31:26.000000   \n",
       "28 2019-06-07 16:50:00   656           20 2019-06-07 17:55:21.000000   \n",
       "29 2019-06-10 09:55:53   657           20 2019-06-10 10:54:03.000000   \n",
       "30 2019-06-10 13:21:00   659           20 2019-06-10 15:10:00.000000   \n",
       "31 2019-06-17 15:43:00   671           20 2019-06-17 16:13:00.000000   \n",
       "32 2019-06-17 16:54:21   672           20 2019-06-17 18:00:16.000000   \n",
       "33 2019-06-19 09:47:14   676           20 2019-06-19 10:21:38.000000   \n",
       "34 2019-06-19 10:55:24   678           20 2019-06-19 13:31:44.000000   \n",
       "35 2019-06-19 14:27:14   680           20 2019-06-19 15:34:10.000000   \n",
       "36 2019-06-20 09:38:16   683           20 2019-06-20 12:18:49.000000   \n",
       "37 2019-06-20 12:29:33   685           20 2019-06-20 14:24:37.000000   \n",
       "38 2019-06-20 15:27:07   686           20 2019-06-20 18:25:29.582545   \n",
       "39 2019-06-12 10:21:15   663           26 2019-06-12 11:34:50.000000   \n",
       "40 2019-06-12 16:33:22   664           26 2019-06-12 18:43:41.000000   \n",
       "41 2019-06-13 10:57:34   665           26 2019-06-13 12:17:40.000000   \n",
       "42 2019-06-14 11:54:17   668           26 2019-06-14 12:39:58.000000   \n",
       "43 2019-06-13 16:15:01   666           14 2019-06-13 17:50:22.000000   \n",
       "44 2019-06-14 10:34:35   667           23 2019-06-14 11:52:10.000000   \n",
       "45 2019-06-18 11:38:41   673           27 2019-06-18 12:23:11.000000   \n",
       "46 2019-06-18 13:03:36   674           27 2019-06-18 14:32:02.000000   \n",
       "47 2019-06-18 16:23:56   675           27 2019-06-18 16:54:28.000000   \n",
       "48 2019-06-19 10:36:01   677           27 2019-06-19 10:46:57.000000   \n",
       "49 2019-06-19 14:15:24   679           27 2019-06-19 14:27:07.000000   \n",
       "50 2019-06-19 19:16:35   681           27 2019-06-19 19:23:55.000000   \n",
       "51 2019-06-20 09:29:25   682           27 2019-06-20 09:38:13.000000   \n",
       "\n",
       "             description  id_y  category_id  \n",
       "0                   None    24           10  \n",
       "1                 graphs     5            2  \n",
       "2                 graphs     5            2  \n",
       "3                 graphs     5            2  \n",
       "4                 graphs     5            2  \n",
       "5                 graphs     5            2  \n",
       "6                 graphs     5            2  \n",
       "7                 graphs     5            2  \n",
       "8                 graphs     5            2  \n",
       "9                 graphs     5            2  \n",
       "10                graphs     5            2  \n",
       "11                  None     5            2  \n",
       "12                  None     5            2  \n",
       "13                  None     5            2  \n",
       "14                  None     5            2  \n",
       "15                  None     5            2  \n",
       "16                  None     5            2  \n",
       "17                  None     5            2  \n",
       "18                  None    25           11  \n",
       "19             dashboard    20            8  \n",
       "20             dashboard    20            8  \n",
       "21             dashboard    20            8  \n",
       "22             dashboard    20            8  \n",
       "23                graphs    20            8  \n",
       "24                graphs    20            8  \n",
       "25                graphs    20            8  \n",
       "26                graphs    20            8  \n",
       "27                graphs    20            8  \n",
       "28                graphs    20            8  \n",
       "29                graphs    20            8  \n",
       "30                  None    20            8  \n",
       "31                  None    20            8  \n",
       "32                  None    20            8  \n",
       "33                  None    20            8  \n",
       "34                  None    20            8  \n",
       "35                  None    20            8  \n",
       "36                  None    20            8  \n",
       "37                  None    20            8  \n",
       "38                  None    20            8  \n",
       "39                  None    26           12  \n",
       "40                  None    26           12  \n",
       "41                  None    26           12  \n",
       "42                  None    26           12  \n",
       "43                  None    14            2  \n",
       "44  conclusiones reporte    23            7  \n",
       "45                  None    27            2  \n",
       "46                  None    27            2  \n",
       "47                  None    27            2  \n",
       "48                  None    27            2  \n",
       "49                  None    27            2  \n",
       "50                  None    27            2  \n",
       "51                  None    27            2  "
      ]
     },
     "execution_count": 116,
     "metadata": {},
     "output_type": "execute_result"
    }
   ],
   "source": [
    "t2.reset_index().merge(df[['id', 'category_id']],right_on='id', left_on='activity_id')"
   ]
  },
  {
   "cell_type": "code",
   "execution_count": null,
   "metadata": {
    "hideCode": false,
    "hidePrompt": false
   },
   "outputs": [],
   "source": []
  },
  {
   "cell_type": "code",
   "execution_count": null,
   "metadata": {
    "hideCode": false,
    "hidePrompt": false
   },
   "outputs": [],
   "source": []
  },
  {
   "cell_type": "code",
   "execution_count": null,
   "metadata": {
    "hideCode": false,
    "hidePrompt": false
   },
   "outputs": [],
   "source": []
  }
 ],
 "metadata": {
  "hide_code_all_hidden": false,
  "kernelspec": {
   "display_name": "Python 3",
   "language": "python",
   "name": "python3"
  },
  "language_info": {
   "codemirror_mode": {
    "name": "ipython",
    "version": 3
   },
   "file_extension": ".py",
   "mimetype": "text/x-python",
   "name": "python",
   "nbconvert_exporter": "python",
   "pygments_lexer": "ipython3",
   "version": "3.6.7"
  }
 },
 "nbformat": 4,
 "nbformat_minor": 2
}

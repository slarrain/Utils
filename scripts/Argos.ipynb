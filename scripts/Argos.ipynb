{
 "cells": [
  {
   "cell_type": "code",
   "execution_count": null,
   "id": "clear-school",
   "metadata": {},
   "outputs": [],
   "source": [
    "import requests\n",
    "import pandas as pd"
   ]
  },
  {
   "cell_type": "code",
   "execution_count": null,
   "id": "requested-consumption",
   "metadata": {},
   "outputs": [],
   "source": [
    "api_url = 'https://fintual.cl/api/'"
   ]
  },
  {
   "cell_type": "code",
   "execution_count": null,
   "id": "behavioral-minority",
   "metadata": {},
   "outputs": [],
   "source": [
    "email = \"\"\n",
    "password = \"\""
   ]
  },
  {
   "cell_type": "code",
   "execution_count": null,
   "id": "advanced-nightlife",
   "metadata": {},
   "outputs": [],
   "source": [
    "data = {\n",
    "  \"user\": {\n",
    "    \"email\": email,\n",
    "    \"password\": password\n",
    "  }\n",
    "}"
   ]
  },
  {
   "cell_type": "code",
   "execution_count": null,
   "id": "creative-seven",
   "metadata": {},
   "outputs": [],
   "source": [
    "r = requests.post(url = api_url + 'access_tokens', \n",
    "                 json=data)\n",
    "access_token = r.json()['data']['attributes']['token']"
   ]
  },
  {
   "cell_type": "code",
   "execution_count": null,
   "id": "explicit-lesson",
   "metadata": {},
   "outputs": [],
   "source": [
    "r = requests.get(url = api_url + 'goals', params = {'user_email': email, 'user_token': access_token})"
   ]
  },
  {
   "cell_type": "code",
   "execution_count": null,
   "id": "romantic-momentum",
   "metadata": {},
   "outputs": [],
   "source": [
    "r.json()"
   ]
  },
  {
   "cell_type": "code",
   "execution_count": null,
   "id": "english-fireplace",
   "metadata": {},
   "outputs": [],
   "source": [
    "for x in r.json()['data']:\n",
    "    y = x['attributes']\n",
    "    print (y['name'], y['nav'])"
   ]
  },
  {
   "cell_type": "code",
   "execution_count": null,
   "id": "public-toolbox",
   "metadata": {},
   "outputs": [],
   "source": [
    "data"
   ]
  },
  {
   "cell_type": "code",
   "execution_count": null,
   "id": "headed-status",
   "metadata": {},
   "outputs": [],
   "source": [
    "access_token"
   ]
  },
  {
   "cell_type": "code",
   "execution_count": null,
   "id": "attached-february",
   "metadata": {},
   "outputs": [],
   "source": []
  },
  {
   "cell_type": "code",
   "execution_count": null,
   "id": "described-ribbon",
   "metadata": {},
   "outputs": [],
   "source": []
  }
 ],
 "metadata": {
  "kernelspec": {
   "display_name": "Python 3",
   "language": "python",
   "name": "python3"
  },
  "language_info": {
   "codemirror_mode": {
    "name": "ipython",
    "version": 3
   },
   "file_extension": ".py",
   "mimetype": "text/x-python",
   "name": "python",
   "nbconvert_exporter": "python",
   "pygments_lexer": "ipython3",
   "version": "3.8.5"
  }
 },
 "nbformat": 4,
 "nbformat_minor": 5
}

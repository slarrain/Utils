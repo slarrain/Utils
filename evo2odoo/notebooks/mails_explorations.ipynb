{
 "cells": [
  {
   "cell_type": "code",
   "execution_count": 65,
   "id": "58b6b4cd-3cba-4ffc-9142-91a7bfdfe9c8",
   "metadata": {},
   "outputs": [],
   "source": [
    "import email\n",
    "from email import policy\n",
    "from email.parser import BytesParser\n",
    "\n",
    "from glob import glob\n",
    "\n",
    "import xmlrpc.client\n",
    "import json\n",
    "import requests"
   ]
  },
  {
   "cell_type": "code",
   "execution_count": 63,
   "id": "85352aaf-2346-4967-936f-9790fbce2fb5",
   "metadata": {},
   "outputs": [
    {
     "data": {
      "text/plain": [
       "'../mails/Esto es un test.eml'"
      ]
     },
     "execution_count": 63,
     "metadata": {},
     "output_type": "execute_result"
    }
   ],
   "source": [
    "\n",
    "# Path to your .eml file\n",
    "file_path = glob('../mails/*.eml')[-2]\n",
    "file_path\n"
   ]
  },
  {
   "cell_type": "code",
   "execution_count": 64,
   "id": "198d208f-9571-474a-b661-2f84edfb49bb",
   "metadata": {},
   "outputs": [
    {
     "name": "stdout",
     "output_type": "stream",
     "text": [
      "Subject: Esto es un test\n",
      "From: Contacto PacificLabs <contacto@pacificlabs.cl>\n",
      "To: \"Santiago Larrain E.\" <santiagolarrain@gmail.com>\n",
      "Date: Fri, 08 Nov 2024 11:59:34 -0300\n",
      "Body: Esto es una prueba, para ver como funciona.\n",
      "\n",
      "Pero soy santiago escribiendole a Santiago.\n",
      "\n",
      "\n",
      "\n"
     ]
    }
   ],
   "source": [
    "\n",
    "\n",
    "\n",
    "# Open and read the .eml file\n",
    "with open(file_path, 'rb') as file:\n",
    "    # Parse the .eml file using BytesParser\n",
    "    msg = BytesParser(policy=policy.default).parse(file)\n",
    "\n",
    "# Extracting basic information from the email\n",
    "subject = msg['subject']\n",
    "from_email = msg['from']\n",
    "to_email = msg['to']\n",
    "date = msg['date']\n",
    "body = \"\"\n",
    "\n",
    "# Extract the body of the email\n",
    "if msg.is_multipart():\n",
    "    # If the email has multiple parts (attachments, text, etc.), iterate over the parts\n",
    "    for part in msg.iter_parts():\n",
    "\n",
    "        # If it is a multipart in itself\n",
    "        if part.is_multipart():\n",
    "            for sub_part in part.iter_parts():\n",
    "                if sub_part.get_content_type() == 'text/plain':\n",
    "                    body = sub_part.get_payload(decode=True).decode(sub_part.get_content_charset())        \n",
    "        else:\n",
    "            # Look for the plain text part\n",
    "            if part.get_content_type() == 'text/plain':\n",
    "                body = part.get_payload(decode=True).decode(part.get_content_charset())\n",
    "else:\n",
    "    # If the email is not multipart, get the payload directly\n",
    "    body = msg.get_payload(decode=True).decode(msg.get_content_charset())\n",
    "\n",
    "body = body.split('--')[0]\n",
    "\n",
    "# Display the extracted information\n",
    "print(\"Subject:\", subject)\n",
    "print(\"From:\", from_email)\n",
    "print(\"To:\", to_email)\n",
    "print(\"Date:\", date)\n",
    "print(\"Body:\", body)\n"
   ]
  },
  {
   "cell_type": "code",
   "execution_count": 51,
   "id": "19294ff3-d849-48b1-a22b-cc4ccd8f7bbe",
   "metadata": {},
   "outputs": [
    {
     "data": {
      "text/plain": [
       "True"
      ]
     },
     "execution_count": 51,
     "metadata": {},
     "output_type": "execute_result"
    }
   ],
   "source": [
    "msg.is_multipart()"
   ]
  },
  {
   "cell_type": "code",
   "execution_count": 52,
   "id": "bd18a9b6-9edb-45d0-a8ea-86101fc3760d",
   "metadata": {},
   "outputs": [],
   "source": [
    "partes = []\n",
    "for part in msg.iter_parts():\n",
    "    partes.append(part)"
   ]
  },
  {
   "cell_type": "code",
   "execution_count": 53,
   "id": "fae6fddd-727d-46eb-9308-c8fee688f02a",
   "metadata": {},
   "outputs": [
    {
     "data": {
      "text/plain": [
       "11"
      ]
     },
     "execution_count": 53,
     "metadata": {},
     "output_type": "execute_result"
    }
   ],
   "source": [
    "len(partes)"
   ]
  },
  {
   "cell_type": "code",
   "execution_count": 60,
   "id": "63ffa51d-b1af-491c-a8cc-31caf41a4937",
   "metadata": {},
   "outputs": [
    {
     "name": "stdout",
     "output_type": "stream",
     "text": [
      "text/plain\n",
      "text/html\n"
     ]
    }
   ],
   "source": [
    "for part in partes[0].iter_parts():\n",
    "    print (part.get_content_type())"
   ]
  },
  {
   "cell_type": "code",
   "execution_count": 47,
   "id": "aab66c75-469d-45a3-9df7-ecbf2b61a9ee",
   "metadata": {},
   "outputs": [
    {
     "name": "stdout",
     "output_type": "stream",
     "text": [
      "text/plain\n",
      "False\n",
      "text/html\n",
      "False\n"
     ]
    }
   ],
   "source": [
    "for part in partes:\n",
    "    print (part.get_content_type())\n",
    "    print (part.is_multipart())"
   ]
  },
  {
   "cell_type": "code",
   "execution_count": 57,
   "id": "7646054d-43f4-4526-9f62-1f647a95c424",
   "metadata": {},
   "outputs": [
    {
     "data": {
      "text/plain": [
       "True"
      ]
     },
     "execution_count": 57,
     "metadata": {},
     "output_type": "execute_result"
    }
   ],
   "source": [
    "partes[0].is_multipart()"
   ]
  },
  {
   "cell_type": "code",
   "execution_count": 59,
   "id": "07a11fe2-e985-495e-87ba-5c2078bdd90f",
   "metadata": {},
   "outputs": [
    {
     "data": {
      "text/plain": [
       "<generator object MIMEPart.iter_parts at 0x7d6b96be9240>"
      ]
     },
     "execution_count": 59,
     "metadata": {},
     "output_type": "execute_result"
    }
   ],
   "source": [
    "partes[0].iter_parts()"
   ]
  },
  {
   "cell_type": "code",
   "execution_count": null,
   "id": "7125a424-07c6-49c2-b70c-5756bd627174",
   "metadata": {},
   "outputs": [],
   "source": []
  },
  {
   "cell_type": "code",
   "execution_count": 68,
   "id": "78c538e4-f622-4ca3-a537-7d3f2f8e9dc8",
   "metadata": {},
   "outputs": [],
   "source": [
    "\n",
    "\n",
    "url = 'http://192.168.1.122:8069'\n",
    "db = 'pacificlabs'\n",
    "username = 'santiagolarrain@pacificlabs.cl'\n",
    "password = 'sl2012le2187'\n",
    "common = xmlrpc.client.ServerProxy('{}/xmlrpc/2/common'.format(url))\n",
    "common.version()\n",
    "\n",
    "models = xmlrpc.client.ServerProxy('{}/xmlrpc/2/object'.format(url))\n",
    "\n",
    "uid = common.authenticate(db, username, password, {})\n",
    "\n",
    "rv = models.execute_kw(db, uid, password, 'crm.lead', 'search', [[['email_from', '=', \"santiagolarrain@gmail.com\"]]])"
   ]
  },
  {
   "cell_type": "code",
   "execution_count": 77,
   "id": "45357473-7ed8-4828-bbc7-fbce6bc6aea0",
   "metadata": {},
   "outputs": [
    {
     "data": {
      "text/plain": [
       "int"
      ]
     },
     "execution_count": 77,
     "metadata": {},
     "output_type": "execute_result"
    }
   ],
   "source": [
    "type(rv[0])"
   ]
  },
  {
   "cell_type": "code",
   "execution_count": 83,
   "id": "d9372f73-a6f8-42f9-99fd-e22460c79e90",
   "metadata": {},
   "outputs": [
    {
     "name": "stdout",
     "output_type": "stream",
     "text": [
      "\n",
      "== PRUEBA NOTEBOOK == \n",
      "<br><br>\n",
      "Subject:Esto es un test\n",
      "From:Contacto PacificLabs <contacto@pacificlabs.cl>\n",
      "To:\"Santiago Larrain E.\" <santiagolarrain@gmail.com>\n",
      "Date:2024-10-21 21:30:30\n",
      "\n",
      "Esto es una prueba, para ver como funciona.\n",
      "\n",
      "Pero soy santiago escribiendole a Santiago.\n",
      "\n",
      "\n",
      "\n"
     ]
    }
   ],
   "source": [
    "contenido = f\"\"\"\n",
    "== PRUEBA NOTEBOOK == \n",
    "<br><br>\n",
    "Subject:{subject}\n",
    "From:{from_email}\n",
    "To:{to_email}\n",
    "Date:{date}\n",
    "\n",
    "{body}\"\"\"\n",
    "print(contenido)"
   ]
  },
  {
   "cell_type": "code",
   "execution_count": 79,
   "id": "f30991c1-770b-4642-886c-2e50907929b0",
   "metadata": {},
   "outputs": [],
   "source": [
    "date = '2024-10-21 21:30:30'"
   ]
  },
  {
   "cell_type": "code",
   "execution_count": 84,
   "id": "96480983-441a-4df4-8def-7b5b4d0c25cf",
   "metadata": {},
   "outputs": [
    {
     "data": {
      "text/plain": [
       "2584"
      ]
     },
     "execution_count": 84,
     "metadata": {},
     "output_type": "execute_result"
    }
   ],
   "source": [
    "            models.execute_kw(\n",
    "                    db, \n",
    "                    uid, \n",
    "                    password, \n",
    "                    'mail.message', \n",
    "                    'create', \n",
    "                    [\n",
    "                        { \n",
    "                         'model': 'crm.lead', \n",
    "                         'res_id': rv[0], \n",
    "                         'body': contenido, \n",
    "                         'author_id': uid, \n",
    "                         'create_date': date, \n",
    "                         'date': date, \n",
    "                         'write_date': date, \n",
    "                         'attachment_ids':[]\n",
    "                         }\n",
    "                        ]\n",
    "                    )\n"
   ]
  },
  {
   "cell_type": "code",
   "execution_count": null,
   "id": "47fc514e-91f2-4d88-a61f-a47a16b822cc",
   "metadata": {},
   "outputs": [],
   "source": []
  },
  {
   "cell_type": "code",
   "execution_count": null,
   "id": "d83556b3-3e21-4ac6-aec2-18f2eecf50f8",
   "metadata": {},
   "outputs": [],
   "source": []
  },
  {
   "cell_type": "code",
   "execution_count": null,
   "id": "40376aa2-f9d0-4a80-9369-1cc6e7adccc6",
   "metadata": {},
   "outputs": [],
   "source": []
  },
  {
   "cell_type": "code",
   "execution_count": null,
   "id": "f6c41674-3685-41cb-adcd-cc608caf6e7b",
   "metadata": {},
   "outputs": [],
   "source": []
  }
 ],
 "metadata": {
  "kernelspec": {
   "display_name": "Python 3 (ipykernel)",
   "language": "python",
   "name": "python3"
  },
  "language_info": {
   "codemirror_mode": {
    "name": "ipython",
    "version": 3
   },
   "file_extension": ".py",
   "mimetype": "text/x-python",
   "name": "python",
   "nbconvert_exporter": "python",
   "pygments_lexer": "ipython3",
   "version": "3.12.3"
  }
 },
 "nbformat": 4,
 "nbformat_minor": 5
}

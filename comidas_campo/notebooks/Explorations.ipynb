{
  "metadata": {
    "kernelspec": {
      "display_name": "Python 3 (ipykernel)",
      "language": "python",
      "name": "python3"
    },
    "language_info": {
      "name": "python",
      "version": "3.12.3",
      "mimetype": "text/x-python",
      "codemirror_mode": {
        "name": "ipython",
        "version": 3
      },
      "pygments_lexer": "ipython3",
      "nbconvert_exporter": "python",
      "file_extension": ".py"
    }
  },
  "nbformat_minor": 5,
  "nbformat": 4,
  "cells": [
    {
      "id": "4de74190-00c3-423b-8433-3f758b3d11fc",
      "cell_type": "code",
      "source": "import requests\nfrom datetime import datetime, timedelta\nimport pandas as pd\nfrom debts import settle",
      "metadata": {
        "trusted": false
      },
      "outputs": [],
      "execution_count": 81
    },
    {
      "id": "1eb4746b-38bc-42da-bac2-2bc68fae3498",
      "cell_type": "code",
      "source": "datetime.today().strftime(format='%Y-%m-%d_%H:%M:%S')",
      "metadata": {
        "trusted": false
      },
      "outputs": [],
      "execution_count": null
    },
    {
      "id": "4a172660-7440-44f0-935b-3fdc691eaf7a",
      "cell_type": "code",
      "source": "inicio = datetime(2024, 8, 15)\nfin = datetime(2024, 8, 21)\nrango = [inicio + timedelta(days=x) for x in range(0, (fin-inicio).days + 1)]\nrango",
      "metadata": {
        "trusted": false
      },
      "outputs": [
        {
          "data": {
            "text/plain": [
              "[datetime.datetime(2024, 8, 15, 0, 0),\n",
              " datetime.datetime(2024, 8, 16, 0, 0),\n",
              " datetime.datetime(2024, 8, 17, 0, 0),\n",
              " datetime.datetime(2024, 8, 18, 0, 0),\n",
              " datetime.datetime(2024, 8, 19, 0, 0),\n",
              " datetime.datetime(2024, 8, 20, 0, 0),\n",
              " datetime.datetime(2024, 8, 21, 0, 0)]"
            ]
          },
          "execution_count": 13,
          "metadata": {},
          "output_type": "execute_result"
        }
      ],
      "execution_count": 13
    },
    {
      "id": "17f5d9f1-b179-4375-8234-dcf90974ad90",
      "cell_type": "code",
      "source": "headers = {\"x-api-key\": \"92de5f3c3adf682873bbd764c102c30f\"}\nurl = \"https://formbricks.santiagolarrain.myds.me/api/v1/management/surveys\"",
      "metadata": {
        "trusted": false
      },
      "outputs": [],
      "execution_count": 24
    },
    {
      "id": "5a07264c-4528-4a8d-9653-5cd44dc39fb3",
      "cell_type": "code",
      "source": "",
      "metadata": {
        "trusted": false
      },
      "outputs": [],
      "execution_count": null
    },
    {
      "id": "8c127b1e-520e-4831-997f-195dc7ad8314",
      "cell_type": "code",
      "source": "payload = {\n    \"name\": \"Comidas_Campo_02\",\n    \"type\": \"link\",\n    \"environmentId\": \"clzn7at1v0008hbkt69ir51zv\",\n    \"welcomeCard\": {\n        \"html\": {\"default\": \"Thanks for providing your feedback - let's go!\"},\n        \"enabled\": False,\n        \"headline\": {\"default\": \"Welcome!\"},\n        \"timeToFinish\": False,\n        \"showResponseCount\": False\n    },\n    \"questions\": [\n        {\n            \"id\": \"pmookejsbpz1aidos27ldbkz\",\n            \"type\": \"multipleChoiceSingle\",\n            \"logic\": [\n                {\n                    \"value\": \"Papas\",\n                    \"condition\": \"equals\",\n                    \"destination\": \"ce46zr8gs8odvjpcz7uq4oag\"\n                },\n                {\n                    \"value\": \"Ale\",\n                    \"condition\": \"equals\",\n                    \"destination\": \"pa9f72zqfu8pellxtzw2lrde\"\n                },\n                {\n                    \"value\": \"Santiago\",\n                    \"condition\": \"equals\",\n                    \"destination\": \"jk4ml6lx3bzo1nzgv4fuolwd\"\n                }\n            ],\n            \"choices\": [\n                {\n                    \"id\": \"y91ea6h8gbyo3thcjqgexav1\",\n                    \"label\": {\"default\": \"Papas\"}\n                },\n                {\n                    \"id\": \"bif7ip1nujrwtawb99cbd8cd\",\n                    \"label\": {\"default\": \"Ale\"}\n                },\n                {\n                    \"id\": \"o0tvmxhqne3lq0e4rsf5yptm\",\n                    \"label\": {\"default\": \"Santiago\"}\n                }\n            ],\n            \"headline\": {\"default\": \"Familia\"},\n            \"required\": True,\n            \"inputType\": \"text\",\n            \"subheader\": {\"default\": \"Fechas por determinar\"},\n            \"placeholder\": {\"default\": \"Type your answer here...\"},\n            \"shuffleOption\": \"none\"\n        },\n        {\n            \"id\": \"ce46zr8gs8odvjpcz7uq4oag\",\n            \"html\": {\"default\": \"<p class=\\\"fb-editor-paragraph\\\"><br></p>\"},\n            \"rows\": [{\"default\": \"Rose \ud83c\udf39\"}, {\"default\": \"Sunflower \ud83c\udf3b\"}, {\"default\": \"Hibiscus \ud83c\udf3a\"}],\n            \"type\": \"multipleChoiceMulti\",\n            \"label\": {\"default\": \"I agree to the terms and conditions\"},\n            \"logic\": [\n                {\n                    \"condition\": \"submitted\",\n                    \"destination\": \"fcs00a5ncj1lobxb6jsjrtcj\"\n                },\n                {\n                    \"condition\": \"skipped\",\n                    \"destination\": \"fcs00a5ncj1lobxb6jsjrtcj\"\n                }\n            ],\n            \"range\": 5,\n            \"scale\": \"star\",\n            \"format\": \"y-M-d\",\n            \"choices\": [\n                {\n                    \"id\": \"y91ea6h8gbyo3thcjqgexav1\",\n                    \"label\": {\"default\": \"2024/07/14\"}\n                },\n                {\n                    \"id\": \"bif7ip1nujrwtawb99cbd8cd\",\n                    \"label\": {\"default\": \"2024/07/15\"}\n                },\n                {\n                    \"id\": \"co8zum24dl0e1e1s8i0ioni5\",\n                    \"label\": {\"default\": \"2024/07/16\"}\n                },\n                {\n                    \"id\": \"xnum4rt1emj9lhqxbs6rg8wm\",\n                    \"label\": {\"default\": \"2024/07/17\"}\n                }\n            ],\n            \"columns\": [{\"default\": \"0\"}, {\"default\": \"1\"}, {\"default\": \"2\"}, {\"default\": \"3\"}],\n            \"headline\": {\"default\": \"Familia Papa: Mama\"},\n            \"required\": False,\n            \"subheader\": {\"default\": \"Mama\"},\n            \"lowerLabel\": {\"default\": \"Not at all likely\"},\n            \"upperLabel\": {\"default\": \"Extremely likely\"},\n            \"calUserName\": \"rick/get-rick-rolled\",\n            \"isZipRequired\": False,\n            \"shuffleOption\": \"none\",\n            \"isCityRequired\": False,\n            \"isStateRequired\": False,\n            \"isCountryRequired\": False,\n            \"isAddressLine1Required\": False,\n            \"isAddressLine2Required\": False\n        },\n        {\n            \"id\": \"fcs00a5ncj1lobxb6jsjrtcj\",\n            \"html\": {\"default\": \"<p class=\\\"fb-editor-paragraph\\\"><br></p>\"},\n            \"rows\": [{\"default\": \"Rose \ud83c\udf39\"}, {\"default\": \"Sunflower \ud83c\udf3b\"}, {\"default\": \"Hibiscus \ud83c\udf3a\"}],\n            \"type\": \"multipleChoiceMulti\",\n            \"label\": {\"default\": \"I agree to the terms and conditions\"},\n            \"logic\": [\n                {\n                    \"condition\": \"submitted\",\n                    \"destination\": \"myu635b35o2nk86cn8pcth8o\"\n                },\n                {\n                    \"condition\": \"skipped\",\n                    \"destination\": \"myu635b35o2nk86cn8pcth8o\"\n                }\n            ],\n            \"range\": 5,\n            \"scale\": \"star\",\n            \"format\": \"y-M-d\",\n            \"choices\": [\n                {\n                    \"id\": \"y91ea6h8gbyo3thcjqgexav1\",\n                    \"label\": {\"default\": \"2024/07/14\"}\n                },\n                {\n                    \"id\": \"bif7ip1nujrwtawb99cbd8cd\",\n                    \"label\": {\"default\": \"2024/07/15\"}\n                },\n                {\n                    \"id\": \"co8zum24dl0e1e1s8i0ioni5\",\n                    \"label\": {\"default\": \"2024/07/16\"}\n                },\n                {\n                    \"id\": \"xnum4rt1emj9lhqxbs6rg8wm\",\n                    \"label\": {\"default\": \"2024/07/17\"}\n                }\n            ],\n            \"columns\": [{\"default\": \"0\"}, {\"default\": \"1\"}, {\"default\": \"2\"}, {\"default\": \"3\"}],\n            \"headline\": {\"default\": \"Familia Papas: Papa\"},\n            \"required\": False,\n            \"subheader\": {\"default\": \"Papa\"},\n            \"lowerLabel\": {\"default\": \"Not at all likely\"},\n            \"upperLabel\": {\"default\": \"Extremely likely\"},\n            \"calUserName\": \"rick/get-rick-rolled\",\n            \"isZipRequired\": False,\n            \"shuffleOption\": \"none\",\n            \"isCityRequired\": False,\n            \"isStateRequired\": False,\n            \"isCountryRequired\": False,\n            \"isAddressLine1Required\": False,\n            \"isAddressLine2Required\": False\n        },\n        {\n            \"id\": \"myu635b35o2nk86cn8pcth8o\",\n            \"html\": {\"default\": \"<p class=\\\"fb-editor-paragraph\\\"><br></p>\"},\n            \"rows\": [{\"default\": \"Rose \ud83c\udf39\"}, {\"default\": \"Sunflower \ud83c\udf3b\"}, {\"default\": \"Hibiscus \ud83c\udf3a\"}],\n            \"type\": \"multipleChoiceMulti\",\n            \"label\": {\"default\": \"I agree to the terms and conditions\"},\n            \"logic\": [\n                {\n                    \"condition\": \"submitted\",\n                    \"destination\": \"ljfy857hksiyw0cyn061mgd9\"\n                },\n                {\n                    \"condition\": \"skipped\",\n                    \"destination\": \"ljfy857hksiyw0cyn061mgd9\"\n                }\n            ],\n            \"range\": 5,\n            \"scale\": \"star\",\n            \"format\": \"y-M-d\",\n            \"choices\": [\n                {\n                    \"id\": \"y91ea6h8gbyo3thcjqgexav1\",\n                    \"label\": {\"default\": \"2024/07/14\"}\n                },\n                {\n                    \"id\": \"bif7ip1nujrwtawb99cbd8cd\",\n                    \"label\": {\"default\": \"2024/07/15\"}\n                },\n                {\n                    \"id\": \"co8zum24dl0e1e1s8i0ioni5\",\n                    \"label\": {\"default\": \"2024/07/16\"}\n                },\n                {\n                    \"id\": \"xnum4rt1emj9lhqxbs6rg8wm\",\n                    \"label\": {\"default\": \"2024/07/17\"}\n                }\n            ],\n            \"columns\": [{\"default\": \"0\"}, {\"default\": \"1\"}, {\"default\": \"2\"}, {\"default\": \"3\"}],\n            \"headline\": {\"default\": \"Familia Papas: Toli\"},\n            \"required\": False,\n            \"subheader\": {\"default\": \"Toli\"},\n            \"lowerLabel\": {\"default\": \"Not at all likely\"},\n            \"upperLabel\": {\"default\": \"Extremely likely\"},\n            \"calUserName\": \"rick/get-rick-rolled\",\n            \"isZipRequired\": False,\n            \"shuffleOption\": \"none\",\n            \"isCityRequired\": False,\n            \"isStateRequired\": False,\n            \"isCountryRequired\": False,\n            \"isAddressLine1Required\": False,\n            \"isAddressLine2Required\": False\n        },\n        {\n            \"id\": \"pa9f72zqfu8pellxtzw2lrde\",\n            \"html\": {\"default\": \"<p class=\\\"fb-editor-paragraph\\\"><br></p>\"},\n            \"rows\": [{\"default\": \"Rose \ud83c\udf39\"}, {\"default\": \"Sunflower \ud83c\udf3b\"}, {\"default\": \"Hibiscus \ud83c\udf3a\"}],\n            \"type\": \"multipleChoiceMulti\",\n            \"label\": {\"default\": \"I agree to the terms and conditions\"},\n            \"logic\": [\n                {\n                    \"condition\": \"submitted\",\n                    \"destination\": \"wijazzlw3e3izuyyt9bomev9\"\n                },\n                {\n                    \"condition\": \"skipped\",\n                    \"destination\": \"wijazzlw3e3izuyyt9bomev9\"\n                }\n            ],\n            \"range\": 5,\n            \"scale\": \"star\",\n            \"format\": \"y-M-d\",\n            \"choices\": [\n                {\n                    \"id\": \"y91ea6h8gbyo3thcjqgexav1\",\n                    \"label\": {\"default\": \"2024/07/14\"}\n                },\n                {\n                    \"id\": \"bif7ip1nujrwtawb99cbd8cd\",\n                    \"label\": {\"default\": \"2024/07/15\"}\n                },\n                {\n                    \"id\": \"co8zum24dl0e1e1s8i0ioni5\",\n                    \"label\": {\"default\": \"2024/07/16\"}\n                },\n                {\n                    \"id\": \"xnum4rt1emj9lhqxbs6rg8wm\",\n                    \"label\": {\"default\": \"2024/07/17\"}\n                }\n            ],\n            \"columns\": [{\"default\": \"0\"}, {\"default\": \"1\"}, {\"default\": \"2\"}, {\"default\": \"3\"}],\n            \"headline\": {\"default\": \"Familia Ale: Ale\"},\n            \"required\": False,\n            \"subheader\": {\"default\": \"Ale\"},\n            \"lowerLabel\": {\"default\": \"Not at all likely\"},\n            \"upperLabel\": {\"default\": \"Extremely likely\"},\n            \"calUserName\": \"rick/get-rick-rolled\",\n            \"isZipRequired\": False,\n            \"shuffleOption\": \"none\",\n            \"isCityRequired\": False,\n            \"isStateRequired\": False,\n            \"isCountryRequired\": False,\n            \"isAddressLine1Required\": False,\n            \"isAddressLine2Required\": False\n        },\n        {\n            \"id\": \"wijazzlw3e3izuyyt9bomev9\",\n            \"html\": {\"default\": \"<p class=\\\"fb-editor-paragraph\\\"><br></p>\"},\n            \"rows\": [{\"default\": \"Rose \ud83c\udf39\"}, {\"default\": \"Sunflower \ud83c\udf3b\"}, {\"default\": \"Hibiscus \ud83c\udf3a\"}],\n            \"type\": \"multipleChoiceMulti\",\n            \"label\": {\"default\": \"I agree to the terms and conditions\"},\n            \"logic\": [\n                {\n                    \"condition\": \"submitted\",\n                    \"destination\": \"honyxedbgeur1lsshjfeez0e\"\n                },\n                {\n                    \"condition\": \"skipped\",\n                    \"destination\": \"honyxedbgeur1lsshjfeez0e\"\n                }\n            ],\n            \"range\": 5,\n            \"scale\": \"star\",\n            \"format\": \"y-M-d\",\n            \"choices\": [\n                {\n                    \"id\": \"y91ea6h8gbyo3thcjqgexav1\",\n                    \"label\": {\"default\": \"2024/07/14\"}\n                },\n                {\n                    \"id\": \"bif7ip1nujrwtawb99cbd8cd\",\n                    \"label\": {\"default\": \"2024/07/15\"}\n                },\n                {\n                    \"id\": \"co8zum24dl0e1e1s8i0ioni5\",\n                    \"label\": {\"default\": \"2024/07/16\"}\n                },\n                {\n                    \"id\": \"xnum4rt1emj9lhqxbs6rg8wm\",\n                    \"label\": {\"default\": \"2024/07/17\"}\n                }\n            ],\n            \"columns\": [{\"default\": \"0\"}, {\"default\": \"1\"}, {\"default\": \"2\"}, {\"default\": \"3\"}],\n            \"headline\": {\"default\": \"Familia Ale: Jaime\"},\n            \"required\": False,\n            \"lowerLabel\": {\"default\": \"Not at all likely\"},\n            \"upperLabel\": {\"default\": \"Extremely likely\"},\n            \"calUserName\": \"rick/get-rick-rolled\",\n            \"isZipRequired\": False,\n            \"shuffleOption\": \"none\",\n            \"isCityRequired\": False,\n            \"isStateRequired\": False,\n            \"isCountryRequired\": False,\n            \"isAddressLine1Required\": False,\n            \"isAddressLine2Required\": False\n        },\n        {\n            \"id\": \"honyxedbgeur1lsshjfeez0e\",\n            \"html\": {\"default\": \"<p class=\\\"fb-editor-paragraph\\\"><br></p>\"},\n            \"rows\": [{\"default\": \"Rose \ud83c\udf39\"}, {\"default\": \"Sunflower \ud83c\udf3b\"}, {\"default\": \"Hibiscus \ud83c\udf3a\"}],\n            \"type\": \"multipleChoiceMulti\",\n            \"label\": {\"default\": \"I agree to the terms and conditions\"},\n            \"logic\": [\n                {\n                    \"condition\": \"submitted\",\n                    \"destination\": \"speebvzikomkh1cxbj9fyjxo\"\n                },\n                {\n                    \"condition\": \"skipped\",\n                    \"destination\": \"speebvzikomkh1cxbj9fyjxo\"\n                }\n            ],\n            \"range\": 5,\n            \"scale\": \"star\",\n            \"format\": \"y-M-d\",\n            \"choices\": [\n                {\n                    \"id\": \"y91ea6h8gbyo3thcjqgexav1\",\n                    \"label\": {\"default\": \"2024/07/14\"}\n                },\n                {\n                    \"id\": \"bif7ip1nujrwtawb99cbd8cd\",\n                    \"label\": {\"default\": \"2024/07/15\"}\n                },\n                {\n                    \"id\": \"co8zum24dl0e1e1s8i0ioni5\",\n                    \"label\": {\"default\": \"2024/07/16\"}\n                },\n                {\n                    \"id\": \"xnum4rt1emj9lhqxbs6rg8wm\",\n                    \"label\": {\"default\": \"2024/07/17\"}\n                }\n            ],\n            \"columns\": [{\"default\": \"0\"}, {\"default\": \"1\"}, {\"default\": \"2\"}, {\"default\": \"3\"}],\n            \"headline\": {\"default\": \"Familia Ale: Jaimito\"},\n            \"required\": False,\n            \"lowerLabel\": {\"default\": \"Not at all likely\"},\n            \"upperLabel\": {\"default\": \"Extremely likely\"},\n            \"calUserName\": \"rick/get-rick-rolled\",\n            \"isZipRequired\": False,\n            \"shuffleOption\": \"none\",\n            \"isCityRequired\": False,\n            \"isStateRequired\": False,\n            \"isCountryRequired\": False,\n            \"isAddressLine1Required\": False,\n            \"isAddressLine2Required\": False\n        },\n        {\n            \"id\": \"speebvzikomkh1cxbj9fyjxo\",\n            \"html\": {\"default\": \"<p class=\\\"fb-editor-paragraph\\\"><br></p>\"},\n            \"rows\": [{\"default\": \"Rose \ud83c\udf39\"}, {\"default\": \"Sunflower \ud83c\udf3b\"}, {\"default\": \"Hibiscus \ud83c\udf3a\"}],\n            \"type\": \"multipleChoiceMulti\",\n            \"label\": {\"default\": \"I agree to the terms and conditions\"},\n            \"logic\": [\n                {\n                    \"condition\": \"submitted\",\n                    \"destination\": \"ue6p825ojpk5xeoxa4e83wti\"\n                },\n                {\n                    \"condition\": \"skipped\",\n                    \"destination\": \"ue6p825ojpk5xeoxa4e83wti\"\n                }\n            ],\n            \"range\": 5,\n            \"scale\": \"star\",\n            \"format\": \"y-M-d\",\n            \"choices\": [\n                {\n                    \"id\": \"y91ea6h8gbyo3thcjqgexav1\",\n                    \"label\": {\"default\": \"2024/07/14\"}\n                },\n                {\n                    \"id\": \"bif7ip1nujrwtawb99cbd8cd\",\n                    \"label\": {\"default\": \"2024/07/15\"}\n                },\n                {\n                    \"id\": \"co8zum24dl0e1e1s8i0ioni5\",\n                    \"label\": {\"default\": \"2024/07/16\"}\n                },\n                {\n                    \"id\": \"xnum4rt1emj9lhqxbs6rg8wm\",\n                    \"label\": {\"default\": \"2024/07/17\"}\n                }\n            ],\n            \"columns\": [{\"default\": \"0\"}, {\"default\": \"1\"}, {\"default\": \"2\"}, {\"default\": \"3\"}],\n            \"headline\": {\"default\": \"Familia Ale: Jacinta\"},\n            \"required\": False,\n            \"lowerLabel\": {\"default\": \"Not at all likely\"},\n            \"upperLabel\": {\"default\": \"Extremely likely\"},\n            \"calUserName\": \"rick/get-rick-rolled\",\n            \"isZipRequired\": False,\n            \"shuffleOption\": \"none\",\n            \"isCityRequired\": False,\n            \"isStateRequired\": False,\n            \"isCountryRequired\": False,\n            \"isAddressLine1Required\": False,\n            \"isAddressLine2Required\": False\n        },\n        {\n            \"id\": \"jk4ml6lx3bzo1nzgv4fuolwd\",\n            \"html\": {\"default\": \"<p class=\\\"fb-editor-paragraph\\\"><br></p>\"},\n            \"rows\": [{\"default\": \"Rose \ud83c\udf39\"}, {\"default\": \"Sunflower \ud83c\udf3b\"}, {\"default\": \"Hibiscus \ud83c\udf3a\"}],\n            \"type\": \"multipleChoiceMulti\",\n            \"label\": {\"default\": \"I agree to the terms and conditions\"},\n            \"logic\": [\n                {\n                    \"condition\": \"submitted\",\n                    \"destination\": \"cd2k7vu2wy499b8e9s1ax14f\"\n                },\n                {\n                    \"condition\": \"skipped\",\n                    \"destination\": \"cd2k7vu2wy499b8e9s1ax14f\"\n                }\n            ],\n            \"range\": 5,\n            \"scale\": \"star\",\n            \"format\": \"y-M-d\",\n            \"choices\": [\n                {\n                    \"id\": \"y91ea6h8gbyo3thcjqgexav1\",\n                    \"label\": {\"default\": \"2024/07/14\"}\n                },\n                {\n                    \"id\": \"bif7ip1nujrwtawb99cbd8cd\",\n                    \"label\": {\"default\": \"2024/07/15\"}\n                },\n                {\n                    \"id\": \"co8zum24dl0e1e1s8i0ioni5\",\n                    \"label\": {\"default\": \"2024/07/16\"}\n                },\n                {\n                    \"id\": \"xnum4rt1emj9lhqxbs6rg8wm\",\n                    \"label\": {\"default\": \"2024/07/17\"}\n                }\n            ],\n            \"columns\": [{\"default\": \"0\"}, {\"default\": \"1\"}, {\"default\": \"2\"}, {\"default\": \"3\"}],\n            \"headline\": {\"default\": \"Familia Santiago: Santiago\"},\n            \"required\": False,\n            \"lowerLabel\": {\"default\": \"Not at all likely\"},\n            \"upperLabel\": {\"default\": \"Extremely likely\"},\n            \"calUserName\": \"rick/get-rick-rolled\",\n            \"isZipRequired\": False,\n            \"shuffleOption\": \"none\",\n            \"isCityRequired\": False,\n            \"isStateRequired\": False,\n            \"isCountryRequired\": False,\n            \"isAddressLine1Required\": False,\n            \"isAddressLine2Required\": False\n        },\n        {\n            \"id\": \"cd2k7vu2wy499b8e9s1ax14f\",\n            \"html\": {\"default\": \"<p class=\\\"fb-editor-paragraph\\\"><br></p>\"},\n            \"rows\": [{\"default\": \"Rose \ud83c\udf39\"}, {\"default\": \"Sunflower \ud83c\udf3b\"}, {\"default\": \"Hibiscus \ud83c\udf3a\"}],\n            \"type\": \"multipleChoiceMulti\",\n            \"label\": {\"default\": \"I agree to the terms and conditions\"},\n            \"logic\": [\n                {\n                    \"condition\": \"submitted\",\n                    \"destination\": \"zdz3okm5c87lb359rzyvv972\"\n                },\n                {\n                    \"condition\": \"skipped\",\n                    \"destination\": \"zdz3okm5c87lb359rzyvv972\"\n                }\n            ],\n            \"range\": 5,\n            \"scale\": \"star\",\n            \"format\": \"y-M-d\",\n            \"choices\": [\n                {\n                    \"id\": \"y91ea6h8gbyo3thcjqgexav1\",\n                    \"label\": {\"default\": \"2024/07/14\"}\n                },\n                {\n                    \"id\": \"bif7ip1nujrwtawb99cbd8cd\",\n                    \"label\": {\"default\": \"2024/07/15\"}\n                },\n                {\n                    \"id\": \"co8zum24dl0e1e1s8i0ioni5\",\n                    \"label\": {\"default\": \"2024/07/16\"}\n                },\n                {\n                    \"id\": \"xnum4rt1emj9lhqxbs6rg8wm\",\n                    \"label\": {\"default\": \"2024/07/17\"}\n                }\n            ],\n            \"columns\": [{\"default\": \"0\"}, {\"default\": \"1\"}, {\"default\": \"2\"}, {\"default\": \"3\"}],\n            \"headline\": {\"default\": \"Familia Santiago: Camila\"},\n            \"required\": False,\n            \"subheader\": {\"default\": \"Ale\"},\n            \"lowerLabel\": {\"default\": \"Not at all likely\"},\n            \"upperLabel\": {\"default\": \"Extremely likely\"},\n            \"calUserName\": \"rick/get-rick-rolled\",\n            \"isZipRequired\": False,\n            \"shuffleOption\": \"none\",\n            \"isCityRequired\": False,\n            \"isStateRequired\": False,\n            \"isCountryRequired\": False,\n            \"isAddressLine1Required\": False,\n            \"isAddressLine2Required\": False\n        },\n        {\n            \"id\": \"zdz3okm5c87lb359rzyvv972\",\n            \"html\": {\"default\": \"<p class=\\\"fb-editor-paragraph\\\"><br></p>\"},\n            \"rows\": [{\"default\": \"Rose \ud83c\udf39\"}, {\"default\": \"Sunflower \ud83c\udf3b\"}, {\"default\": \"Hibiscus \ud83c\udf3a\"}],\n            \"type\": \"multipleChoiceMulti\",\n            \"label\": {\"default\": \"I agree to the terms and conditions\"},\n            \"logic\": [\n                {\n                    \"condition\": \"submitted\",\n                    \"destination\": \"knxgpxtmxu5glpbafi0kouez\"\n                },\n                {\n                    \"condition\": \"skipped\",\n                    \"destination\": \"knxgpxtmxu5glpbafi0kouez\"\n                }\n            ],\n            \"range\": 5,\n            \"scale\": \"star\",\n            \"format\": \"y-M-d\",\n            \"choices\": [\n                {\n                    \"id\": \"y91ea6h8gbyo3thcjqgexav1\",\n                    \"label\": {\"default\": \"2024/07/14\"}\n                },\n                {\n                    \"id\": \"bif7ip1nujrwtawb99cbd8cd\",\n                    \"label\": {\"default\": \"2024/07/15\"}\n                },\n                {\n                    \"id\": \"co8zum24dl0e1e1s8i0ioni5\",\n                    \"label\": {\"default\": \"2024/07/16\"}\n                },\n                {\n                    \"id\": \"xnum4rt1emj9lhqxbs6rg8wm\",\n                    \"label\": {\"default\": \"2024/07/17\"}\n                }\n            ],\n            \"columns\": [{\"default\": \"0\"}, {\"default\": \"1\"}, {\"default\": \"2\"}, {\"default\": \"3\"}],\n            \"headline\": {\"default\": \"Familia Santiago: Juanita\"},\n            \"required\": False,\n            \"subheader\": {\"default\": \"Ale\"},\n            \"lowerLabel\": {\"default\": \"Not at all likely\"},\n            \"upperLabel\": {\"default\": \"Extremely likely\"},\n            \"calUserName\": \"rick/get-rick-rolled\",\n            \"isZipRequired\": False,\n            \"shuffleOption\": \"none\",\n            \"isCityRequired\": False,\n            \"isStateRequired\": False,\n            \"isCountryRequired\": False,\n            \"isAddressLine1Required\": False,\n            \"isAddressLine2Required\": False\n        },\n        {\n            \"id\": \"ljfy857hksiyw0cyn061mgd9\",\n            \"type\": \"openText\",\n            \"logic\": [\n                {\n                    \"condition\": \"submitted\",\n                    \"destination\": \"qzjup1gznozx1feryxcu3dp1\"\n                },\n                {\n                    \"condition\": \"skipped\",\n                    \"destination\": \"irqmb8twke3rkhldi858pihl\"\n                }\n            ],\n            \"headline\": {\"default\": \"Total Gastos atribuibles al Campo: Mama\"},\n            \"required\": False,\n            \"inputType\": \"number\",\n            \"subheader\": {\"default\": \"Ingresar la suma total de los gastos o cuentas que se deben repartir entre todos: por ejemplo, pedidos del Lider, pedidos traidos desde Santiago, Verduraas, etc. Excluir cosas individuales, como alcohol, chocolates, etc.\"},\n            \"longAnswer\": False,\n            \"placeholder\": {\"default\": \"250000\"}\n        },\n        {\n            \"id\": \"qzjup1gznozx1feryxcu3dp1\",\n            \"type\": \"openText\",\n            \"logic\": [\n                {\n                    \"condition\": \"submitted\",\n                    \"destination\": \"irqmb8twke3rkhldi858pihl\"\n                },\n                {\n                    \"condition\": \"skipped\",\n                    \"destination\": \"irqmb8twke3rkhldi858pihl\"\n                }\n            ],\n            \"headline\": {\"default\": \"Detalle cuentas: Mama\"},\n            \"required\": False,\n            \"inputType\": \"text\",\n            \"subheader\": {\"default\": \"Si tienes m\u00e1s de una cuenta, aqu\u00ed puedes poner el detalle para el reporte. El formato ser\u00eda MONTO - DESCRIPCION, uno por l\u00ednea. Este campo es opcional.\"},\n            \"longAnswer\": True,\n            \"placeholder\": {\"default\": \"153.000 - Pedido Lider\"}\n        },\n        {\n            \"id\": \"ue6p825ojpk5xeoxa4e83wti\",\n            \"type\": \"openText\",\n            \"logic\": [\n                {\n                    \"condition\": \"submitted\",\n                    \"destination\": \"azvjpwl3ikh2fng7gt3wk9zi\"\n                },\n                {\n                    \"condition\": \"skipped\",\n                    \"destination\": \"irqmb8twke3rkhldi858pihl\"\n                }\n            ],\n            \"headline\": {\"default\": \"Total Gastos atribuibles al Campo: Ale\"},\n            \"required\": False,\n            \"inputType\": \"number\",\n            \"subheader\": {\"default\": \"Ingresar la suma total de los gastos o cuentas que se deben repartir entre todos: por ejemplo, pedidos del Lider, pedidos traidos desde Santiago, Verduraas, etc. Excluir cosas individuales, como alcohol, chocolates, etc.\"},\n            \"longAnswer\": False,\n            \"placeholder\": {\"default\": \"250000\"}\n        },\n        {\n            \"id\": \"azvjpwl3ikh2fng7gt3wk9zi\",\n            \"type\": \"openText\",\n            \"logic\": [\n                {\n                    \"condition\": \"submitted\",\n                    \"destination\": \"irqmb8twke3rkhldi858pihl\"\n                },\n                {\n                    \"condition\": \"skipped\",\n                    \"destination\": \"irqmb8twke3rkhldi858pihl\"\n                }\n            ],\n            \"headline\": {\"default\": \"Detalle cuentas: Ale\"},\n            \"required\": False,\n            \"inputType\": \"text\",\n            \"subheader\": {\"default\": \"Si tienes m\u00e1s de una cuenta, aqu\u00ed puedes poner el detalle para el reporte. El formato ser\u00eda MONTO - DESCRIPCION, uno por l\u00ednea. Este campo es opcional.\"},\n            \"longAnswer\": True,\n            \"placeholder\": {\"default\": \"153.000 - Pedido Lider\"}\n        },\n        {\n            \"id\": \"knxgpxtmxu5glpbafi0kouez\",\n            \"type\": \"openText\",\n            \"logic\": [\n                {\n                    \"condition\": \"submitted\",\n                    \"destination\": \"tn79qtsoydq1fjmohkt8x5ue\"\n                },\n                {\n                    \"condition\": \"skipped\",\n                    \"destination\": \"irqmb8twke3rkhldi858pihl\"\n                }\n            ],\n            \"headline\": {\"default\": \"Total Gastos atribuibles al Campo: Santiago\"},\n            \"required\": False,\n            \"inputType\": \"number\",\n            \"subheader\": {\"default\": \"Ingresar la suma total de los gastos o cuentas que se deben repartir entre todos: por ejemplo, pedidos del Lider, pedidos traidos desde Santiago, Verduraas, etc. Excluir cosas individuales, como alcohol, chocolates, etc.\"},\n            \"longAnswer\": False,\n            \"placeholder\": {\"default\": \"250000\"}\n        },\n        {\n            \"id\": \"tn79qtsoydq1fjmohkt8x5ue\",\n            \"type\": \"openText\",\n            \"logic\": [\n                {\n                    \"condition\": \"submitted\",\n                    \"destination\": \"irqmb8twke3rkhldi858pihl\"\n                },\n                {\n                    \"condition\": \"skipped\",\n                    \"destination\": \"irqmb8twke3rkhldi858pihl\"\n                }\n            ],\n            \"headline\": {\"default\": \"Detalle cuentas: Santiago\"},\n            \"required\": False,\n            \"inputType\": \"text\",\n            \"subheader\": {\"default\": \"Si tienes m\u00e1s de una cuenta, aqu\u00ed puedes poner el detalle para el reporte. El formato ser\u00eda MONTO - DESCRIPCION, uno por l\u00ednea. Este campo es opcional.\"},\n            \"longAnswer\": True,\n            \"placeholder\": {\"default\": \"153.000 - Pedido Lider\"}\n        }\n    ],\n    \"endings\": [\n        {\n            \"id\": \"irqmb8twke3rkhldi858pihl\",\n            \"type\": \"endScreen\",\n            \"headline\": {\"default\": \"Muchas gracias.\"},\n            \"subheader\": {\"default\": \"Recuerda que es tu responsabilidad introducir los datos de forma correcta.\"}\n        }\n    ],\n    \"hiddenFields\": {\n        \"enabled\": True,\n        \"fieldIds\": []\n    },\n    \"displayOption\": \"displayOnce\",\n    \"recontactDays\": None,\n    \"displayLimit\": None,\n    \"autoClose\": None,\n    \"runOnDate\": None,\n    \"closeOnDate\": None,\n    \"delay\": 0,\n    \"displayPercentage\": None,\n    \"autoComplete\": None,\n    \"isVerifyEmailEnabled\": False,\n    \"redirectUrl\": None,\n    \"productOverwrites\": None,\n    \"styling\": {\n        \"roundness\": 8,\n        \"brandColor\": {\"light\": \"#2862b4\"},\n        \"inputColor\": {\"light\": \"#ffffff\"},\n        \"isLogoHidden\": False,\n        \"questionColor\": {\"light\": \"#2b2524\"},\n        \"cardArrangement\": {\n            \"appSurveys\": \"simple\",\n            \"linkSurveys\": \"simple\"\n        },\n        \"cardBorderColor\": {\"light\": \"#f8fafc\"},\n        \"cardShadowColor\": {\"light\": \"#000000\"},\n        \"hideProgressBar\": False,\n        \"inputBorderColor\": {\"light\": \"#cbd5e1\"},\n        \"isDarkModeEnabled\": False,\n        \"cardBackgroundColor\": {\"light\": \"#ffffff\"}\n    },\n    \"surveyClosedMessage\": None,\n    \"singleUse\": {\n        \"enabled\": False,\n        \"isEncrypted\": True\n    }\n}",
      "metadata": {
        "jupyter": {
          "source_hidden": true
        },
        "trusted": false
      },
      "outputs": [],
      "execution_count": 20
    },
    {
      "id": "dc80d395-f92f-4de1-97b7-55b74cb039c6",
      "cell_type": "code",
      "source": "response = requests.request(\"POST\", url, json=payload, headers=headers)\n\nprint(response.text)",
      "metadata": {
        "trusted": false
      },
      "outputs": [
        {
          "name": "stdout",
          "output_type": "stream",
          "text": [
            "{\"data\":{\"id\":\"cm08tu11q001qhbktl4aporba\",\"createdAt\":\"2024-08-25T00:24:09.327Z\",\"updatedAt\":\"2024-08-25T00:24:09.327Z\",\"name\":\"comidas_campo_03\",\"type\":\"link\",\"environmentId\":\"clzn7at1v0008hbkt69ir51zv\",\"createdBy\":null,\"status\":\"draft\",\"welcomeCard\":{\"html\":{\"default\":\"Thanks for providing your feedback - let's go!\"},\"enabled\":false,\"headline\":{\"default\":\"Welcome!\"},\"timeToFinish\":false,\"showResponseCount\":false},\"questions\":[{\"id\":\"pmookejsbpz1aidos27ldbkz\",\"type\":\"multipleChoiceSingle\",\"logic\":[{\"value\":\"Papas\",\"condition\":\"equals\",\"destination\":\"ce46zr8gs8odvjpcz7uq4oag\"},{\"value\":\"Ale\",\"condition\":\"equals\",\"destination\":\"pa9f72zqfu8pellxtzw2lrde\"},{\"value\":\"Santiago\",\"condition\":\"equals\",\"destination\":\"jk4ml6lx3bzo1nzgv4fuolwd\"}],\"choices\":[{\"id\":\"y91ea6h8gbyo3thcjqgexav1\",\"label\":{\"default\":\"Papas\"}},{\"id\":\"bif7ip1nujrwtawb99cbd8cd\",\"label\":{\"default\":\"Ale\"}},{\"id\":\"o0tvmxhqne3lq0e4rsf5yptm\",\"label\":{\"default\":\"Santiago\"}}],\"headline\":{\"default\":\"Familia\"},\"required\":true,\"subheader\":{\"default\":\"Fechas por determinar\"},\"shuffleOption\":\"none\"},{\"id\":\"ce46zr8gs8odvjpcz7uq4oag\",\"type\":\"multipleChoiceMulti\",\"logic\":[{\"condition\":\"submitted\",\"destination\":\"fcs00a5ncj1lobxb6jsjrtcj\"},{\"condition\":\"skipped\",\"destination\":\"fcs00a5ncj1lobxb6jsjrtcj\"}],\"range\":5,\"scale\":\"star\",\"choices\":[{\"id\":\"0\",\"label\":{\"default\":\"2024/08/15\"}},{\"id\":\"1\",\"label\":{\"default\":\"2024/08/16\"}},{\"id\":\"2\",\"label\":{\"default\":\"2024/08/17\"}},{\"id\":\"3\",\"label\":{\"default\":\"2024/08/18\"}},{\"id\":\"4\",\"label\":{\"default\":\"2024/08/19\"}},{\"id\":\"5\",\"label\":{\"default\":\"2024/08/20\"}},{\"id\":\"6\",\"label\":{\"default\":\"2024/08/21\"}}],\"headline\":{\"default\":\"Familia Papa: Mama\"},\"required\":false,\"subheader\":{\"default\":\"Mama\"},\"shuffleOption\":\"none\"},{\"id\":\"fcs00a5ncj1lobxb6jsjrtcj\",\"type\":\"multipleChoiceMulti\",\"logic\":[{\"condition\":\"submitted\",\"destination\":\"myu635b35o2nk86cn8pcth8o\"},{\"condition\":\"skipped\",\"destination\":\"myu635b35o2nk86cn8pcth8o\"}],\"range\":5,\"scale\":\"star\",\"choices\":[{\"id\":\"0\",\"label\":{\"default\":\"2024/08/15\"}},{\"id\":\"1\",\"label\":{\"default\":\"2024/08/16\"}},{\"id\":\"2\",\"label\":{\"default\":\"2024/08/17\"}},{\"id\":\"3\",\"label\":{\"default\":\"2024/08/18\"}},{\"id\":\"4\",\"label\":{\"default\":\"2024/08/19\"}},{\"id\":\"5\",\"label\":{\"default\":\"2024/08/20\"}},{\"id\":\"6\",\"label\":{\"default\":\"2024/08/21\"}}],\"headline\":{\"default\":\"Familia Papas: Papa\"},\"required\":false,\"subheader\":{\"default\":\"Papa\"},\"shuffleOption\":\"none\"},{\"id\":\"myu635b35o2nk86cn8pcth8o\",\"type\":\"multipleChoiceMulti\",\"logic\":[{\"condition\":\"submitted\",\"destination\":\"ljfy857hksiyw0cyn061mgd9\"},{\"condition\":\"skipped\",\"destination\":\"ljfy857hksiyw0cyn061mgd9\"}],\"range\":5,\"scale\":\"star\",\"choices\":[{\"id\":\"0\",\"label\":{\"default\":\"2024/08/15\"}},{\"id\":\"1\",\"label\":{\"default\":\"2024/08/16\"}},{\"id\":\"2\",\"label\":{\"default\":\"2024/08/17\"}},{\"id\":\"3\",\"label\":{\"default\":\"2024/08/18\"}},{\"id\":\"4\",\"label\":{\"default\":\"2024/08/19\"}},{\"id\":\"5\",\"label\":{\"default\":\"2024/08/20\"}},{\"id\":\"6\",\"label\":{\"default\":\"2024/08/21\"}}],\"headline\":{\"default\":\"Familia Papas: Toli\"},\"required\":false,\"subheader\":{\"default\":\"Toli\"},\"shuffleOption\":\"none\"},{\"id\":\"pa9f72zqfu8pellxtzw2lrde\",\"type\":\"multipleChoiceMulti\",\"logic\":[{\"condition\":\"submitted\",\"destination\":\"wijazzlw3e3izuyyt9bomev9\"},{\"condition\":\"skipped\",\"destination\":\"wijazzlw3e3izuyyt9bomev9\"}],\"range\":5,\"scale\":\"star\",\"choices\":[{\"id\":\"0\",\"label\":{\"default\":\"2024/08/15\"}},{\"id\":\"1\",\"label\":{\"default\":\"2024/08/16\"}},{\"id\":\"2\",\"label\":{\"default\":\"2024/08/17\"}},{\"id\":\"3\",\"label\":{\"default\":\"2024/08/18\"}},{\"id\":\"4\",\"label\":{\"default\":\"2024/08/19\"}},{\"id\":\"5\",\"label\":{\"default\":\"2024/08/20\"}},{\"id\":\"6\",\"label\":{\"default\":\"2024/08/21\"}}],\"headline\":{\"default\":\"Familia Ale: Ale\"},\"required\":false,\"subheader\":{\"default\":\"Ale\"},\"shuffleOption\":\"none\"},{\"id\":\"wijazzlw3e3izuyyt9bomev9\",\"type\":\"multipleChoiceMulti\",\"logic\":[{\"condition\":\"submitted\",\"destination\":\"honyxedbgeur1lsshjfeez0e\"},{\"condition\":\"skipped\",\"destination\":\"honyxedbgeur1lsshjfeez0e\"}],\"range\":5,\"scale\":\"star\",\"choices\":[{\"id\":\"0\",\"label\":{\"default\":\"2024/08/15\"}},{\"id\":\"1\",\"label\":{\"default\":\"2024/08/16\"}},{\"id\":\"2\",\"label\":{\"default\":\"2024/08/17\"}},{\"id\":\"3\",\"label\":{\"default\":\"2024/08/18\"}},{\"id\":\"4\",\"label\":{\"default\":\"2024/08/19\"}},{\"id\":\"5\",\"label\":{\"default\":\"2024/08/20\"}},{\"id\":\"6\",\"label\":{\"default\":\"2024/08/21\"}}],\"headline\":{\"default\":\"Familia Ale: Jaime\"},\"required\":false,\"shuffleOption\":\"none\"},{\"id\":\"honyxedbgeur1lsshjfeez0e\",\"type\":\"multipleChoiceMulti\",\"logic\":[{\"condition\":\"submitted\",\"destination\":\"speebvzikomkh1cxbj9fyjxo\"},{\"condition\":\"skipped\",\"destination\":\"speebvzikomkh1cxbj9fyjxo\"}],\"range\":5,\"scale\":\"star\",\"choices\":[{\"id\":\"0\",\"label\":{\"default\":\"2024/08/15\"}},{\"id\":\"1\",\"label\":{\"default\":\"2024/08/16\"}},{\"id\":\"2\",\"label\":{\"default\":\"2024/08/17\"}},{\"id\":\"3\",\"label\":{\"default\":\"2024/08/18\"}},{\"id\":\"4\",\"label\":{\"default\":\"2024/08/19\"}},{\"id\":\"5\",\"label\":{\"default\":\"2024/08/20\"}},{\"id\":\"6\",\"label\":{\"default\":\"2024/08/21\"}}],\"headline\":{\"default\":\"Familia Ale: Jaimito\"},\"required\":false,\"shuffleOption\":\"none\"},{\"id\":\"speebvzikomkh1cxbj9fyjxo\",\"type\":\"multipleChoiceMulti\",\"logic\":[{\"condition\":\"submitted\",\"destination\":\"ue6p825ojpk5xeoxa4e83wti\"},{\"condition\":\"skipped\",\"destination\":\"ue6p825ojpk5xeoxa4e83wti\"}],\"range\":5,\"scale\":\"star\",\"choices\":[{\"id\":\"0\",\"label\":{\"default\":\"2024/08/15\"}},{\"id\":\"1\",\"label\":{\"default\":\"2024/08/16\"}},{\"id\":\"2\",\"label\":{\"default\":\"2024/08/17\"}},{\"id\":\"3\",\"label\":{\"default\":\"2024/08/18\"}},{\"id\":\"4\",\"label\":{\"default\":\"2024/08/19\"}},{\"id\":\"5\",\"label\":{\"default\":\"2024/08/20\"}},{\"id\":\"6\",\"label\":{\"default\":\"2024/08/21\"}}],\"headline\":{\"default\":\"Familia Ale: Jacinta\"},\"required\":false,\"shuffleOption\":\"none\"},{\"id\":\"jk4ml6lx3bzo1nzgv4fuolwd\",\"type\":\"multipleChoiceMulti\",\"logic\":[{\"condition\":\"submitted\",\"destination\":\"cd2k7vu2wy499b8e9s1ax14f\"},{\"condition\":\"skipped\",\"destination\":\"cd2k7vu2wy499b8e9s1ax14f\"}],\"range\":5,\"scale\":\"star\",\"choices\":[{\"id\":\"0\",\"label\":{\"default\":\"2024/08/15\"}},{\"id\":\"1\",\"label\":{\"default\":\"2024/08/16\"}},{\"id\":\"2\",\"label\":{\"default\":\"2024/08/17\"}},{\"id\":\"3\",\"label\":{\"default\":\"2024/08/18\"}},{\"id\":\"4\",\"label\":{\"default\":\"2024/08/19\"}},{\"id\":\"5\",\"label\":{\"default\":\"2024/08/20\"}},{\"id\":\"6\",\"label\":{\"default\":\"2024/08/21\"}}],\"headline\":{\"default\":\"Familia Santiago: Santiago\"},\"required\":false,\"shuffleOption\":\"none\"},{\"id\":\"cd2k7vu2wy499b8e9s1ax14f\",\"type\":\"multipleChoiceMulti\",\"logic\":[{\"condition\":\"submitted\",\"destination\":\"zdz3okm5c87lb359rzyvv972\"},{\"condition\":\"skipped\",\"destination\":\"zdz3okm5c87lb359rzyvv972\"}],\"range\":5,\"scale\":\"star\",\"choices\":[{\"id\":\"0\",\"label\":{\"default\":\"2024/08/15\"}},{\"id\":\"1\",\"label\":{\"default\":\"2024/08/16\"}},{\"id\":\"2\",\"label\":{\"default\":\"2024/08/17\"}},{\"id\":\"3\",\"label\":{\"default\":\"2024/08/18\"}},{\"id\":\"4\",\"label\":{\"default\":\"2024/08/19\"}},{\"id\":\"5\",\"label\":{\"default\":\"2024/08/20\"}},{\"id\":\"6\",\"label\":{\"default\":\"2024/08/21\"}}],\"headline\":{\"default\":\"Familia Santiago: Camila\"},\"required\":false,\"subheader\":{\"default\":\"Ale\"},\"shuffleOption\":\"none\"},{\"id\":\"zdz3okm5c87lb359rzyvv972\",\"type\":\"multipleChoiceMulti\",\"logic\":[{\"condition\":\"submitted\",\"destination\":\"knxgpxtmxu5glpbafi0kouez\"},{\"condition\":\"skipped\",\"destination\":\"knxgpxtmxu5glpbafi0kouez\"}],\"range\":5,\"scale\":\"star\",\"choices\":[{\"id\":\"0\",\"label\":{\"default\":\"2024/08/15\"}},{\"id\":\"1\",\"label\":{\"default\":\"2024/08/16\"}},{\"id\":\"2\",\"label\":{\"default\":\"2024/08/17\"}},{\"id\":\"3\",\"label\":{\"default\":\"2024/08/18\"}},{\"id\":\"4\",\"label\":{\"default\":\"2024/08/19\"}},{\"id\":\"5\",\"label\":{\"default\":\"2024/08/20\"}},{\"id\":\"6\",\"label\":{\"default\":\"2024/08/21\"}}],\"headline\":{\"default\":\"Familia Santiago: Juanita\"},\"required\":false,\"subheader\":{\"default\":\"Ale\"},\"shuffleOption\":\"none\"},{\"id\":\"ljfy857hksiyw0cyn061mgd9\",\"type\":\"openText\",\"logic\":[{\"condition\":\"submitted\",\"destination\":\"qzjup1gznozx1feryxcu3dp1\"},{\"condition\":\"skipped\",\"destination\":\"irqmb8twke3rkhldi858pihl\"}],\"headline\":{\"default\":\"Total Gastos atribuibles al Campo: Mama\"},\"required\":false,\"inputType\":\"number\",\"subheader\":{\"default\":\"Ingresar la suma total de los gastos o cuentas que se deben repartir entre todos: por ejemplo, pedidos del Lider, pedidos traidos desde Santiago, Verduraas, etc. Excluir cosas individuales, como alcohol, chocolates, etc.\"},\"longAnswer\":false,\"placeholder\":{\"default\":\"250000\"}},{\"id\":\"qzjup1gznozx1feryxcu3dp1\",\"type\":\"openText\",\"logic\":[{\"condition\":\"submitted\",\"destination\":\"irqmb8twke3rkhldi858pihl\"},{\"condition\":\"skipped\",\"destination\":\"irqmb8twke3rkhldi858pihl\"}],\"headline\":{\"default\":\"Detalle cuentas: Mama\"},\"required\":false,\"inputType\":\"text\",\"subheader\":{\"default\":\"Si tienes m\u00e1s de una cuenta, aqu\u00ed puedes poner el detalle para el reporte. El formato ser\u00eda MONTO - DESCRIPCION, uno por l\u00ednea. Este campo es opcional.\"},\"longAnswer\":true,\"placeholder\":{\"default\":\"153.000 - Pedido Lider\"}},{\"id\":\"ue6p825ojpk5xeoxa4e83wti\",\"type\":\"openText\",\"logic\":[{\"condition\":\"submitted\",\"destination\":\"azvjpwl3ikh2fng7gt3wk9zi\"},{\"condition\":\"skipped\",\"destination\":\"irqmb8twke3rkhldi858pihl\"}],\"headline\":{\"default\":\"Total Gastos atribuibles al Campo: Ale\"},\"required\":false,\"inputType\":\"number\",\"subheader\":{\"default\":\"Ingresar la suma total de los gastos o cuentas que se deben repartir entre todos: por ejemplo, pedidos del Lider, pedidos traidos desde Santiago, Verduraas, etc. Excluir cosas individuales, como alcohol, chocolates, etc.\"},\"longAnswer\":false,\"placeholder\":{\"default\":\"250000\"}},{\"id\":\"azvjpwl3ikh2fng7gt3wk9zi\",\"type\":\"openText\",\"logic\":[{\"condition\":\"submitted\",\"destination\":\"irqmb8twke3rkhldi858pihl\"},{\"condition\":\"skipped\",\"destination\":\"irqmb8twke3rkhldi858pihl\"}],\"headline\":{\"default\":\"Detalle cuentas: Ale\"},\"required\":false,\"inputType\":\"text\",\"subheader\":{\"default\":\"Si tienes m\u00e1s de una cuenta, aqu\u00ed puedes poner el detalle para el reporte. El formato ser\u00eda MONTO - DESCRIPCION, uno por l\u00ednea. Este campo es opcional.\"},\"longAnswer\":true,\"placeholder\":{\"default\":\"153.000 - Pedido Lider\"}},{\"id\":\"knxgpxtmxu5glpbafi0kouez\",\"type\":\"openText\",\"logic\":[{\"condition\":\"submitted\",\"destination\":\"tn79qtsoydq1fjmohkt8x5ue\"},{\"condition\":\"skipped\",\"destination\":\"irqmb8twke3rkhldi858pihl\"}],\"headline\":{\"default\":\"Total Gastos atribuibles al Campo: Santiago\"},\"required\":false,\"inputType\":\"number\",\"subheader\":{\"default\":\"Ingresar la suma total de los gastos o cuentas que se deben repartir entre todos: por ejemplo, pedidos del Lider, pedidos traidos desde Santiago, Verduraas, etc. Excluir cosas individuales, como alcohol, chocolates, etc.\"},\"longAnswer\":false,\"placeholder\":{\"default\":\"250000\"}},{\"id\":\"tn79qtsoydq1fjmohkt8x5ue\",\"type\":\"openText\",\"logic\":[{\"condition\":\"submitted\",\"destination\":\"irqmb8twke3rkhldi858pihl\"},{\"condition\":\"skipped\",\"destination\":\"irqmb8twke3rkhldi858pihl\"}],\"headline\":{\"default\":\"Detalle cuentas: Santiago\"},\"required\":false,\"inputType\":\"text\",\"subheader\":{\"default\":\"Si tienes m\u00e1s de una cuenta, aqu\u00ed puedes poner el detalle para el reporte. El formato ser\u00eda MONTO - DESCRIPCION, uno por l\u00ednea. Este campo es opcional.\"},\"longAnswer\":true,\"placeholder\":{\"default\":\"153.000 - Pedido Lider\"}}],\"endings\":[{\"id\":\"irqmb8twke3rkhldi858pihl\",\"type\":\"endScreen\",\"headline\":{\"default\":\"Muchas gracias.\"},\"subheader\":{\"default\":\"Recuerda que es tu responsabilidad introducir los datos de forma correcta.\"}}],\"hiddenFields\":{\"enabled\":true,\"fieldIds\":[]},\"displayOption\":\"displayOnce\",\"recontactDays\":null,\"displayLimit\":null,\"autoClose\":null,\"runOnDate\":null,\"closeOnDate\":null,\"delay\":0,\"displayPercentage\":null,\"autoComplete\":null,\"isVerifyEmailEnabled\":false,\"redirectUrl\":null,\"productOverwrites\":null,\"styling\":{\"roundness\":8,\"brandColor\":{\"light\":\"#2862b4\"},\"inputColor\":{\"light\":\"#ffffff\"},\"isLogoHidden\":false,\"questionColor\":{\"light\":\"#2b2524\"},\"cardArrangement\":{\"appSurveys\":\"simple\",\"linkSurveys\":\"simple\"},\"cardBorderColor\":{\"light\":\"#f8fafc\"},\"cardShadowColor\":{\"light\":\"#000000\"},\"hideProgressBar\":false,\"inputBorderColor\":{\"light\":\"#cbd5e1\"},\"isDarkModeEnabled\":false,\"cardBackgroundColor\":{\"light\":\"#ffffff\"}},\"surveyClosedMessage\":null,\"singleUse\":{\"enabled\":false,\"isEncrypted\":true},\"pin\":null,\"resultShareKey\":null,\"showLanguageSwitch\":null,\"languages\":[],\"triggers\":[],\"segment\":null}}\n"
          ]
        }
      ],
      "execution_count": 25
    },
    {
      "id": "c9609e21-fafc-4c33-8d43-7d9bf7c590a7",
      "cell_type": "code",
      "source": "payload['questions']",
      "metadata": {
        "collapsed": true,
        "jupyter": {
          "outputs_hidden": true
        },
        "trusted": false
      },
      "outputs": [
        {
          "data": {
            "text/plain": [
              "[{'id': 'pmookejsbpz1aidos27ldbkz',\n",
              "  'type': 'multipleChoiceSingle',\n",
              "  'logic': [{'value': 'Papas',\n",
              "    'condition': 'equals',\n",
              "    'destination': 'ce46zr8gs8odvjpcz7uq4oag'},\n",
              "   {'value': 'Ale',\n",
              "    'condition': 'equals',\n",
              "    'destination': 'pa9f72zqfu8pellxtzw2lrde'},\n",
              "   {'value': 'Santiago',\n",
              "    'condition': 'equals',\n",
              "    'destination': 'jk4ml6lx3bzo1nzgv4fuolwd'}],\n",
              "  'choices': [{'id': 'y91ea6h8gbyo3thcjqgexav1',\n",
              "    'label': {'default': 'Papas'}},\n",
              "   {'id': 'bif7ip1nujrwtawb99cbd8cd', 'label': {'default': 'Ale'}},\n",
              "   {'id': 'o0tvmxhqne3lq0e4rsf5yptm', 'label': {'default': 'Santiago'}}],\n",
              "  'headline': {'default': 'Familia'},\n",
              "  'required': True,\n",
              "  'inputType': 'text',\n",
              "  'subheader': {'default': 'Fechas por determinar'},\n",
              "  'placeholder': {'default': 'Type your answer here...'},\n",
              "  'shuffleOption': 'none'},\n",
              " {'id': 'ce46zr8gs8odvjpcz7uq4oag',\n",
              "  'html': {'default': '<p class=\"fb-editor-paragraph\"><br></p>'},\n",
              "  'rows': [{'default': 'Rose \ud83c\udf39'},\n",
              "   {'default': 'Sunflower \ud83c\udf3b'},\n",
              "   {'default': 'Hibiscus \ud83c\udf3a'}],\n",
              "  'type': 'multipleChoiceMulti',\n",
              "  'label': {'default': 'I agree to the terms and conditions'},\n",
              "  'logic': [{'condition': 'submitted',\n",
              "    'destination': 'fcs00a5ncj1lobxb6jsjrtcj'},\n",
              "   {'condition': 'skipped', 'destination': 'fcs00a5ncj1lobxb6jsjrtcj'}],\n",
              "  'range': 5,\n",
              "  'scale': 'star',\n",
              "  'format': 'y-M-d',\n",
              "  'choices': [{'id': '0', 'label': {'default': '2024/08/15'}},\n",
              "   {'id': '1', 'label': {'default': '2024/08/16'}},\n",
              "   {'id': '2', 'label': {'default': '2024/08/17'}},\n",
              "   {'id': '3', 'label': {'default': '2024/08/18'}},\n",
              "   {'id': '4', 'label': {'default': '2024/08/19'}},\n",
              "   {'id': '5', 'label': {'default': '2024/08/20'}},\n",
              "   {'id': '6', 'label': {'default': '2024/08/21'}}],\n",
              "  'columns': [{'default': '0'},\n",
              "   {'default': '1'},\n",
              "   {'default': '2'},\n",
              "   {'default': '3'},\n",
              "   {'default': '4'},\n",
              "   {'default': '5'},\n",
              "   {'default': '6'}],\n",
              "  'headline': {'default': 'Familia Papa: Mama'},\n",
              "  'required': False,\n",
              "  'subheader': {'default': 'Mama'},\n",
              "  'lowerLabel': {'default': 'Not at all likely'},\n",
              "  'upperLabel': {'default': 'Extremely likely'},\n",
              "  'calUserName': 'rick/get-rick-rolled',\n",
              "  'isZipRequired': False,\n",
              "  'shuffleOption': 'none',\n",
              "  'isCityRequired': False,\n",
              "  'isStateRequired': False,\n",
              "  'isCountryRequired': False,\n",
              "  'isAddressLine1Required': False,\n",
              "  'isAddressLine2Required': False},\n",
              " {'id': 'fcs00a5ncj1lobxb6jsjrtcj',\n",
              "  'html': {'default': '<p class=\"fb-editor-paragraph\"><br></p>'},\n",
              "  'rows': [{'default': 'Rose \ud83c\udf39'},\n",
              "   {'default': 'Sunflower \ud83c\udf3b'},\n",
              "   {'default': 'Hibiscus \ud83c\udf3a'}],\n",
              "  'type': 'multipleChoiceMulti',\n",
              "  'label': {'default': 'I agree to the terms and conditions'},\n",
              "  'logic': [{'condition': 'submitted',\n",
              "    'destination': 'myu635b35o2nk86cn8pcth8o'},\n",
              "   {'condition': 'skipped', 'destination': 'myu635b35o2nk86cn8pcth8o'}],\n",
              "  'range': 5,\n",
              "  'scale': 'star',\n",
              "  'format': 'y-M-d',\n",
              "  'choices': [{'id': '0', 'label': {'default': '2024/08/15'}},\n",
              "   {'id': '1', 'label': {'default': '2024/08/16'}},\n",
              "   {'id': '2', 'label': {'default': '2024/08/17'}},\n",
              "   {'id': '3', 'label': {'default': '2024/08/18'}},\n",
              "   {'id': '4', 'label': {'default': '2024/08/19'}},\n",
              "   {'id': '5', 'label': {'default': '2024/08/20'}},\n",
              "   {'id': '6', 'label': {'default': '2024/08/21'}}],\n",
              "  'columns': [{'default': '0'},\n",
              "   {'default': '1'},\n",
              "   {'default': '2'},\n",
              "   {'default': '3'},\n",
              "   {'default': '4'},\n",
              "   {'default': '5'},\n",
              "   {'default': '6'}],\n",
              "  'headline': {'default': 'Familia Papas: Papa'},\n",
              "  'required': False,\n",
              "  'subheader': {'default': 'Papa'},\n",
              "  'lowerLabel': {'default': 'Not at all likely'},\n",
              "  'upperLabel': {'default': 'Extremely likely'},\n",
              "  'calUserName': 'rick/get-rick-rolled',\n",
              "  'isZipRequired': False,\n",
              "  'shuffleOption': 'none',\n",
              "  'isCityRequired': False,\n",
              "  'isStateRequired': False,\n",
              "  'isCountryRequired': False,\n",
              "  'isAddressLine1Required': False,\n",
              "  'isAddressLine2Required': False},\n",
              " {'id': 'myu635b35o2nk86cn8pcth8o',\n",
              "  'html': {'default': '<p class=\"fb-editor-paragraph\"><br></p>'},\n",
              "  'rows': [{'default': 'Rose \ud83c\udf39'},\n",
              "   {'default': 'Sunflower \ud83c\udf3b'},\n",
              "   {'default': 'Hibiscus \ud83c\udf3a'}],\n",
              "  'type': 'multipleChoiceMulti',\n",
              "  'label': {'default': 'I agree to the terms and conditions'},\n",
              "  'logic': [{'condition': 'submitted',\n",
              "    'destination': 'ljfy857hksiyw0cyn061mgd9'},\n",
              "   {'condition': 'skipped', 'destination': 'ljfy857hksiyw0cyn061mgd9'}],\n",
              "  'range': 5,\n",
              "  'scale': 'star',\n",
              "  'format': 'y-M-d',\n",
              "  'choices': [{'id': '0', 'label': {'default': '2024/08/15'}},\n",
              "   {'id': '1', 'label': {'default': '2024/08/16'}},\n",
              "   {'id': '2', 'label': {'default': '2024/08/17'}},\n",
              "   {'id': '3', 'label': {'default': '2024/08/18'}},\n",
              "   {'id': '4', 'label': {'default': '2024/08/19'}},\n",
              "   {'id': '5', 'label': {'default': '2024/08/20'}},\n",
              "   {'id': '6', 'label': {'default': '2024/08/21'}}],\n",
              "  'columns': [{'default': '0'},\n",
              "   {'default': '1'},\n",
              "   {'default': '2'},\n",
              "   {'default': '3'},\n",
              "   {'default': '4'},\n",
              "   {'default': '5'},\n",
              "   {'default': '6'}],\n",
              "  'headline': {'default': 'Familia Papas: Toli'},\n",
              "  'required': False,\n",
              "  'subheader': {'default': 'Toli'},\n",
              "  'lowerLabel': {'default': 'Not at all likely'},\n",
              "  'upperLabel': {'default': 'Extremely likely'},\n",
              "  'calUserName': 'rick/get-rick-rolled',\n",
              "  'isZipRequired': False,\n",
              "  'shuffleOption': 'none',\n",
              "  'isCityRequired': False,\n",
              "  'isStateRequired': False,\n",
              "  'isCountryRequired': False,\n",
              "  'isAddressLine1Required': False,\n",
              "  'isAddressLine2Required': False},\n",
              " {'id': 'pa9f72zqfu8pellxtzw2lrde',\n",
              "  'html': {'default': '<p class=\"fb-editor-paragraph\"><br></p>'},\n",
              "  'rows': [{'default': 'Rose \ud83c\udf39'},\n",
              "   {'default': 'Sunflower \ud83c\udf3b'},\n",
              "   {'default': 'Hibiscus \ud83c\udf3a'}],\n",
              "  'type': 'multipleChoiceMulti',\n",
              "  'label': {'default': 'I agree to the terms and conditions'},\n",
              "  'logic': [{'condition': 'submitted',\n",
              "    'destination': 'wijazzlw3e3izuyyt9bomev9'},\n",
              "   {'condition': 'skipped', 'destination': 'wijazzlw3e3izuyyt9bomev9'}],\n",
              "  'range': 5,\n",
              "  'scale': 'star',\n",
              "  'format': 'y-M-d',\n",
              "  'choices': [{'id': '0', 'label': {'default': '2024/08/15'}},\n",
              "   {'id': '1', 'label': {'default': '2024/08/16'}},\n",
              "   {'id': '2', 'label': {'default': '2024/08/17'}},\n",
              "   {'id': '3', 'label': {'default': '2024/08/18'}},\n",
              "   {'id': '4', 'label': {'default': '2024/08/19'}},\n",
              "   {'id': '5', 'label': {'default': '2024/08/20'}},\n",
              "   {'id': '6', 'label': {'default': '2024/08/21'}}],\n",
              "  'columns': [{'default': '0'},\n",
              "   {'default': '1'},\n",
              "   {'default': '2'},\n",
              "   {'default': '3'},\n",
              "   {'default': '4'},\n",
              "   {'default': '5'},\n",
              "   {'default': '6'}],\n",
              "  'headline': {'default': 'Familia Ale: Ale'},\n",
              "  'required': False,\n",
              "  'subheader': {'default': 'Ale'},\n",
              "  'lowerLabel': {'default': 'Not at all likely'},\n",
              "  'upperLabel': {'default': 'Extremely likely'},\n",
              "  'calUserName': 'rick/get-rick-rolled',\n",
              "  'isZipRequired': False,\n",
              "  'shuffleOption': 'none',\n",
              "  'isCityRequired': False,\n",
              "  'isStateRequired': False,\n",
              "  'isCountryRequired': False,\n",
              "  'isAddressLine1Required': False,\n",
              "  'isAddressLine2Required': False},\n",
              " {'id': 'wijazzlw3e3izuyyt9bomev9',\n",
              "  'html': {'default': '<p class=\"fb-editor-paragraph\"><br></p>'},\n",
              "  'rows': [{'default': 'Rose \ud83c\udf39'},\n",
              "   {'default': 'Sunflower \ud83c\udf3b'},\n",
              "   {'default': 'Hibiscus \ud83c\udf3a'}],\n",
              "  'type': 'multipleChoiceMulti',\n",
              "  'label': {'default': 'I agree to the terms and conditions'},\n",
              "  'logic': [{'condition': 'submitted',\n",
              "    'destination': 'honyxedbgeur1lsshjfeez0e'},\n",
              "   {'condition': 'skipped', 'destination': 'honyxedbgeur1lsshjfeez0e'}],\n",
              "  'range': 5,\n",
              "  'scale': 'star',\n",
              "  'format': 'y-M-d',\n",
              "  'choices': [{'id': '0', 'label': {'default': '2024/08/15'}},\n",
              "   {'id': '1', 'label': {'default': '2024/08/16'}},\n",
              "   {'id': '2', 'label': {'default': '2024/08/17'}},\n",
              "   {'id': '3', 'label': {'default': '2024/08/18'}},\n",
              "   {'id': '4', 'label': {'default': '2024/08/19'}},\n",
              "   {'id': '5', 'label': {'default': '2024/08/20'}},\n",
              "   {'id': '6', 'label': {'default': '2024/08/21'}}],\n",
              "  'columns': [{'default': '0'},\n",
              "   {'default': '1'},\n",
              "   {'default': '2'},\n",
              "   {'default': '3'},\n",
              "   {'default': '4'},\n",
              "   {'default': '5'},\n",
              "   {'default': '6'}],\n",
              "  'headline': {'default': 'Familia Ale: Jaime'},\n",
              "  'required': False,\n",
              "  'lowerLabel': {'default': 'Not at all likely'},\n",
              "  'upperLabel': {'default': 'Extremely likely'},\n",
              "  'calUserName': 'rick/get-rick-rolled',\n",
              "  'isZipRequired': False,\n",
              "  'shuffleOption': 'none',\n",
              "  'isCityRequired': False,\n",
              "  'isStateRequired': False,\n",
              "  'isCountryRequired': False,\n",
              "  'isAddressLine1Required': False,\n",
              "  'isAddressLine2Required': False},\n",
              " {'id': 'honyxedbgeur1lsshjfeez0e',\n",
              "  'html': {'default': '<p class=\"fb-editor-paragraph\"><br></p>'},\n",
              "  'rows': [{'default': 'Rose \ud83c\udf39'},\n",
              "   {'default': 'Sunflower \ud83c\udf3b'},\n",
              "   {'default': 'Hibiscus \ud83c\udf3a'}],\n",
              "  'type': 'multipleChoiceMulti',\n",
              "  'label': {'default': 'I agree to the terms and conditions'},\n",
              "  'logic': [{'condition': 'submitted',\n",
              "    'destination': 'speebvzikomkh1cxbj9fyjxo'},\n",
              "   {'condition': 'skipped', 'destination': 'speebvzikomkh1cxbj9fyjxo'}],\n",
              "  'range': 5,\n",
              "  'scale': 'star',\n",
              "  'format': 'y-M-d',\n",
              "  'choices': [{'id': '0', 'label': {'default': '2024/08/15'}},\n",
              "   {'id': '1', 'label': {'default': '2024/08/16'}},\n",
              "   {'id': '2', 'label': {'default': '2024/08/17'}},\n",
              "   {'id': '3', 'label': {'default': '2024/08/18'}},\n",
              "   {'id': '4', 'label': {'default': '2024/08/19'}},\n",
              "   {'id': '5', 'label': {'default': '2024/08/20'}},\n",
              "   {'id': '6', 'label': {'default': '2024/08/21'}}],\n",
              "  'columns': [{'default': '0'},\n",
              "   {'default': '1'},\n",
              "   {'default': '2'},\n",
              "   {'default': '3'},\n",
              "   {'default': '4'},\n",
              "   {'default': '5'},\n",
              "   {'default': '6'}],\n",
              "  'headline': {'default': 'Familia Ale: Jaimito'},\n",
              "  'required': False,\n",
              "  'lowerLabel': {'default': 'Not at all likely'},\n",
              "  'upperLabel': {'default': 'Extremely likely'},\n",
              "  'calUserName': 'rick/get-rick-rolled',\n",
              "  'isZipRequired': False,\n",
              "  'shuffleOption': 'none',\n",
              "  'isCityRequired': False,\n",
              "  'isStateRequired': False,\n",
              "  'isCountryRequired': False,\n",
              "  'isAddressLine1Required': False,\n",
              "  'isAddressLine2Required': False},\n",
              " {'id': 'speebvzikomkh1cxbj9fyjxo',\n",
              "  'html': {'default': '<p class=\"fb-editor-paragraph\"><br></p>'},\n",
              "  'rows': [{'default': 'Rose \ud83c\udf39'},\n",
              "   {'default': 'Sunflower \ud83c\udf3b'},\n",
              "   {'default': 'Hibiscus \ud83c\udf3a'}],\n",
              "  'type': 'multipleChoiceMulti',\n",
              "  'label': {'default': 'I agree to the terms and conditions'},\n",
              "  'logic': [{'condition': 'submitted',\n",
              "    'destination': 'ue6p825ojpk5xeoxa4e83wti'},\n",
              "   {'condition': 'skipped', 'destination': 'ue6p825ojpk5xeoxa4e83wti'}],\n",
              "  'range': 5,\n",
              "  'scale': 'star',\n",
              "  'format': 'y-M-d',\n",
              "  'choices': [{'id': '0', 'label': {'default': '2024/08/15'}},\n",
              "   {'id': '1', 'label': {'default': '2024/08/16'}},\n",
              "   {'id': '2', 'label': {'default': '2024/08/17'}},\n",
              "   {'id': '3', 'label': {'default': '2024/08/18'}},\n",
              "   {'id': '4', 'label': {'default': '2024/08/19'}},\n",
              "   {'id': '5', 'label': {'default': '2024/08/20'}},\n",
              "   {'id': '6', 'label': {'default': '2024/08/21'}}],\n",
              "  'columns': [{'default': '0'},\n",
              "   {'default': '1'},\n",
              "   {'default': '2'},\n",
              "   {'default': '3'},\n",
              "   {'default': '4'},\n",
              "   {'default': '5'},\n",
              "   {'default': '6'}],\n",
              "  'headline': {'default': 'Familia Ale: Jacinta'},\n",
              "  'required': False,\n",
              "  'lowerLabel': {'default': 'Not at all likely'},\n",
              "  'upperLabel': {'default': 'Extremely likely'},\n",
              "  'calUserName': 'rick/get-rick-rolled',\n",
              "  'isZipRequired': False,\n",
              "  'shuffleOption': 'none',\n",
              "  'isCityRequired': False,\n",
              "  'isStateRequired': False,\n",
              "  'isCountryRequired': False,\n",
              "  'isAddressLine1Required': False,\n",
              "  'isAddressLine2Required': False},\n",
              " {'id': 'jk4ml6lx3bzo1nzgv4fuolwd',\n",
              "  'html': {'default': '<p class=\"fb-editor-paragraph\"><br></p>'},\n",
              "  'rows': [{'default': 'Rose \ud83c\udf39'},\n",
              "   {'default': 'Sunflower \ud83c\udf3b'},\n",
              "   {'default': 'Hibiscus \ud83c\udf3a'}],\n",
              "  'type': 'multipleChoiceMulti',\n",
              "  'label': {'default': 'I agree to the terms and conditions'},\n",
              "  'logic': [{'condition': 'submitted',\n",
              "    'destination': 'cd2k7vu2wy499b8e9s1ax14f'},\n",
              "   {'condition': 'skipped', 'destination': 'cd2k7vu2wy499b8e9s1ax14f'}],\n",
              "  'range': 5,\n",
              "  'scale': 'star',\n",
              "  'format': 'y-M-d',\n",
              "  'choices': [{'id': '0', 'label': {'default': '2024/08/15'}},\n",
              "   {'id': '1', 'label': {'default': '2024/08/16'}},\n",
              "   {'id': '2', 'label': {'default': '2024/08/17'}},\n",
              "   {'id': '3', 'label': {'default': '2024/08/18'}},\n",
              "   {'id': '4', 'label': {'default': '2024/08/19'}},\n",
              "   {'id': '5', 'label': {'default': '2024/08/20'}},\n",
              "   {'id': '6', 'label': {'default': '2024/08/21'}}],\n",
              "  'columns': [{'default': '0'},\n",
              "   {'default': '1'},\n",
              "   {'default': '2'},\n",
              "   {'default': '3'},\n",
              "   {'default': '4'},\n",
              "   {'default': '5'},\n",
              "   {'default': '6'}],\n",
              "  'headline': {'default': 'Familia Santiago: Santiago'},\n",
              "  'required': False,\n",
              "  'lowerLabel': {'default': 'Not at all likely'},\n",
              "  'upperLabel': {'default': 'Extremely likely'},\n",
              "  'calUserName': 'rick/get-rick-rolled',\n",
              "  'isZipRequired': False,\n",
              "  'shuffleOption': 'none',\n",
              "  'isCityRequired': False,\n",
              "  'isStateRequired': False,\n",
              "  'isCountryRequired': False,\n",
              "  'isAddressLine1Required': False,\n",
              "  'isAddressLine2Required': False},\n",
              " {'id': 'cd2k7vu2wy499b8e9s1ax14f',\n",
              "  'html': {'default': '<p class=\"fb-editor-paragraph\"><br></p>'},\n",
              "  'rows': [{'default': 'Rose \ud83c\udf39'},\n",
              "   {'default': 'Sunflower \ud83c\udf3b'},\n",
              "   {'default': 'Hibiscus \ud83c\udf3a'}],\n",
              "  'type': 'multipleChoiceMulti',\n",
              "  'label': {'default': 'I agree to the terms and conditions'},\n",
              "  'logic': [{'condition': 'submitted',\n",
              "    'destination': 'zdz3okm5c87lb359rzyvv972'},\n",
              "   {'condition': 'skipped', 'destination': 'zdz3okm5c87lb359rzyvv972'}],\n",
              "  'range': 5,\n",
              "  'scale': 'star',\n",
              "  'format': 'y-M-d',\n",
              "  'choices': [{'id': '0', 'label': {'default': '2024/08/15'}},\n",
              "   {'id': '1', 'label': {'default': '2024/08/16'}},\n",
              "   {'id': '2', 'label': {'default': '2024/08/17'}},\n",
              "   {'id': '3', 'label': {'default': '2024/08/18'}},\n",
              "   {'id': '4', 'label': {'default': '2024/08/19'}},\n",
              "   {'id': '5', 'label': {'default': '2024/08/20'}},\n",
              "   {'id': '6', 'label': {'default': '2024/08/21'}}],\n",
              "  'columns': [{'default': '0'},\n",
              "   {'default': '1'},\n",
              "   {'default': '2'},\n",
              "   {'default': '3'},\n",
              "   {'default': '4'},\n",
              "   {'default': '5'},\n",
              "   {'default': '6'}],\n",
              "  'headline': {'default': 'Familia Santiago: Camila'},\n",
              "  'required': False,\n",
              "  'subheader': {'default': 'Ale'},\n",
              "  'lowerLabel': {'default': 'Not at all likely'},\n",
              "  'upperLabel': {'default': 'Extremely likely'},\n",
              "  'calUserName': 'rick/get-rick-rolled',\n",
              "  'isZipRequired': False,\n",
              "  'shuffleOption': 'none',\n",
              "  'isCityRequired': False,\n",
              "  'isStateRequired': False,\n",
              "  'isCountryRequired': False,\n",
              "  'isAddressLine1Required': False,\n",
              "  'isAddressLine2Required': False},\n",
              " {'id': 'zdz3okm5c87lb359rzyvv972',\n",
              "  'html': {'default': '<p class=\"fb-editor-paragraph\"><br></p>'},\n",
              "  'rows': [{'default': 'Rose \ud83c\udf39'},\n",
              "   {'default': 'Sunflower \ud83c\udf3b'},\n",
              "   {'default': 'Hibiscus \ud83c\udf3a'}],\n",
              "  'type': 'multipleChoiceMulti',\n",
              "  'label': {'default': 'I agree to the terms and conditions'},\n",
              "  'logic': [{'condition': 'submitted',\n",
              "    'destination': 'knxgpxtmxu5glpbafi0kouez'},\n",
              "   {'condition': 'skipped', 'destination': 'knxgpxtmxu5glpbafi0kouez'}],\n",
              "  'range': 5,\n",
              "  'scale': 'star',\n",
              "  'format': 'y-M-d',\n",
              "  'choices': [{'id': '0', 'label': {'default': '2024/08/15'}},\n",
              "   {'id': '1', 'label': {'default': '2024/08/16'}},\n",
              "   {'id': '2', 'label': {'default': '2024/08/17'}},\n",
              "   {'id': '3', 'label': {'default': '2024/08/18'}},\n",
              "   {'id': '4', 'label': {'default': '2024/08/19'}},\n",
              "   {'id': '5', 'label': {'default': '2024/08/20'}},\n",
              "   {'id': '6', 'label': {'default': '2024/08/21'}}],\n",
              "  'columns': [{'default': '0'},\n",
              "   {'default': '1'},\n",
              "   {'default': '2'},\n",
              "   {'default': '3'},\n",
              "   {'default': '4'},\n",
              "   {'default': '5'},\n",
              "   {'default': '6'}],\n",
              "  'headline': {'default': 'Familia Santiago: Juanita'},\n",
              "  'required': False,\n",
              "  'subheader': {'default': 'Ale'},\n",
              "  'lowerLabel': {'default': 'Not at all likely'},\n",
              "  'upperLabel': {'default': 'Extremely likely'},\n",
              "  'calUserName': 'rick/get-rick-rolled',\n",
              "  'isZipRequired': False,\n",
              "  'shuffleOption': 'none',\n",
              "  'isCityRequired': False,\n",
              "  'isStateRequired': False,\n",
              "  'isCountryRequired': False,\n",
              "  'isAddressLine1Required': False,\n",
              "  'isAddressLine2Required': False},\n",
              " {'id': 'ljfy857hksiyw0cyn061mgd9',\n",
              "  'type': 'openText',\n",
              "  'logic': [{'condition': 'submitted',\n",
              "    'destination': 'qzjup1gznozx1feryxcu3dp1'},\n",
              "   {'condition': 'skipped', 'destination': 'irqmb8twke3rkhldi858pihl'}],\n",
              "  'headline': {'default': 'Total Gastos atribuibles al Campo: Mama'},\n",
              "  'required': False,\n",
              "  'inputType': 'number',\n",
              "  'subheader': {'default': 'Ingresar la suma total de los gastos o cuentas que se deben repartir entre todos: por ejemplo, pedidos del Lider, pedidos traidos desde Santiago, Verduraas, etc. Excluir cosas individuales, como alcohol, chocolates, etc.'},\n",
              "  'longAnswer': False,\n",
              "  'placeholder': {'default': '250000'}},\n",
              " {'id': 'qzjup1gznozx1feryxcu3dp1',\n",
              "  'type': 'openText',\n",
              "  'logic': [{'condition': 'submitted',\n",
              "    'destination': 'irqmb8twke3rkhldi858pihl'},\n",
              "   {'condition': 'skipped', 'destination': 'irqmb8twke3rkhldi858pihl'}],\n",
              "  'headline': {'default': 'Detalle cuentas: Mama'},\n",
              "  'required': False,\n",
              "  'inputType': 'text',\n",
              "  'subheader': {'default': 'Si tienes m\u00e1s de una cuenta, aqu\u00ed puedes poner el detalle para el reporte. El formato ser\u00eda MONTO - DESCRIPCION, uno por l\u00ednea. Este campo es opcional.'},\n",
              "  'longAnswer': True,\n",
              "  'placeholder': {'default': '153.000 - Pedido Lider'}},\n",
              " {'id': 'ue6p825ojpk5xeoxa4e83wti',\n",
              "  'type': 'openText',\n",
              "  'logic': [{'condition': 'submitted',\n",
              "    'destination': 'azvjpwl3ikh2fng7gt3wk9zi'},\n",
              "   {'condition': 'skipped', 'destination': 'irqmb8twke3rkhldi858pihl'}],\n",
              "  'headline': {'default': 'Total Gastos atribuibles al Campo: Ale'},\n",
              "  'required': False,\n",
              "  'inputType': 'number',\n",
              "  'subheader': {'default': 'Ingresar la suma total de los gastos o cuentas que se deben repartir entre todos: por ejemplo, pedidos del Lider, pedidos traidos desde Santiago, Verduraas, etc. Excluir cosas individuales, como alcohol, chocolates, etc.'},\n",
              "  'longAnswer': False,\n",
              "  'placeholder': {'default': '250000'}},\n",
              " {'id': 'azvjpwl3ikh2fng7gt3wk9zi',\n",
              "  'type': 'openText',\n",
              "  'logic': [{'condition': 'submitted',\n",
              "    'destination': 'irqmb8twke3rkhldi858pihl'},\n",
              "   {'condition': 'skipped', 'destination': 'irqmb8twke3rkhldi858pihl'}],\n",
              "  'headline': {'default': 'Detalle cuentas: Ale'},\n",
              "  'required': False,\n",
              "  'inputType': 'text',\n",
              "  'subheader': {'default': 'Si tienes m\u00e1s de una cuenta, aqu\u00ed puedes poner el detalle para el reporte. El formato ser\u00eda MONTO - DESCRIPCION, uno por l\u00ednea. Este campo es opcional.'},\n",
              "  'longAnswer': True,\n",
              "  'placeholder': {'default': '153.000 - Pedido Lider'}},\n",
              " {'id': 'knxgpxtmxu5glpbafi0kouez',\n",
              "  'type': 'openText',\n",
              "  'logic': [{'condition': 'submitted',\n",
              "    'destination': 'tn79qtsoydq1fjmohkt8x5ue'},\n",
              "   {'condition': 'skipped', 'destination': 'irqmb8twke3rkhldi858pihl'}],\n",
              "  'headline': {'default': 'Total Gastos atribuibles al Campo: Santiago'},\n",
              "  'required': False,\n",
              "  'inputType': 'number',\n",
              "  'subheader': {'default': 'Ingresar la suma total de los gastos o cuentas que se deben repartir entre todos: por ejemplo, pedidos del Lider, pedidos traidos desde Santiago, Verduraas, etc. Excluir cosas individuales, como alcohol, chocolates, etc.'},\n",
              "  'longAnswer': False,\n",
              "  'placeholder': {'default': '250000'}},\n",
              " {'id': 'tn79qtsoydq1fjmohkt8x5ue',\n",
              "  'type': 'openText',\n",
              "  'logic': [{'condition': 'submitted',\n",
              "    'destination': 'irqmb8twke3rkhldi858pihl'},\n",
              "   {'condition': 'skipped', 'destination': 'irqmb8twke3rkhldi858pihl'}],\n",
              "  'headline': {'default': 'Detalle cuentas: Santiago'},\n",
              "  'required': False,\n",
              "  'inputType': 'text',\n",
              "  'subheader': {'default': 'Si tienes m\u00e1s de una cuenta, aqu\u00ed puedes poner el detalle para el reporte. El formato ser\u00eda MONTO - DESCRIPCION, uno por l\u00ednea. Este campo es opcional.'},\n",
              "  'longAnswer': True,\n",
              "  'placeholder': {'default': '153.000 - Pedido Lider'}}]"
            ]
          },
          "execution_count": 22,
          "metadata": {},
          "output_type": "execute_result"
        }
      ],
      "execution_count": 22
    },
    {
      "id": "a6ef4351-7dfa-4835-8f45-c917157eced7",
      "cell_type": "code",
      "source": "for x in payload['questions']:\n    if x['type'] == 'multipleChoiceMulti':\n        choices = []\n        columns = []\n        for i, fecha in enumerate(rango):\n            choice = {\n                \"id\": str(i),\n                \"label\": {\"default\": fecha.strftime(format='%Y/%m/%d')}\n            }\n            column = {\"default\": str(i)}\n            columns.append(column)\n            choices.append(choice)\n            # print (choice)\n        x['choices'] = choices\n        x['columns'] = columns\n        # print (choices)\n        # print (x['choices'])\n        # print (x['columns'])",
      "metadata": {
        "trusted": false
      },
      "outputs": [],
      "execution_count": 21
    },
    {
      "id": "3a6a5435-597c-4d5b-b10c-38f26293b9d9",
      "cell_type": "code",
      "source": "payload['name'] = 'comidas_campo_03'",
      "metadata": {
        "trusted": false
      },
      "outputs": [],
      "execution_count": 23
    },
    {
      "id": "735b2058-7f5e-4812-bb27-c352f1e5b220",
      "cell_type": "code",
      "source": "",
      "metadata": {
        "trusted": false
      },
      "outputs": [],
      "execution_count": null
    },
    {
      "id": "4cc935aa-ba8d-4427-8633-35d1e91801dd",
      "cell_type": "markdown",
      "source": "# Loading files",
      "metadata": {
        "trusted": false
      }
    },
    {
      "id": "d5628bad-f3c9-43c8-b303-a7bca2207436",
      "cell_type": "code",
      "source": "filename = \"../data/export-comidas_campo_03-2024-09-07-17-46-02.csv\"\nfilename = \"../data/export-comidas_campo_03-2024-09-08-15-17-13.csv\"",
      "metadata": {
        "trusted": false
      },
      "outputs": [],
      "execution_count": 46
    },
    {
      "id": "4df1890c-cadb-44d3-86db-cf72e3d6f45c",
      "cell_type": "code",
      "source": "df = pd.read_csv(filename)\ndf.head()",
      "metadata": {
        "trusted": false
      },
      "outputs": [
        {
          "execution_count": 47,
          "output_type": "execute_result",
          "data": {
            "text/plain": "   No.                Response ID        Timestamp Finished  \\\n0    1  cm0seu3rd00015vs1dh99tmjs  Sat Sep 07 2024      Yes   \n1    2  cm0n89p6m000wq45bd8q7d9wg  Wed Sep 04 2024      Yes   \n2    3  cm0n3f55a000rq45bznrjhi4m  Wed Sep 04 2024      Yes   \n3    4  cm0hby68y000lq45bvzs8vvyd  Fri Aug 30 2024      Yes   \n4    5  cm0ha5u7h000jq45bskwz0jib  Fri Aug 30 2024      Yes   \n\n                   Survey ID  Formbricks ID (internal)  User ID  Notes  Tags  \\\n0  cm08tu11q001qhbktl4aporba                       NaN      NaN    NaN   NaN   \n1  cm08tu11q001qhbktl4aporba                       NaN      NaN    NaN   NaN   \n2  cm08tu11q001qhbktl4aporba                       NaN      NaN    NaN   NaN   \n3  cm08tu11q001qhbktl4aporba                       NaN      NaN    NaN   NaN   \n4  cm08tu11q001qhbktl4aporba                       NaN      NaN    NaN   NaN   \n\n                                                 url  ...  \\\n0  https://formbricks.santiagolarrain.myds.me/s/c...  ...   \n1  https://formbricks.santiagolarrain.myds.me/s/c...  ...   \n2  https://formbricks.santiagolarrain.myds.me/s/c...  ...   \n3  https://formbricks.santiagolarrain.myds.me/s/c...  ...   \n4  https://formbricks.santiagolarrain.myds.me/s/c...  ...   \n\n   17. Total Gastos atribuibles al Campo: Mama  \\\n0                                          NaN   \n1                                          NaN   \n2                                          NaN   \n3                                        553.0   \n4                                          NaN   \n\n                    18. Detalle cuentas: Mama  \\\n0                                         NaN   \n1                                         NaN   \n2                                         NaN   \n3  63000 don rola\\n552000 lider\\n23000 iguazu   \n4                                         NaN   \n\n  19. Total Gastos atribuibles al Campo: Ale       20. Detalle cuentas: Ale  \\\n0                                        NaN                            NaN   \n1                                        NaN                            NaN   \n2                                        NaN                            NaN   \n3                                        NaN                            NaN   \n4                                   100000.0  75.000 L\u00edder\\n25.000 Verduras   \n\n  21. Total Gastos atribuibles al Campo: Santiago  \\\n0                                        170000.0   \n1                                             NaN   \n2                                             NaN   \n3                                             NaN   \n4                                             NaN   \n\n  22. Detalle cuentas: Santiago 23. Total Gastos atribuibles al Campo: Josefa  \\\n0    90000 - Lider\\n80000 - Ema                                           NaN   \n1                           NaN                                          35.0   \n2                           NaN                                           NaN   \n3                           NaN                                           NaN   \n4                           NaN                                           NaN   \n\n  24. Detalle cuentas: Josefa 25. Total Gastos atribuibles al Campo: Luly  \\\n0                         NaN                                         NaN   \n1                      34.666                                         NaN   \n2                         NaN                                         0.0   \n3                         NaN                                         NaN   \n4                         NaN                                         NaN   \n\n  26. Detalle cuentas: Luly  \n0                       NaN  \n1                       NaN  \n2                       NaN  \n3                       NaN  \n4                       NaN  \n\n[5 rows x 40 columns]",
            "text/html": "<div>\n<style scoped>\n    .dataframe tbody tr th:only-of-type {\n        vertical-align: middle;\n    }\n\n    .dataframe tbody tr th {\n        vertical-align: top;\n    }\n\n    .dataframe thead th {\n        text-align: right;\n    }\n</style>\n<table border=\"1\" class=\"dataframe\">\n  <thead>\n    <tr style=\"text-align: right;\">\n      <th></th>\n      <th>No.</th>\n      <th>Response ID</th>\n      <th>Timestamp</th>\n      <th>Finished</th>\n      <th>Survey ID</th>\n      <th>Formbricks ID (internal)</th>\n      <th>User ID</th>\n      <th>Notes</th>\n      <th>Tags</th>\n      <th>url</th>\n      <th>...</th>\n      <th>17. Total Gastos atribuibles al Campo: Mama</th>\n      <th>18. Detalle cuentas: Mama</th>\n      <th>19. Total Gastos atribuibles al Campo: Ale</th>\n      <th>20. Detalle cuentas: Ale</th>\n      <th>21. Total Gastos atribuibles al Campo: Santiago</th>\n      <th>22. Detalle cuentas: Santiago</th>\n      <th>23. Total Gastos atribuibles al Campo: Josefa</th>\n      <th>24. Detalle cuentas: Josefa</th>\n      <th>25. Total Gastos atribuibles al Campo: Luly</th>\n      <th>26. Detalle cuentas: Luly</th>\n    </tr>\n  </thead>\n  <tbody>\n    <tr>\n      <th>0</th>\n      <td>1</td>\n      <td>cm0seu3rd00015vs1dh99tmjs</td>\n      <td>Sat Sep 07 2024</td>\n      <td>Yes</td>\n      <td>cm08tu11q001qhbktl4aporba</td>\n      <td>NaN</td>\n      <td>NaN</td>\n      <td>NaN</td>\n      <td>NaN</td>\n      <td>https://formbricks.santiagolarrain.myds.me/s/c...</td>\n      <td>...</td>\n      <td>NaN</td>\n      <td>NaN</td>\n      <td>NaN</td>\n      <td>NaN</td>\n      <td>170000.0</td>\n      <td>90000 - Lider\\n80000 - Ema</td>\n      <td>NaN</td>\n      <td>NaN</td>\n      <td>NaN</td>\n      <td>NaN</td>\n    </tr>\n    <tr>\n      <th>1</th>\n      <td>2</td>\n      <td>cm0n89p6m000wq45bd8q7d9wg</td>\n      <td>Wed Sep 04 2024</td>\n      <td>Yes</td>\n      <td>cm08tu11q001qhbktl4aporba</td>\n      <td>NaN</td>\n      <td>NaN</td>\n      <td>NaN</td>\n      <td>NaN</td>\n      <td>https://formbricks.santiagolarrain.myds.me/s/c...</td>\n      <td>...</td>\n      <td>NaN</td>\n      <td>NaN</td>\n      <td>NaN</td>\n      <td>NaN</td>\n      <td>NaN</td>\n      <td>NaN</td>\n      <td>35.0</td>\n      <td>34.666</td>\n      <td>NaN</td>\n      <td>NaN</td>\n    </tr>\n    <tr>\n      <th>2</th>\n      <td>3</td>\n      <td>cm0n3f55a000rq45bznrjhi4m</td>\n      <td>Wed Sep 04 2024</td>\n      <td>Yes</td>\n      <td>cm08tu11q001qhbktl4aporba</td>\n      <td>NaN</td>\n      <td>NaN</td>\n      <td>NaN</td>\n      <td>NaN</td>\n      <td>https://formbricks.santiagolarrain.myds.me/s/c...</td>\n      <td>...</td>\n      <td>NaN</td>\n      <td>NaN</td>\n      <td>NaN</td>\n      <td>NaN</td>\n      <td>NaN</td>\n      <td>NaN</td>\n      <td>NaN</td>\n      <td>NaN</td>\n      <td>0.0</td>\n      <td>NaN</td>\n    </tr>\n    <tr>\n      <th>3</th>\n      <td>4</td>\n      <td>cm0hby68y000lq45bvzs8vvyd</td>\n      <td>Fri Aug 30 2024</td>\n      <td>Yes</td>\n      <td>cm08tu11q001qhbktl4aporba</td>\n      <td>NaN</td>\n      <td>NaN</td>\n      <td>NaN</td>\n      <td>NaN</td>\n      <td>https://formbricks.santiagolarrain.myds.me/s/c...</td>\n      <td>...</td>\n      <td>553.0</td>\n      <td>63000 don rola\\n552000 lider\\n23000 iguazu</td>\n      <td>NaN</td>\n      <td>NaN</td>\n      <td>NaN</td>\n      <td>NaN</td>\n      <td>NaN</td>\n      <td>NaN</td>\n      <td>NaN</td>\n      <td>NaN</td>\n    </tr>\n    <tr>\n      <th>4</th>\n      <td>5</td>\n      <td>cm0ha5u7h000jq45bskwz0jib</td>\n      <td>Fri Aug 30 2024</td>\n      <td>Yes</td>\n      <td>cm08tu11q001qhbktl4aporba</td>\n      <td>NaN</td>\n      <td>NaN</td>\n      <td>NaN</td>\n      <td>NaN</td>\n      <td>https://formbricks.santiagolarrain.myds.me/s/c...</td>\n      <td>...</td>\n      <td>NaN</td>\n      <td>NaN</td>\n      <td>100000.0</td>\n      <td>75.000 L\u00edder\\n25.000 Verduras</td>\n      <td>NaN</td>\n      <td>NaN</td>\n      <td>NaN</td>\n      <td>NaN</td>\n      <td>NaN</td>\n      <td>NaN</td>\n    </tr>\n  </tbody>\n</table>\n<p>5 rows \u00d7 40 columns</p>\n</div>"
          },
          "metadata": {}
        }
      ],
      "execution_count": 47
    },
    {
      "id": "fd69f17f-d6b8-46dc-9211-c1cc66f0f824",
      "cell_type": "code",
      "source": "df.T",
      "metadata": {
        "trusted": false
      },
      "outputs": [
        {
          "execution_count": 48,
          "output_type": "execute_result",
          "data": {
            "text/plain": "                                                                                                 0  \\\nNo.                                                                                              1   \nResponse ID                                                              cm0seu3rd00015vs1dh99tmjs   \nTimestamp                                                                          Sat Sep 07 2024   \nFinished                                                                                       Yes   \nSurvey ID                                                                cm08tu11q001qhbktl4aporba   \nFormbricks ID (internal)                                                                       NaN   \nUser ID                                                                                        NaN   \nNotes                                                                                          NaN   \nTags                                                                                           NaN   \nurl                                              https://formbricks.santiagolarrain.myds.me/s/c...   \nsource                                                                                         NaN   \nuserAgent - os                                                                              Ubuntu   \nuserAgent - device                                                                         desktop   \nuserAgent - browser                                                                        Firefox   \n1. Familia                                                                                Santiago   \n2. Familia Mama: Mama                                                                          NaN   \n3. Familia Mama: Papa                                                                          NaN   \n4. Familia Mama: Toli                                                                          NaN   \n5. Familia Ale: Ale                                                                            NaN   \n6. Familia Ale: Jaime                                                                          NaN   \n7. Familia Ale: Jaimito                                                                        NaN   \n8. Familia Ale: Jacinta                                                                        NaN   \n9. Familia Santiago: Santiago                    2024/08/15, 2024/08/17, 2024/08/18, 2024/08/19...   \n10. Familia Santiago: Camila                     2024/08/16, 2024/08/17, 2024/08/18, 2024/08/19...   \n11. Familia Santiago: Juanita                       2024/08/16, 2024/08/17, 2024/08/18, 2024/08/20   \n12. Familia Josefa: Josefa                                                                     NaN   \n13. Familia Josefa: Cristobal                                                                  NaN   \n14. Familia Josefa: Toti                                                                       NaN   \n15. Familia Luly: Luly                                                                         NaN   \n16. Familia Luly: Rafa                                                                         NaN   \n17. Total Gastos atribuibles al Campo: Mama                                                    NaN   \n18. Detalle cuentas: Mama                                                                      NaN   \n19. Total Gastos atribuibles al Campo: Ale                                                     NaN   \n20. Detalle cuentas: Ale                                                                       NaN   \n21. Total Gastos atribuibles al Campo: Santiago                                           170000.0   \n22. Detalle cuentas: Santiago                                           90000 - Lider\\n80000 - Ema   \n23. Total Gastos atribuibles al Campo: Josefa                                                  NaN   \n24. Detalle cuentas: Josefa                                                                    NaN   \n25. Total Gastos atribuibles al Campo: Luly                                                    NaN   \n26. Detalle cuentas: Luly                                                                      NaN   \n\n                                                                                                 1  \\\nNo.                                                                                              2   \nResponse ID                                                              cm0n89p6m000wq45bd8q7d9wg   \nTimestamp                                                                          Wed Sep 04 2024   \nFinished                                                                                       Yes   \nSurvey ID                                                                cm08tu11q001qhbktl4aporba   \nFormbricks ID (internal)                                                                       NaN   \nUser ID                                                                                        NaN   \nNotes                                                                                          NaN   \nTags                                                                                           NaN   \nurl                                              https://formbricks.santiagolarrain.myds.me/s/c...   \nsource                                                                                         NaN   \nuserAgent - os                                                                                 iOS   \nuserAgent - device                                                                          mobile   \nuserAgent - browser                                                                  Mobile Safari   \n1. Familia                                                                                  Josefa   \n2. Familia Mama: Mama                                                                          NaN   \n3. Familia Mama: Papa                                                                          NaN   \n4. Familia Mama: Toli                                                                          NaN   \n5. Familia Ale: Ale                                                                            NaN   \n6. Familia Ale: Jaime                                                                          NaN   \n7. Familia Ale: Jaimito                                                                        NaN   \n8. Familia Ale: Jacinta                                                                        NaN   \n9. Familia Santiago: Santiago                                                                  NaN   \n10. Familia Santiago: Camila                                                                   NaN   \n11. Familia Santiago: Juanita                                                                  NaN   \n12. Familia Josefa: Josefa                                                              2024/08/17   \n13. Familia Josefa: Cristobal                                                           2024/08/16   \n14. Familia Josefa: Toti                                                                2024/08/17   \n15. Familia Luly: Luly                                                                         NaN   \n16. Familia Luly: Rafa                                                                         NaN   \n17. Total Gastos atribuibles al Campo: Mama                                                    NaN   \n18. Detalle cuentas: Mama                                                                      NaN   \n19. Total Gastos atribuibles al Campo: Ale                                                     NaN   \n20. Detalle cuentas: Ale                                                                       NaN   \n21. Total Gastos atribuibles al Campo: Santiago                                                NaN   \n22. Detalle cuentas: Santiago                                                                  NaN   \n23. Total Gastos atribuibles al Campo: Josefa                                                 35.0   \n24. Detalle cuentas: Josefa                                                                 34.666   \n25. Total Gastos atribuibles al Campo: Luly                                                    NaN   \n26. Detalle cuentas: Luly                                                                      NaN   \n\n                                                                                                 2  \\\nNo.                                                                                              3   \nResponse ID                                                              cm0n3f55a000rq45bznrjhi4m   \nTimestamp                                                                          Wed Sep 04 2024   \nFinished                                                                                       Yes   \nSurvey ID                                                                cm08tu11q001qhbktl4aporba   \nFormbricks ID (internal)                                                                       NaN   \nUser ID                                                                                        NaN   \nNotes                                                                                          NaN   \nTags                                                                                           NaN   \nurl                                              https://formbricks.santiagolarrain.myds.me/s/c...   \nsource                                                                                         NaN   \nuserAgent - os                                                                                 iOS   \nuserAgent - device                                                                          mobile   \nuserAgent - browser                                                                         Chrome   \n1. Familia                                                                                    Luly   \n2. Familia Mama: Mama                                                                          NaN   \n3. Familia Mama: Papa                                                                          NaN   \n4. Familia Mama: Toli                                                                          NaN   \n5. Familia Ale: Ale                                                                            NaN   \n6. Familia Ale: Jaime                                                                          NaN   \n7. Familia Ale: Jaimito                                                                        NaN   \n8. Familia Ale: Jacinta                                                                        NaN   \n9. Familia Santiago: Santiago                                                                  NaN   \n10. Familia Santiago: Camila                                                                   NaN   \n11. Familia Santiago: Juanita                                                                  NaN   \n12. Familia Josefa: Josefa                                                                     NaN   \n13. Familia Josefa: Cristobal                                                                  NaN   \n14. Familia Josefa: Toti                                                                       NaN   \n15. Familia Luly: Luly                           2024/08/16, 2024/08/17, 2024/08/18, 2024/08/19...   \n16. Familia Luly: Rafa                           2024/08/16, 2024/08/17, 2024/08/18, 2024/08/19...   \n17. Total Gastos atribuibles al Campo: Mama                                                    NaN   \n18. Detalle cuentas: Mama                                                                      NaN   \n19. Total Gastos atribuibles al Campo: Ale                                                     NaN   \n20. Detalle cuentas: Ale                                                                       NaN   \n21. Total Gastos atribuibles al Campo: Santiago                                                NaN   \n22. Detalle cuentas: Santiago                                                                  NaN   \n23. Total Gastos atribuibles al Campo: Josefa                                                  NaN   \n24. Detalle cuentas: Josefa                                                                    NaN   \n25. Total Gastos atribuibles al Campo: Luly                                                    0.0   \n26. Detalle cuentas: Luly                                                                      NaN   \n\n                                                                                                 3  \\\nNo.                                                                                              4   \nResponse ID                                                              cm0hby68y000lq45bvzs8vvyd   \nTimestamp                                                                          Fri Aug 30 2024   \nFinished                                                                                       Yes   \nSurvey ID                                                                cm08tu11q001qhbktl4aporba   \nFormbricks ID (internal)                                                                       NaN   \nUser ID                                                                                        NaN   \nNotes                                                                                          NaN   \nTags                                                                                           NaN   \nurl                                              https://formbricks.santiagolarrain.myds.me/s/c...   \nsource                                                                                         NaN   \nuserAgent - os                                                                                 iOS   \nuserAgent - device                                                                          mobile   \nuserAgent - browser                                                                  Mobile Safari   \n1. Familia                                                                                   Papas   \n2. Familia Mama: Mama                               2024/08/15, 2024/08/16, 2024/08/17, 2024/08/18   \n3. Familia Mama: Papa                                           2024/08/15, 2024/08/16, 2024/08/17   \n4. Familia Mama: Toli                                                                   2024/08/15   \n5. Familia Ale: Ale                                                                            NaN   \n6. Familia Ale: Jaime                                                                          NaN   \n7. Familia Ale: Jaimito                                                                        NaN   \n8. Familia Ale: Jacinta                                                                        NaN   \n9. Familia Santiago: Santiago                                                                  NaN   \n10. Familia Santiago: Camila                                                                   NaN   \n11. Familia Santiago: Juanita                                                                  NaN   \n12. Familia Josefa: Josefa                                                                     NaN   \n13. Familia Josefa: Cristobal                                                                  NaN   \n14. Familia Josefa: Toti                                                                       NaN   \n15. Familia Luly: Luly                                                                         NaN   \n16. Familia Luly: Rafa                                                                         NaN   \n17. Total Gastos atribuibles al Campo: Mama                                                  553.0   \n18. Detalle cuentas: Mama                               63000 don rola\\n552000 lider\\n23000 iguazu   \n19. Total Gastos atribuibles al Campo: Ale                                                     NaN   \n20. Detalle cuentas: Ale                                                                       NaN   \n21. Total Gastos atribuibles al Campo: Santiago                                                NaN   \n22. Detalle cuentas: Santiago                                                                  NaN   \n23. Total Gastos atribuibles al Campo: Josefa                                                  NaN   \n24. Detalle cuentas: Josefa                                                                    NaN   \n25. Total Gastos atribuibles al Campo: Luly                                                    NaN   \n26. Detalle cuentas: Luly                                                                      NaN   \n\n                                                                                                 4  \nNo.                                                                                              5  \nResponse ID                                                              cm0ha5u7h000jq45bskwz0jib  \nTimestamp                                                                          Fri Aug 30 2024  \nFinished                                                                                       Yes  \nSurvey ID                                                                cm08tu11q001qhbktl4aporba  \nFormbricks ID (internal)                                                                       NaN  \nUser ID                                                                                        NaN  \nNotes                                                                                          NaN  \nTags                                                                                           NaN  \nurl                                              https://formbricks.santiagolarrain.myds.me/s/c...  \nsource                                                                                         NaN  \nuserAgent - os                                                                             Android  \nuserAgent - device                                                                          mobile  \nuserAgent - browser                                                               Samsung Internet  \n1. Familia                                                                                     Ale  \n2. Familia Mama: Mama                                                                          NaN  \n3. Familia Mama: Papa                                                                          NaN  \n4. Familia Mama: Toli                                                                          NaN  \n5. Familia Ale: Ale                                 2024/08/15, 2024/08/16, 2024/08/17, 2024/08/18  \n6. Familia Ale: Jaime                            2024/08/15, 2024/08/16, 2024/08/17, 2024/08/18...  \n7. Familia Ale: Jaimito                             2024/08/15, 2024/08/16, 2024/08/17, 2024/08/18  \n8. Familia Ale: Jacinta                          2024/08/15, 2024/08/16, 2024/08/17, 2024/08/18...  \n9. Familia Santiago: Santiago                                                                  NaN  \n10. Familia Santiago: Camila                                                                   NaN  \n11. Familia Santiago: Juanita                                                                  NaN  \n12. Familia Josefa: Josefa                                                                     NaN  \n13. Familia Josefa: Cristobal                                                                  NaN  \n14. Familia Josefa: Toti                                                                       NaN  \n15. Familia Luly: Luly                                                                         NaN  \n16. Familia Luly: Rafa                                                                         NaN  \n17. Total Gastos atribuibles al Campo: Mama                                                    NaN  \n18. Detalle cuentas: Mama                                                                      NaN  \n19. Total Gastos atribuibles al Campo: Ale                                                100000.0  \n20. Detalle cuentas: Ale                                             75.000 L\u00edder\\n25.000 Verduras  \n21. Total Gastos atribuibles al Campo: Santiago                                                NaN  \n22. Detalle cuentas: Santiago                                                                  NaN  \n23. Total Gastos atribuibles al Campo: Josefa                                                  NaN  \n24. Detalle cuentas: Josefa                                                                    NaN  \n25. Total Gastos atribuibles al Campo: Luly                                                    NaN  \n26. Detalle cuentas: Luly                                                                      NaN  ",
            "text/html": "<div>\n<style scoped>\n    .dataframe tbody tr th:only-of-type {\n        vertical-align: middle;\n    }\n\n    .dataframe tbody tr th {\n        vertical-align: top;\n    }\n\n    .dataframe thead th {\n        text-align: right;\n    }\n</style>\n<table border=\"1\" class=\"dataframe\">\n  <thead>\n    <tr style=\"text-align: right;\">\n      <th></th>\n      <th>0</th>\n      <th>1</th>\n      <th>2</th>\n      <th>3</th>\n      <th>4</th>\n    </tr>\n  </thead>\n  <tbody>\n    <tr>\n      <th>No.</th>\n      <td>1</td>\n      <td>2</td>\n      <td>3</td>\n      <td>4</td>\n      <td>5</td>\n    </tr>\n    <tr>\n      <th>Response ID</th>\n      <td>cm0seu3rd00015vs1dh99tmjs</td>\n      <td>cm0n89p6m000wq45bd8q7d9wg</td>\n      <td>cm0n3f55a000rq45bznrjhi4m</td>\n      <td>cm0hby68y000lq45bvzs8vvyd</td>\n      <td>cm0ha5u7h000jq45bskwz0jib</td>\n    </tr>\n    <tr>\n      <th>Timestamp</th>\n      <td>Sat Sep 07 2024</td>\n      <td>Wed Sep 04 2024</td>\n      <td>Wed Sep 04 2024</td>\n      <td>Fri Aug 30 2024</td>\n      <td>Fri Aug 30 2024</td>\n    </tr>\n    <tr>\n      <th>Finished</th>\n      <td>Yes</td>\n      <td>Yes</td>\n      <td>Yes</td>\n      <td>Yes</td>\n      <td>Yes</td>\n    </tr>\n    <tr>\n      <th>Survey ID</th>\n      <td>cm08tu11q001qhbktl4aporba</td>\n      <td>cm08tu11q001qhbktl4aporba</td>\n      <td>cm08tu11q001qhbktl4aporba</td>\n      <td>cm08tu11q001qhbktl4aporba</td>\n      <td>cm08tu11q001qhbktl4aporba</td>\n    </tr>\n    <tr>\n      <th>Formbricks ID (internal)</th>\n      <td>NaN</td>\n      <td>NaN</td>\n      <td>NaN</td>\n      <td>NaN</td>\n      <td>NaN</td>\n    </tr>\n    <tr>\n      <th>User ID</th>\n      <td>NaN</td>\n      <td>NaN</td>\n      <td>NaN</td>\n      <td>NaN</td>\n      <td>NaN</td>\n    </tr>\n    <tr>\n      <th>Notes</th>\n      <td>NaN</td>\n      <td>NaN</td>\n      <td>NaN</td>\n      <td>NaN</td>\n      <td>NaN</td>\n    </tr>\n    <tr>\n      <th>Tags</th>\n      <td>NaN</td>\n      <td>NaN</td>\n      <td>NaN</td>\n      <td>NaN</td>\n      <td>NaN</td>\n    </tr>\n    <tr>\n      <th>url</th>\n      <td>https://formbricks.santiagolarrain.myds.me/s/c...</td>\n      <td>https://formbricks.santiagolarrain.myds.me/s/c...</td>\n      <td>https://formbricks.santiagolarrain.myds.me/s/c...</td>\n      <td>https://formbricks.santiagolarrain.myds.me/s/c...</td>\n      <td>https://formbricks.santiagolarrain.myds.me/s/c...</td>\n    </tr>\n    <tr>\n      <th>source</th>\n      <td>NaN</td>\n      <td>NaN</td>\n      <td>NaN</td>\n      <td>NaN</td>\n      <td>NaN</td>\n    </tr>\n    <tr>\n      <th>userAgent - os</th>\n      <td>Ubuntu</td>\n      <td>iOS</td>\n      <td>iOS</td>\n      <td>iOS</td>\n      <td>Android</td>\n    </tr>\n    <tr>\n      <th>userAgent - device</th>\n      <td>desktop</td>\n      <td>mobile</td>\n      <td>mobile</td>\n      <td>mobile</td>\n      <td>mobile</td>\n    </tr>\n    <tr>\n      <th>userAgent - browser</th>\n      <td>Firefox</td>\n      <td>Mobile Safari</td>\n      <td>Chrome</td>\n      <td>Mobile Safari</td>\n      <td>Samsung Internet</td>\n    </tr>\n    <tr>\n      <th>1. Familia</th>\n      <td>Santiago</td>\n      <td>Josefa</td>\n      <td>Luly</td>\n      <td>Papas</td>\n      <td>Ale</td>\n    </tr>\n    <tr>\n      <th>2. Familia Mama: Mama</th>\n      <td>NaN</td>\n      <td>NaN</td>\n      <td>NaN</td>\n      <td>2024/08/15, 2024/08/16, 2024/08/17, 2024/08/18</td>\n      <td>NaN</td>\n    </tr>\n    <tr>\n      <th>3. Familia Mama: Papa</th>\n      <td>NaN</td>\n      <td>NaN</td>\n      <td>NaN</td>\n      <td>2024/08/15, 2024/08/16, 2024/08/17</td>\n      <td>NaN</td>\n    </tr>\n    <tr>\n      <th>4. Familia Mama: Toli</th>\n      <td>NaN</td>\n      <td>NaN</td>\n      <td>NaN</td>\n      <td>2024/08/15</td>\n      <td>NaN</td>\n    </tr>\n    <tr>\n      <th>5. Familia Ale: Ale</th>\n      <td>NaN</td>\n      <td>NaN</td>\n      <td>NaN</td>\n      <td>NaN</td>\n      <td>2024/08/15, 2024/08/16, 2024/08/17, 2024/08/18</td>\n    </tr>\n    <tr>\n      <th>6. Familia Ale: Jaime</th>\n      <td>NaN</td>\n      <td>NaN</td>\n      <td>NaN</td>\n      <td>NaN</td>\n      <td>2024/08/15, 2024/08/16, 2024/08/17, 2024/08/18...</td>\n    </tr>\n    <tr>\n      <th>7. Familia Ale: Jaimito</th>\n      <td>NaN</td>\n      <td>NaN</td>\n      <td>NaN</td>\n      <td>NaN</td>\n      <td>2024/08/15, 2024/08/16, 2024/08/17, 2024/08/18</td>\n    </tr>\n    <tr>\n      <th>8. Familia Ale: Jacinta</th>\n      <td>NaN</td>\n      <td>NaN</td>\n      <td>NaN</td>\n      <td>NaN</td>\n      <td>2024/08/15, 2024/08/16, 2024/08/17, 2024/08/18...</td>\n    </tr>\n    <tr>\n      <th>9. Familia Santiago: Santiago</th>\n      <td>2024/08/15, 2024/08/17, 2024/08/18, 2024/08/19...</td>\n      <td>NaN</td>\n      <td>NaN</td>\n      <td>NaN</td>\n      <td>NaN</td>\n    </tr>\n    <tr>\n      <th>10. Familia Santiago: Camila</th>\n      <td>2024/08/16, 2024/08/17, 2024/08/18, 2024/08/19...</td>\n      <td>NaN</td>\n      <td>NaN</td>\n      <td>NaN</td>\n      <td>NaN</td>\n    </tr>\n    <tr>\n      <th>11. Familia Santiago: Juanita</th>\n      <td>2024/08/16, 2024/08/17, 2024/08/18, 2024/08/20</td>\n      <td>NaN</td>\n      <td>NaN</td>\n      <td>NaN</td>\n      <td>NaN</td>\n    </tr>\n    <tr>\n      <th>12. Familia Josefa: Josefa</th>\n      <td>NaN</td>\n      <td>2024/08/17</td>\n      <td>NaN</td>\n      <td>NaN</td>\n      <td>NaN</td>\n    </tr>\n    <tr>\n      <th>13. Familia Josefa: Cristobal</th>\n      <td>NaN</td>\n      <td>2024/08/16</td>\n      <td>NaN</td>\n      <td>NaN</td>\n      <td>NaN</td>\n    </tr>\n    <tr>\n      <th>14. Familia Josefa: Toti</th>\n      <td>NaN</td>\n      <td>2024/08/17</td>\n      <td>NaN</td>\n      <td>NaN</td>\n      <td>NaN</td>\n    </tr>\n    <tr>\n      <th>15. Familia Luly: Luly</th>\n      <td>NaN</td>\n      <td>NaN</td>\n      <td>2024/08/16, 2024/08/17, 2024/08/18, 2024/08/19...</td>\n      <td>NaN</td>\n      <td>NaN</td>\n    </tr>\n    <tr>\n      <th>16. Familia Luly: Rafa</th>\n      <td>NaN</td>\n      <td>NaN</td>\n      <td>2024/08/16, 2024/08/17, 2024/08/18, 2024/08/19...</td>\n      <td>NaN</td>\n      <td>NaN</td>\n    </tr>\n    <tr>\n      <th>17. Total Gastos atribuibles al Campo: Mama</th>\n      <td>NaN</td>\n      <td>NaN</td>\n      <td>NaN</td>\n      <td>553.0</td>\n      <td>NaN</td>\n    </tr>\n    <tr>\n      <th>18. Detalle cuentas: Mama</th>\n      <td>NaN</td>\n      <td>NaN</td>\n      <td>NaN</td>\n      <td>63000 don rola\\n552000 lider\\n23000 iguazu</td>\n      <td>NaN</td>\n    </tr>\n    <tr>\n      <th>19. Total Gastos atribuibles al Campo: Ale</th>\n      <td>NaN</td>\n      <td>NaN</td>\n      <td>NaN</td>\n      <td>NaN</td>\n      <td>100000.0</td>\n    </tr>\n    <tr>\n      <th>20. Detalle cuentas: Ale</th>\n      <td>NaN</td>\n      <td>NaN</td>\n      <td>NaN</td>\n      <td>NaN</td>\n      <td>75.000 L\u00edder\\n25.000 Verduras</td>\n    </tr>\n    <tr>\n      <th>21. Total Gastos atribuibles al Campo: Santiago</th>\n      <td>170000.0</td>\n      <td>NaN</td>\n      <td>NaN</td>\n      <td>NaN</td>\n      <td>NaN</td>\n    </tr>\n    <tr>\n      <th>22. Detalle cuentas: Santiago</th>\n      <td>90000 - Lider\\n80000 - Ema</td>\n      <td>NaN</td>\n      <td>NaN</td>\n      <td>NaN</td>\n      <td>NaN</td>\n    </tr>\n    <tr>\n      <th>23. Total Gastos atribuibles al Campo: Josefa</th>\n      <td>NaN</td>\n      <td>35.0</td>\n      <td>NaN</td>\n      <td>NaN</td>\n      <td>NaN</td>\n    </tr>\n    <tr>\n      <th>24. Detalle cuentas: Josefa</th>\n      <td>NaN</td>\n      <td>34.666</td>\n      <td>NaN</td>\n      <td>NaN</td>\n      <td>NaN</td>\n    </tr>\n    <tr>\n      <th>25. Total Gastos atribuibles al Campo: Luly</th>\n      <td>NaN</td>\n      <td>NaN</td>\n      <td>0.0</td>\n      <td>NaN</td>\n      <td>NaN</td>\n    </tr>\n    <tr>\n      <th>26. Detalle cuentas: Luly</th>\n      <td>NaN</td>\n      <td>NaN</td>\n      <td>NaN</td>\n      <td>NaN</td>\n      <td>NaN</td>\n    </tr>\n  </tbody>\n</table>\n</div>"
          },
          "metadata": {}
        }
      ],
      "execution_count": 48
    },
    {
      "id": "5d19b652-c6f6-444f-a96c-099a8eb13d2f",
      "cell_type": "code",
      "source": "df.T",
      "metadata": {
        "trusted": false
      },
      "outputs": [
        {
          "execution_count": 45,
          "output_type": "execute_result",
          "data": {
            "text/plain": "                                                                                                 0  \\\nNo.                                                                                              1   \nResponse ID                                                              cm0seu3rd00015vs1dh99tmjs   \nTimestamp                                                                          Sat Sep 07 2024   \nFinished                                                                                       Yes   \nSurvey ID                                                                cm08tu11q001qhbktl4aporba   \nFormbricks ID (internal)                                                                       NaN   \nUser ID                                                                                        NaN   \nNotes                                                                                          NaN   \nTags                                                                                           NaN   \nurl                                              https://formbricks.santiagolarrain.myds.me/s/c...   \nsource                                                                                         NaN   \nuserAgent - os                                                                              Ubuntu   \nuserAgent - device                                                                         desktop   \nuserAgent - browser                                                                        Firefox   \n1. Familia                                                                                Santiago   \n2. Familia Papa: Mama                                                                          NaN   \n3. Familia Papas: Papa                                                                         NaN   \n4. Familia Papas: Toli                                                                         NaN   \n5. Familia Ale: Ale                                                                            NaN   \n6. Familia Ale: Jaime                                                                          NaN   \n7. Familia Ale: Jaimito                                                                        NaN   \n8. Familia Ale: Jacinta                                                                        NaN   \n9. Familia Santiago: Santiago                    2024/08/15, 2024/08/17, 2024/08/18, 2024/08/19...   \n10. Familia Santiago: Camila                     2024/08/16, 2024/08/17, 2024/08/18, 2024/08/19...   \n11. Familia Santiago: Juanita                       2024/08/16, 2024/08/17, 2024/08/18, 2024/08/20   \n12. Familia Josefa: Josefa                                                                     NaN   \n13. Familia Josefa: Cristobal                                                                  NaN   \n14. Familia Josefa: Toti                                                                       NaN   \n15. Familia Luly: Luly                                                                         NaN   \n16. Familia Luly: Rafa                                                                         NaN   \n17. Total Gastos atribuibles al Campo: Mama                                                    NaN   \n18. Detalle cuentas: Mama                                                                      NaN   \n19. Total Gastos atribuibles al Campo: Ale                                                     NaN   \n20. Detalle cuentas: Ale                                                                       NaN   \n21. Total Gastos atribuibles al Campo: Santiago                                           170000.0   \n22. Detalle cuentas: Santiago                                           90000 - Lider\\n80000 - Ema   \n23. Total Gastos atribuibles al Campo: Josefa                                                  NaN   \n24. Detalle cuentas: Josefa                                                                    NaN   \n25. Total Gastos atribuibles al Campo: Luly                                                    NaN   \n26. Detalle cuentas: Luly                                                                      NaN   \n\n                                                                                                 1  \\\nNo.                                                                                              2   \nResponse ID                                                              cm0n89p6m000wq45bd8q7d9wg   \nTimestamp                                                                          Wed Sep 04 2024   \nFinished                                                                                       Yes   \nSurvey ID                                                                cm08tu11q001qhbktl4aporba   \nFormbricks ID (internal)                                                                       NaN   \nUser ID                                                                                        NaN   \nNotes                                                                                          NaN   \nTags                                                                                           NaN   \nurl                                              https://formbricks.santiagolarrain.myds.me/s/c...   \nsource                                                                                         NaN   \nuserAgent - os                                                                                 iOS   \nuserAgent - device                                                                          mobile   \nuserAgent - browser                                                                  Mobile Safari   \n1. Familia                                                                                  Josefa   \n2. Familia Papa: Mama                                                                          NaN   \n3. Familia Papas: Papa                                                                         NaN   \n4. Familia Papas: Toli                                                                         NaN   \n5. Familia Ale: Ale                                                                            NaN   \n6. Familia Ale: Jaime                                                                          NaN   \n7. Familia Ale: Jaimito                                                                        NaN   \n8. Familia Ale: Jacinta                                                                        NaN   \n9. Familia Santiago: Santiago                                                                  NaN   \n10. Familia Santiago: Camila                                                                   NaN   \n11. Familia Santiago: Juanita                                                                  NaN   \n12. Familia Josefa: Josefa                                                              2024/08/17   \n13. Familia Josefa: Cristobal                                                           2024/08/16   \n14. Familia Josefa: Toti                                                                2024/08/17   \n15. Familia Luly: Luly                                                                         NaN   \n16. Familia Luly: Rafa                                                                         NaN   \n17. Total Gastos atribuibles al Campo: Mama                                                    NaN   \n18. Detalle cuentas: Mama                                                                      NaN   \n19. Total Gastos atribuibles al Campo: Ale                                                     NaN   \n20. Detalle cuentas: Ale                                                                       NaN   \n21. Total Gastos atribuibles al Campo: Santiago                                                NaN   \n22. Detalle cuentas: Santiago                                                                  NaN   \n23. Total Gastos atribuibles al Campo: Josefa                                                 35.0   \n24. Detalle cuentas: Josefa                                                                 34.666   \n25. Total Gastos atribuibles al Campo: Luly                                                    NaN   \n26. Detalle cuentas: Luly                                                                      NaN   \n\n                                                                                                 2  \\\nNo.                                                                                              3   \nResponse ID                                                              cm0n3f55a000rq45bznrjhi4m   \nTimestamp                                                                          Wed Sep 04 2024   \nFinished                                                                                       Yes   \nSurvey ID                                                                cm08tu11q001qhbktl4aporba   \nFormbricks ID (internal)                                                                       NaN   \nUser ID                                                                                        NaN   \nNotes                                                                                          NaN   \nTags                                                                                           NaN   \nurl                                              https://formbricks.santiagolarrain.myds.me/s/c...   \nsource                                                                                         NaN   \nuserAgent - os                                                                                 iOS   \nuserAgent - device                                                                          mobile   \nuserAgent - browser                                                                         Chrome   \n1. Familia                                                                                    Luly   \n2. Familia Papa: Mama                                                                          NaN   \n3. Familia Papas: Papa                                                                         NaN   \n4. Familia Papas: Toli                                                                         NaN   \n5. Familia Ale: Ale                                                                            NaN   \n6. Familia Ale: Jaime                                                                          NaN   \n7. Familia Ale: Jaimito                                                                        NaN   \n8. Familia Ale: Jacinta                                                                        NaN   \n9. Familia Santiago: Santiago                                                                  NaN   \n10. Familia Santiago: Camila                                                                   NaN   \n11. Familia Santiago: Juanita                                                                  NaN   \n12. Familia Josefa: Josefa                                                                     NaN   \n13. Familia Josefa: Cristobal                                                                  NaN   \n14. Familia Josefa: Toti                                                                       NaN   \n15. Familia Luly: Luly                           2024/08/16, 2024/08/17, 2024/08/18, 2024/08/19...   \n16. Familia Luly: Rafa                           2024/08/16, 2024/08/17, 2024/08/18, 2024/08/19...   \n17. Total Gastos atribuibles al Campo: Mama                                                    NaN   \n18. Detalle cuentas: Mama                                                                      NaN   \n19. Total Gastos atribuibles al Campo: Ale                                                     NaN   \n20. Detalle cuentas: Ale                                                                       NaN   \n21. Total Gastos atribuibles al Campo: Santiago                                                NaN   \n22. Detalle cuentas: Santiago                                                                  NaN   \n23. Total Gastos atribuibles al Campo: Josefa                                                  NaN   \n24. Detalle cuentas: Josefa                                                                    NaN   \n25. Total Gastos atribuibles al Campo: Luly                                                    0.0   \n26. Detalle cuentas: Luly                                                                      NaN   \n\n                                                                                                 3  \\\nNo.                                                                                              4   \nResponse ID                                                              cm0hby68y000lq45bvzs8vvyd   \nTimestamp                                                                          Fri Aug 30 2024   \nFinished                                                                                       Yes   \nSurvey ID                                                                cm08tu11q001qhbktl4aporba   \nFormbricks ID (internal)                                                                       NaN   \nUser ID                                                                                        NaN   \nNotes                                                                                          NaN   \nTags                                                                                           NaN   \nurl                                              https://formbricks.santiagolarrain.myds.me/s/c...   \nsource                                                                                         NaN   \nuserAgent - os                                                                                 iOS   \nuserAgent - device                                                                          mobile   \nuserAgent - browser                                                                  Mobile Safari   \n1. Familia                                                                                   Papas   \n2. Familia Papa: Mama                               2024/08/15, 2024/08/16, 2024/08/17, 2024/08/18   \n3. Familia Papas: Papa                                          2024/08/15, 2024/08/16, 2024/08/17   \n4. Familia Papas: Toli                                                                  2024/08/15   \n5. Familia Ale: Ale                                                                            NaN   \n6. Familia Ale: Jaime                                                                          NaN   \n7. Familia Ale: Jaimito                                                                        NaN   \n8. Familia Ale: Jacinta                                                                        NaN   \n9. Familia Santiago: Santiago                                                                  NaN   \n10. Familia Santiago: Camila                                                                   NaN   \n11. Familia Santiago: Juanita                                                                  NaN   \n12. Familia Josefa: Josefa                                                                     NaN   \n13. Familia Josefa: Cristobal                                                                  NaN   \n14. Familia Josefa: Toti                                                                       NaN   \n15. Familia Luly: Luly                                                                         NaN   \n16. Familia Luly: Rafa                                                                         NaN   \n17. Total Gastos atribuibles al Campo: Mama                                                  553.0   \n18. Detalle cuentas: Mama                               63000 don rola\\n552000 lider\\n23000 iguazu   \n19. Total Gastos atribuibles al Campo: Ale                                                     NaN   \n20. Detalle cuentas: Ale                                                                       NaN   \n21. Total Gastos atribuibles al Campo: Santiago                                                NaN   \n22. Detalle cuentas: Santiago                                                                  NaN   \n23. Total Gastos atribuibles al Campo: Josefa                                                  NaN   \n24. Detalle cuentas: Josefa                                                                    NaN   \n25. Total Gastos atribuibles al Campo: Luly                                                    NaN   \n26. Detalle cuentas: Luly                                                                      NaN   \n\n                                                                                                 4  \nNo.                                                                                              5  \nResponse ID                                                              cm0ha5u7h000jq45bskwz0jib  \nTimestamp                                                                          Fri Aug 30 2024  \nFinished                                                                                       Yes  \nSurvey ID                                                                cm08tu11q001qhbktl4aporba  \nFormbricks ID (internal)                                                                       NaN  \nUser ID                                                                                        NaN  \nNotes                                                                                          NaN  \nTags                                                                                           NaN  \nurl                                              https://formbricks.santiagolarrain.myds.me/s/c...  \nsource                                                                                         NaN  \nuserAgent - os                                                                             Android  \nuserAgent - device                                                                          mobile  \nuserAgent - browser                                                               Samsung Internet  \n1. Familia                                                                                     Ale  \n2. Familia Papa: Mama                                                                          NaN  \n3. Familia Papas: Papa                                                                         NaN  \n4. Familia Papas: Toli                                                                         NaN  \n5. Familia Ale: Ale                                 2024/08/15, 2024/08/16, 2024/08/17, 2024/08/18  \n6. Familia Ale: Jaime                            2024/08/15, 2024/08/16, 2024/08/17, 2024/08/18...  \n7. Familia Ale: Jaimito                             2024/08/15, 2024/08/16, 2024/08/17, 2024/08/18  \n8. Familia Ale: Jacinta                          2024/08/15, 2024/08/16, 2024/08/17, 2024/08/18...  \n9. Familia Santiago: Santiago                                                                  NaN  \n10. Familia Santiago: Camila                                                                   NaN  \n11. Familia Santiago: Juanita                                                                  NaN  \n12. Familia Josefa: Josefa                                                                     NaN  \n13. Familia Josefa: Cristobal                                                                  NaN  \n14. Familia Josefa: Toti                                                                       NaN  \n15. Familia Luly: Luly                                                                         NaN  \n16. Familia Luly: Rafa                                                                         NaN  \n17. Total Gastos atribuibles al Campo: Mama                                                    NaN  \n18. Detalle cuentas: Mama                                                                      NaN  \n19. Total Gastos atribuibles al Campo: Ale                                                100000.0  \n20. Detalle cuentas: Ale                                             75.000 L\u00edder\\n25.000 Verduras  \n21. Total Gastos atribuibles al Campo: Santiago                                                NaN  \n22. Detalle cuentas: Santiago                                                                  NaN  \n23. Total Gastos atribuibles al Campo: Josefa                                                  NaN  \n24. Detalle cuentas: Josefa                                                                    NaN  \n25. Total Gastos atribuibles al Campo: Luly                                                    NaN  \n26. Detalle cuentas: Luly                                                                      NaN  ",
            "text/html": "<div>\n<style scoped>\n    .dataframe tbody tr th:only-of-type {\n        vertical-align: middle;\n    }\n\n    .dataframe tbody tr th {\n        vertical-align: top;\n    }\n\n    .dataframe thead th {\n        text-align: right;\n    }\n</style>\n<table border=\"1\" class=\"dataframe\">\n  <thead>\n    <tr style=\"text-align: right;\">\n      <th></th>\n      <th>0</th>\n      <th>1</th>\n      <th>2</th>\n      <th>3</th>\n      <th>4</th>\n    </tr>\n  </thead>\n  <tbody>\n    <tr>\n      <th>No.</th>\n      <td>1</td>\n      <td>2</td>\n      <td>3</td>\n      <td>4</td>\n      <td>5</td>\n    </tr>\n    <tr>\n      <th>Response ID</th>\n      <td>cm0seu3rd00015vs1dh99tmjs</td>\n      <td>cm0n89p6m000wq45bd8q7d9wg</td>\n      <td>cm0n3f55a000rq45bznrjhi4m</td>\n      <td>cm0hby68y000lq45bvzs8vvyd</td>\n      <td>cm0ha5u7h000jq45bskwz0jib</td>\n    </tr>\n    <tr>\n      <th>Timestamp</th>\n      <td>Sat Sep 07 2024</td>\n      <td>Wed Sep 04 2024</td>\n      <td>Wed Sep 04 2024</td>\n      <td>Fri Aug 30 2024</td>\n      <td>Fri Aug 30 2024</td>\n    </tr>\n    <tr>\n      <th>Finished</th>\n      <td>Yes</td>\n      <td>Yes</td>\n      <td>Yes</td>\n      <td>Yes</td>\n      <td>Yes</td>\n    </tr>\n    <tr>\n      <th>Survey ID</th>\n      <td>cm08tu11q001qhbktl4aporba</td>\n      <td>cm08tu11q001qhbktl4aporba</td>\n      <td>cm08tu11q001qhbktl4aporba</td>\n      <td>cm08tu11q001qhbktl4aporba</td>\n      <td>cm08tu11q001qhbktl4aporba</td>\n    </tr>\n    <tr>\n      <th>Formbricks ID (internal)</th>\n      <td>NaN</td>\n      <td>NaN</td>\n      <td>NaN</td>\n      <td>NaN</td>\n      <td>NaN</td>\n    </tr>\n    <tr>\n      <th>User ID</th>\n      <td>NaN</td>\n      <td>NaN</td>\n      <td>NaN</td>\n      <td>NaN</td>\n      <td>NaN</td>\n    </tr>\n    <tr>\n      <th>Notes</th>\n      <td>NaN</td>\n      <td>NaN</td>\n      <td>NaN</td>\n      <td>NaN</td>\n      <td>NaN</td>\n    </tr>\n    <tr>\n      <th>Tags</th>\n      <td>NaN</td>\n      <td>NaN</td>\n      <td>NaN</td>\n      <td>NaN</td>\n      <td>NaN</td>\n    </tr>\n    <tr>\n      <th>url</th>\n      <td>https://formbricks.santiagolarrain.myds.me/s/c...</td>\n      <td>https://formbricks.santiagolarrain.myds.me/s/c...</td>\n      <td>https://formbricks.santiagolarrain.myds.me/s/c...</td>\n      <td>https://formbricks.santiagolarrain.myds.me/s/c...</td>\n      <td>https://formbricks.santiagolarrain.myds.me/s/c...</td>\n    </tr>\n    <tr>\n      <th>source</th>\n      <td>NaN</td>\n      <td>NaN</td>\n      <td>NaN</td>\n      <td>NaN</td>\n      <td>NaN</td>\n    </tr>\n    <tr>\n      <th>userAgent - os</th>\n      <td>Ubuntu</td>\n      <td>iOS</td>\n      <td>iOS</td>\n      <td>iOS</td>\n      <td>Android</td>\n    </tr>\n    <tr>\n      <th>userAgent - device</th>\n      <td>desktop</td>\n      <td>mobile</td>\n      <td>mobile</td>\n      <td>mobile</td>\n      <td>mobile</td>\n    </tr>\n    <tr>\n      <th>userAgent - browser</th>\n      <td>Firefox</td>\n      <td>Mobile Safari</td>\n      <td>Chrome</td>\n      <td>Mobile Safari</td>\n      <td>Samsung Internet</td>\n    </tr>\n    <tr>\n      <th>1. Familia</th>\n      <td>Santiago</td>\n      <td>Josefa</td>\n      <td>Luly</td>\n      <td>Papas</td>\n      <td>Ale</td>\n    </tr>\n    <tr>\n      <th>2. Familia Papa: Mama</th>\n      <td>NaN</td>\n      <td>NaN</td>\n      <td>NaN</td>\n      <td>2024/08/15, 2024/08/16, 2024/08/17, 2024/08/18</td>\n      <td>NaN</td>\n    </tr>\n    <tr>\n      <th>3. Familia Papas: Papa</th>\n      <td>NaN</td>\n      <td>NaN</td>\n      <td>NaN</td>\n      <td>2024/08/15, 2024/08/16, 2024/08/17</td>\n      <td>NaN</td>\n    </tr>\n    <tr>\n      <th>4. Familia Papas: Toli</th>\n      <td>NaN</td>\n      <td>NaN</td>\n      <td>NaN</td>\n      <td>2024/08/15</td>\n      <td>NaN</td>\n    </tr>\n    <tr>\n      <th>5. Familia Ale: Ale</th>\n      <td>NaN</td>\n      <td>NaN</td>\n      <td>NaN</td>\n      <td>NaN</td>\n      <td>2024/08/15, 2024/08/16, 2024/08/17, 2024/08/18</td>\n    </tr>\n    <tr>\n      <th>6. Familia Ale: Jaime</th>\n      <td>NaN</td>\n      <td>NaN</td>\n      <td>NaN</td>\n      <td>NaN</td>\n      <td>2024/08/15, 2024/08/16, 2024/08/17, 2024/08/18...</td>\n    </tr>\n    <tr>\n      <th>7. Familia Ale: Jaimito</th>\n      <td>NaN</td>\n      <td>NaN</td>\n      <td>NaN</td>\n      <td>NaN</td>\n      <td>2024/08/15, 2024/08/16, 2024/08/17, 2024/08/18</td>\n    </tr>\n    <tr>\n      <th>8. Familia Ale: Jacinta</th>\n      <td>NaN</td>\n      <td>NaN</td>\n      <td>NaN</td>\n      <td>NaN</td>\n      <td>2024/08/15, 2024/08/16, 2024/08/17, 2024/08/18...</td>\n    </tr>\n    <tr>\n      <th>9. Familia Santiago: Santiago</th>\n      <td>2024/08/15, 2024/08/17, 2024/08/18, 2024/08/19...</td>\n      <td>NaN</td>\n      <td>NaN</td>\n      <td>NaN</td>\n      <td>NaN</td>\n    </tr>\n    <tr>\n      <th>10. Familia Santiago: Camila</th>\n      <td>2024/08/16, 2024/08/17, 2024/08/18, 2024/08/19...</td>\n      <td>NaN</td>\n      <td>NaN</td>\n      <td>NaN</td>\n      <td>NaN</td>\n    </tr>\n    <tr>\n      <th>11. Familia Santiago: Juanita</th>\n      <td>2024/08/16, 2024/08/17, 2024/08/18, 2024/08/20</td>\n      <td>NaN</td>\n      <td>NaN</td>\n      <td>NaN</td>\n      <td>NaN</td>\n    </tr>\n    <tr>\n      <th>12. Familia Josefa: Josefa</th>\n      <td>NaN</td>\n      <td>2024/08/17</td>\n      <td>NaN</td>\n      <td>NaN</td>\n      <td>NaN</td>\n    </tr>\n    <tr>\n      <th>13. Familia Josefa: Cristobal</th>\n      <td>NaN</td>\n      <td>2024/08/16</td>\n      <td>NaN</td>\n      <td>NaN</td>\n      <td>NaN</td>\n    </tr>\n    <tr>\n      <th>14. Familia Josefa: Toti</th>\n      <td>NaN</td>\n      <td>2024/08/17</td>\n      <td>NaN</td>\n      <td>NaN</td>\n      <td>NaN</td>\n    </tr>\n    <tr>\n      <th>15. Familia Luly: Luly</th>\n      <td>NaN</td>\n      <td>NaN</td>\n      <td>2024/08/16, 2024/08/17, 2024/08/18, 2024/08/19...</td>\n      <td>NaN</td>\n      <td>NaN</td>\n    </tr>\n    <tr>\n      <th>16. Familia Luly: Rafa</th>\n      <td>NaN</td>\n      <td>NaN</td>\n      <td>2024/08/16, 2024/08/17, 2024/08/18, 2024/08/19...</td>\n      <td>NaN</td>\n      <td>NaN</td>\n    </tr>\n    <tr>\n      <th>17. Total Gastos atribuibles al Campo: Mama</th>\n      <td>NaN</td>\n      <td>NaN</td>\n      <td>NaN</td>\n      <td>553.0</td>\n      <td>NaN</td>\n    </tr>\n    <tr>\n      <th>18. Detalle cuentas: Mama</th>\n      <td>NaN</td>\n      <td>NaN</td>\n      <td>NaN</td>\n      <td>63000 don rola\\n552000 lider\\n23000 iguazu</td>\n      <td>NaN</td>\n    </tr>\n    <tr>\n      <th>19. Total Gastos atribuibles al Campo: Ale</th>\n      <td>NaN</td>\n      <td>NaN</td>\n      <td>NaN</td>\n      <td>NaN</td>\n      <td>100000.0</td>\n    </tr>\n    <tr>\n      <th>20. Detalle cuentas: Ale</th>\n      <td>NaN</td>\n      <td>NaN</td>\n      <td>NaN</td>\n      <td>NaN</td>\n      <td>75.000 L\u00edder\\n25.000 Verduras</td>\n    </tr>\n    <tr>\n      <th>21. Total Gastos atribuibles al Campo: Santiago</th>\n      <td>170000.0</td>\n      <td>NaN</td>\n      <td>NaN</td>\n      <td>NaN</td>\n      <td>NaN</td>\n    </tr>\n    <tr>\n      <th>22. Detalle cuentas: Santiago</th>\n      <td>90000 - Lider\\n80000 - Ema</td>\n      <td>NaN</td>\n      <td>NaN</td>\n      <td>NaN</td>\n      <td>NaN</td>\n    </tr>\n    <tr>\n      <th>23. Total Gastos atribuibles al Campo: Josefa</th>\n      <td>NaN</td>\n      <td>35.0</td>\n      <td>NaN</td>\n      <td>NaN</td>\n      <td>NaN</td>\n    </tr>\n    <tr>\n      <th>24. Detalle cuentas: Josefa</th>\n      <td>NaN</td>\n      <td>34.666</td>\n      <td>NaN</td>\n      <td>NaN</td>\n      <td>NaN</td>\n    </tr>\n    <tr>\n      <th>25. Total Gastos atribuibles al Campo: Luly</th>\n      <td>NaN</td>\n      <td>NaN</td>\n      <td>0.0</td>\n      <td>NaN</td>\n      <td>NaN</td>\n    </tr>\n    <tr>\n      <th>26. Detalle cuentas: Luly</th>\n      <td>NaN</td>\n      <td>NaN</td>\n      <td>NaN</td>\n      <td>NaN</td>\n      <td>NaN</td>\n    </tr>\n  </tbody>\n</table>\n</div>"
          },
          "metadata": {}
        }
      ],
      "execution_count": 45
    },
    {
      "id": "470fea69-341f-4c57-9c83-cb46ccc8a746",
      "cell_type": "code",
      "source": "names = [\n    \"Mama\",\n    \"Ale\",\n    \"Santiago\",\n    \"Josefa\",\n    \"Luly\"\n]\ndias = {}\nfor name in names:\n    print (name)\n    \n    df2 = df[[x for x in df.columns if name in x]].T\n    df3 = df2[:-2].dropna(axis=1).map(lambda x: x.split(', '))\n    col = df3.columns[0]\n    dias[name] = {\n        'tabla': \n        df3.explode(col).reset_index().sort_values(col).groupby(['index', col])[col].count().unstack()\n    }\n    dias[name]['total'] = df2.loc[df2.index[-2], col]\n    dias[name]['detalle'] = df2.loc[df2.index[-1], col]\n    dias[name]['total_dias'] = dias[name]['tabla'].sum().sum()\n    \n    ",
      "metadata": {
        "trusted": false
      },
      "outputs": [
        {
          "name": "stdout",
          "text": "Mama\nAle\nSantiago\nJosefa\nLuly\n",
          "output_type": "stream"
        }
      ],
      "execution_count": 77
    },
    {
      "id": "18eec074-f2b7-4d17-856e-3c6469f2fb74",
      "cell_type": "code",
      "source": "df2",
      "metadata": {
        "trusted": false
      },
      "outputs": [
        {
          "execution_count": 71,
          "output_type": "execute_result",
          "data": {
            "text/plain": "                                               0    1  \\\n15. Familia Luly: Luly                       NaN  NaN   \n16. Familia Luly: Rafa                       NaN  NaN   \n25. Total Gastos atribuibles al Campo: Luly  NaN  NaN   \n26. Detalle cuentas: Luly                    NaN  NaN   \n\n                                                                                             2  \\\n15. Familia Luly: Luly                       2024/08/16, 2024/08/17, 2024/08/18, 2024/08/19...   \n16. Familia Luly: Rafa                       2024/08/16, 2024/08/17, 2024/08/18, 2024/08/19...   \n25. Total Gastos atribuibles al Campo: Luly                                                0.0   \n26. Detalle cuentas: Luly                                                                  NaN   \n\n                                               3    4  \n15. Familia Luly: Luly                       NaN  NaN  \n16. Familia Luly: Rafa                       NaN  NaN  \n25. Total Gastos atribuibles al Campo: Luly  NaN  NaN  \n26. Detalle cuentas: Luly                    NaN  NaN  ",
            "text/html": "<div>\n<style scoped>\n    .dataframe tbody tr th:only-of-type {\n        vertical-align: middle;\n    }\n\n    .dataframe tbody tr th {\n        vertical-align: top;\n    }\n\n    .dataframe thead th {\n        text-align: right;\n    }\n</style>\n<table border=\"1\" class=\"dataframe\">\n  <thead>\n    <tr style=\"text-align: right;\">\n      <th></th>\n      <th>0</th>\n      <th>1</th>\n      <th>2</th>\n      <th>3</th>\n      <th>4</th>\n    </tr>\n  </thead>\n  <tbody>\n    <tr>\n      <th>15. Familia Luly: Luly</th>\n      <td>NaN</td>\n      <td>NaN</td>\n      <td>2024/08/16, 2024/08/17, 2024/08/18, 2024/08/19...</td>\n      <td>NaN</td>\n      <td>NaN</td>\n    </tr>\n    <tr>\n      <th>16. Familia Luly: Rafa</th>\n      <td>NaN</td>\n      <td>NaN</td>\n      <td>2024/08/16, 2024/08/17, 2024/08/18, 2024/08/19...</td>\n      <td>NaN</td>\n      <td>NaN</td>\n    </tr>\n    <tr>\n      <th>25. Total Gastos atribuibles al Campo: Luly</th>\n      <td>NaN</td>\n      <td>NaN</td>\n      <td>0.0</td>\n      <td>NaN</td>\n      <td>NaN</td>\n    </tr>\n    <tr>\n      <th>26. Detalle cuentas: Luly</th>\n      <td>NaN</td>\n      <td>NaN</td>\n      <td>NaN</td>\n      <td>NaN</td>\n      <td>NaN</td>\n    </tr>\n  </tbody>\n</table>\n</div>"
          },
          "metadata": {}
        }
      ],
      "execution_count": 71
    },
    {
      "id": "7eaf6d67-ba5d-42b7-aeef-a0e9571e2678",
      "cell_type": "code",
      "source": "col",
      "metadata": {
        "trusted": false
      },
      "outputs": [
        {
          "execution_count": 69,
          "output_type": "execute_result",
          "data": {
            "text/plain": "np.int64(3)"
          },
          "metadata": {}
        }
      ],
      "execution_count": 69
    },
    {
      "id": "fb9346ac-6586-4dde-aa72-deeb514cb9f2",
      "cell_type": "code",
      "source": "dias",
      "metadata": {
        "trusted": false
      },
      "outputs": [
        {
          "execution_count": 78,
          "output_type": "execute_result",
          "data": {
            "text/plain": "{'Mama': {'tabla': 3                      2024/08/15  2024/08/16  2024/08/17  2024/08/18\n  index                                                                \n  2. Familia Mama: Mama         1.0         1.0         1.0         1.0\n  3. Familia Mama: Papa         1.0         1.0         1.0         NaN\n  4. Familia Mama: Toli         1.0         NaN         NaN         NaN,\n  'total': 553.0,\n  'detalle': '63000 don rola\\n552000 lider\\n23000 iguazu',\n  'total_dias': np.float64(8.0)},\n 'Ale': {'tabla': 4                        2024/08/15  2024/08/16  2024/08/17  2024/08/18  \\\n  index                                                                     \n  5. Familia Ale: Ale             1.0         1.0         1.0         1.0   \n  6. Familia Ale: Jaime           1.0         1.0         1.0         1.0   \n  7. Familia Ale: Jaimito         1.0         1.0         1.0         1.0   \n  8. Familia Ale: Jacinta         1.0         1.0         1.0         1.0   \n  \n  4                        2024/08/19  \n  index                                \n  5. Familia Ale: Ale             NaN  \n  6. Familia Ale: Jaime           1.0  \n  7. Familia Ale: Jaimito         NaN  \n  8. Familia Ale: Jacinta         1.0  ,\n  'total': 100000.0,\n  'detalle': '75.000 L\u00edder\\n25.000 Verduras',\n  'total_dias': np.float64(18.0)},\n 'Santiago': {'tabla': 0                              2024/08/15  2024/08/16  2024/08/17  2024/08/18  \\\n  index                                                                           \n  10. Familia Santiago: Camila          NaN         1.0         1.0         1.0   \n  11. Familia Santiago: Juanita         NaN         1.0         1.0         1.0   \n  9. Familia Santiago: Santiago         1.0         NaN         1.0         1.0   \n  \n  0                              2024/08/19  2024/08/20  2024/08/21  \n  index                                                              \n  10. Familia Santiago: Camila          1.0         1.0         NaN  \n  11. Familia Santiago: Juanita         NaN         1.0         NaN  \n  9. Familia Santiago: Santiago         1.0         1.0         1.0  ,\n  'total': 170000.0,\n  'detalle': '90000 - Lider\\n80000 - Ema',\n  'total_dias': np.float64(15.0)},\n 'Josefa': {'tabla': 1                              2024/08/16  2024/08/17\n  index                                                \n  12. Familia Josefa: Josefa            NaN         1.0\n  13. Familia Josefa: Cristobal         1.0         NaN\n  14. Familia Josefa: Toti              NaN         1.0,\n  'total': 35.0,\n  'detalle': 34.666,\n  'total_dias': np.float64(3.0)},\n 'Luly': {'tabla': 2                       2024/08/16  2024/08/17  2024/08/18  2024/08/19  \\\n  index                                                                    \n  15. Familia Luly: Luly           1           1           1           1   \n  16. Familia Luly: Rafa           1           1           1           1   \n  \n  2                       2024/08/20  2024/08/21  \n  index                                           \n  15. Familia Luly: Luly           1           1  \n  16. Familia Luly: Rafa           1           1  ,\n  'total': 0.0,\n  'detalle': nan,\n  'total_dias': np.int64(12)}}"
          },
          "metadata": {}
        }
      ],
      "execution_count": 78
    },
    {
      "id": "e93dd0c2-7a7f-481c-ad34-fd0a08f061c2",
      "cell_type": "code",
      "source": "tabla = pd.concat([dias[x]['tabla'] for x in dias])\ntabla",
      "metadata": {
        "trusted": false
      },
      "outputs": [
        {
          "execution_count": 108,
          "output_type": "execute_result",
          "data": {
            "text/plain": "                               2024/08/15  2024/08/16  2024/08/17  2024/08/18  \\\nindex                                                                           \n2. Familia Mama: Mama                 1.0         1.0         1.0         1.0   \n3. Familia Mama: Papa                 1.0         1.0         1.0         NaN   \n4. Familia Mama: Toli                 1.0         NaN         NaN         NaN   \n5. Familia Ale: Ale                   1.0         1.0         1.0         1.0   \n6. Familia Ale: Jaime                 1.0         1.0         1.0         1.0   \n7. Familia Ale: Jaimito               1.0         1.0         1.0         1.0   \n8. Familia Ale: Jacinta               1.0         1.0         1.0         1.0   \n10. Familia Santiago: Camila          NaN         1.0         1.0         1.0   \n11. Familia Santiago: Juanita         NaN         1.0         1.0         1.0   \n9. Familia Santiago: Santiago         1.0         NaN         1.0         1.0   \n12. Familia Josefa: Josefa            NaN         NaN         1.0         NaN   \n13. Familia Josefa: Cristobal         NaN         1.0         NaN         NaN   \n14. Familia Josefa: Toti              NaN         NaN         1.0         NaN   \n15. Familia Luly: Luly                NaN         1.0         1.0         1.0   \n16. Familia Luly: Rafa                NaN         1.0         1.0         1.0   \n\n                               2024/08/19  2024/08/20  2024/08/21  \nindex                                                              \n2. Familia Mama: Mama                 NaN         NaN         NaN  \n3. Familia Mama: Papa                 NaN         NaN         NaN  \n4. Familia Mama: Toli                 NaN         NaN         NaN  \n5. Familia Ale: Ale                   NaN         NaN         NaN  \n6. Familia Ale: Jaime                 1.0         NaN         NaN  \n7. Familia Ale: Jaimito               NaN         NaN         NaN  \n8. Familia Ale: Jacinta               1.0         NaN         NaN  \n10. Familia Santiago: Camila          1.0         1.0         NaN  \n11. Familia Santiago: Juanita         NaN         1.0         NaN  \n9. Familia Santiago: Santiago         1.0         1.0         1.0  \n12. Familia Josefa: Josefa            NaN         NaN         NaN  \n13. Familia Josefa: Cristobal         NaN         NaN         NaN  \n14. Familia Josefa: Toti              NaN         NaN         NaN  \n15. Familia Luly: Luly                1.0         1.0         1.0  \n16. Familia Luly: Rafa                1.0         1.0         1.0  ",
            "text/html": "<div>\n<style scoped>\n    .dataframe tbody tr th:only-of-type {\n        vertical-align: middle;\n    }\n\n    .dataframe tbody tr th {\n        vertical-align: top;\n    }\n\n    .dataframe thead th {\n        text-align: right;\n    }\n</style>\n<table border=\"1\" class=\"dataframe\">\n  <thead>\n    <tr style=\"text-align: right;\">\n      <th></th>\n      <th>2024/08/15</th>\n      <th>2024/08/16</th>\n      <th>2024/08/17</th>\n      <th>2024/08/18</th>\n      <th>2024/08/19</th>\n      <th>2024/08/20</th>\n      <th>2024/08/21</th>\n    </tr>\n    <tr>\n      <th>index</th>\n      <th></th>\n      <th></th>\n      <th></th>\n      <th></th>\n      <th></th>\n      <th></th>\n      <th></th>\n    </tr>\n  </thead>\n  <tbody>\n    <tr>\n      <th>2. Familia Mama: Mama</th>\n      <td>1.0</td>\n      <td>1.0</td>\n      <td>1.0</td>\n      <td>1.0</td>\n      <td>NaN</td>\n      <td>NaN</td>\n      <td>NaN</td>\n    </tr>\n    <tr>\n      <th>3. Familia Mama: Papa</th>\n      <td>1.0</td>\n      <td>1.0</td>\n      <td>1.0</td>\n      <td>NaN</td>\n      <td>NaN</td>\n      <td>NaN</td>\n      <td>NaN</td>\n    </tr>\n    <tr>\n      <th>4. Familia Mama: Toli</th>\n      <td>1.0</td>\n      <td>NaN</td>\n      <td>NaN</td>\n      <td>NaN</td>\n      <td>NaN</td>\n      <td>NaN</td>\n      <td>NaN</td>\n    </tr>\n    <tr>\n      <th>5. Familia Ale: Ale</th>\n      <td>1.0</td>\n      <td>1.0</td>\n      <td>1.0</td>\n      <td>1.0</td>\n      <td>NaN</td>\n      <td>NaN</td>\n      <td>NaN</td>\n    </tr>\n    <tr>\n      <th>6. Familia Ale: Jaime</th>\n      <td>1.0</td>\n      <td>1.0</td>\n      <td>1.0</td>\n      <td>1.0</td>\n      <td>1.0</td>\n      <td>NaN</td>\n      <td>NaN</td>\n    </tr>\n    <tr>\n      <th>7. Familia Ale: Jaimito</th>\n      <td>1.0</td>\n      <td>1.0</td>\n      <td>1.0</td>\n      <td>1.0</td>\n      <td>NaN</td>\n      <td>NaN</td>\n      <td>NaN</td>\n    </tr>\n    <tr>\n      <th>8. Familia Ale: Jacinta</th>\n      <td>1.0</td>\n      <td>1.0</td>\n      <td>1.0</td>\n      <td>1.0</td>\n      <td>1.0</td>\n      <td>NaN</td>\n      <td>NaN</td>\n    </tr>\n    <tr>\n      <th>10. Familia Santiago: Camila</th>\n      <td>NaN</td>\n      <td>1.0</td>\n      <td>1.0</td>\n      <td>1.0</td>\n      <td>1.0</td>\n      <td>1.0</td>\n      <td>NaN</td>\n    </tr>\n    <tr>\n      <th>11. Familia Santiago: Juanita</th>\n      <td>NaN</td>\n      <td>1.0</td>\n      <td>1.0</td>\n      <td>1.0</td>\n      <td>NaN</td>\n      <td>1.0</td>\n      <td>NaN</td>\n    </tr>\n    <tr>\n      <th>9. Familia Santiago: Santiago</th>\n      <td>1.0</td>\n      <td>NaN</td>\n      <td>1.0</td>\n      <td>1.0</td>\n      <td>1.0</td>\n      <td>1.0</td>\n      <td>1.0</td>\n    </tr>\n    <tr>\n      <th>12. Familia Josefa: Josefa</th>\n      <td>NaN</td>\n      <td>NaN</td>\n      <td>1.0</td>\n      <td>NaN</td>\n      <td>NaN</td>\n      <td>NaN</td>\n      <td>NaN</td>\n    </tr>\n    <tr>\n      <th>13. Familia Josefa: Cristobal</th>\n      <td>NaN</td>\n      <td>1.0</td>\n      <td>NaN</td>\n      <td>NaN</td>\n      <td>NaN</td>\n      <td>NaN</td>\n      <td>NaN</td>\n    </tr>\n    <tr>\n      <th>14. Familia Josefa: Toti</th>\n      <td>NaN</td>\n      <td>NaN</td>\n      <td>1.0</td>\n      <td>NaN</td>\n      <td>NaN</td>\n      <td>NaN</td>\n      <td>NaN</td>\n    </tr>\n    <tr>\n      <th>15. Familia Luly: Luly</th>\n      <td>NaN</td>\n      <td>1.0</td>\n      <td>1.0</td>\n      <td>1.0</td>\n      <td>1.0</td>\n      <td>1.0</td>\n      <td>1.0</td>\n    </tr>\n    <tr>\n      <th>16. Familia Luly: Rafa</th>\n      <td>NaN</td>\n      <td>1.0</td>\n      <td>1.0</td>\n      <td>1.0</td>\n      <td>1.0</td>\n      <td>1.0</td>\n      <td>1.0</td>\n    </tr>\n  </tbody>\n</table>\n</div>"
          },
          "metadata": {}
        }
      ],
      "execution_count": 108
    },
    {
      "id": "abcdf37e-b677-442b-916a-ed12a25aba52",
      "cell_type": "code",
      "source": "total_gastos = sum([dias[x]['total'] for x in dias])\ntotal_dias = sum([dias[x]['total_dias'] for x in dias])\nvalor_diario = total_gastos/total_dias\ndetalle = []\nfor persona in dias:\n    detalle.append(\n        (persona, (dias[persona]['total'] - dias[persona]['total_dias']*valor_diario))\n    )",
      "metadata": {
        "trusted": false
      },
      "outputs": [],
      "execution_count": 120
    },
    {
      "id": "2209a009-9a6c-4802-bad7-6be53b8af26c",
      "cell_type": "code",
      "source": "total_gastos",
      "metadata": {
        "trusted": false
      },
      "outputs": [
        {
          "execution_count": 121,
          "output_type": "execute_result",
          "data": {
            "text/plain": "270588.0"
          },
          "metadata": {}
        }
      ],
      "execution_count": 121
    },
    {
      "id": "4815dbbe-a9fa-4fc0-9529-304e39c67a1e",
      "cell_type": "code",
      "source": "total_personas",
      "metadata": {
        "trusted": false
      },
      "outputs": [
        {
          "execution_count": 122,
          "output_type": "execute_result",
          "data": {
            "text/plain": "5"
          },
          "metadata": {}
        }
      ],
      "execution_count": 122
    },
    {
      "id": "85d76838-b6d2-44ed-a887-a288e3f7635a",
      "cell_type": "code",
      "source": "detalle",
      "metadata": {
        "trusted": false
      },
      "outputs": [
        {
          "execution_count": 123,
          "output_type": "execute_result",
          "data": {
            "text/plain": "[('Mama', np.float64(-38102.42857142857)),\n ('Ale', np.float64(13025.28571428571)),\n ('Santiago', np.float64(97521.07142857142)),\n ('Josefa', np.float64(-14460.785714285714)),\n ('Luly', np.float64(-57983.142857142855))]"
          },
          "metadata": {}
        }
      ],
      "execution_count": 123
    },
    {
      "id": "20ade406-abb9-48e6-8254-4e43149be324",
      "cell_type": "code",
      "source": "sum([x[1] for x in detalle])",
      "metadata": {
        "trusted": false
      },
      "outputs": [
        {
          "execution_count": 124,
          "output_type": "execute_result",
          "data": {
            "text/plain": "np.float64(-1.4551915228366852e-11)"
          },
          "metadata": {}
        }
      ],
      "execution_count": 124
    },
    {
      "id": "50ca2767-9257-464d-8034-41c524dfad9c",
      "cell_type": "code",
      "source": "-67094-67612-67647+102353+32353",
      "metadata": {
        "trusted": false
      },
      "outputs": [
        {
          "execution_count": 88,
          "output_type": "execute_result",
          "data": {
            "text/plain": "-67647"
          },
          "metadata": {}
        }
      ],
      "execution_count": 88
    },
    {
      "id": "1a315d44-0300-416b-940f-cde16ac11ecc",
      "cell_type": "code",
      "source": "settle(detalle)",
      "metadata": {
        "trusted": false
      },
      "outputs": [
        {
          "execution_count": 125,
          "output_type": "execute_result",
          "data": {
            "text/plain": "[('Josefa', 13025.29, 'Ale'),\n ('Josefa', 1435.5, 'Santiago'),\n ('Mama', 38102.43, 'Santiago'),\n ('Luly', 57983.14, 'Santiago')]"
          },
          "metadata": {}
        }
      ],
      "execution_count": 125
    },
    {
      "id": "83bb9772-dd9d-459b-8e0a-4280a3ed76de",
      "cell_type": "code",
      "source": "fechas = [x.replace('/','-') for x in list(tabla.columns)]",
      "metadata": {
        "trusted": false
      },
      "outputs": [],
      "execution_count": 114
    },
    {
      "id": "4aa7c1a6-5258-455c-a9c0-7d09ea8b366b",
      "cell_type": "code",
      "source": "with open(f'../data/resultados_{fechas[0]}_{fechas[-1]}.txt', 'w') as f:\n    f.write(\"CUENTAS CAMPO\\n\\nFechas:\\n\")\n    for fecha in fechas:\n        f.write(fecha+'\\n')\n\n    f.write(\"\\n\\nDetalle Dias:\\n\")\n    \n    tabla.fillna(0).to_markdown(buf=f, tablefmt=\"grid\")\n\n    f.write(\"\\n\\nPor Familia:\\n\")\n\n    for persona in dias:\n        f.write(f\"\\n{persona}\\n\")\n        f.write(f\"Total dias familia: {dias[persona]['total_dias']:.0f}\\n\")\n        f.write(f\"Total Monto Gastado: ${dias[persona]['total']:.0f}\\n\")\n        f.write(f\"Detalle monto gastado:\\n{dias[persona]['detalle']}\\n\")\n    \n    f.write(\"\\n\\nResultados:\\n\\n\")\n    f.write(f\"Total Gastos: ${total_gastos:.0f}\\n\")\n    f.write(f\"Familias que asistieron: {total_personas}\\n\")\n    f.write(f\"Valor diario: ${valor_diario:.0f}\\n\\n\")\n    for fam in detalle:\n        f.write(f\"{fam[0]}: ${fam[1]:.0f}\\n\")\n\n    f.write(\"\\n\\nCONCLUSION:\\n\\n\")\n    res = settle(detalle)\n    for fam in res:\n        f.write(f\"{fam[0]} debe pagarle ${fam[1]:.0f} a {fam[2]}\\n\")\n    \n    \n    \n    ",
      "metadata": {
        "trusted": false
      },
      "outputs": [],
      "execution_count": 140
    },
    {
      "id": "fd6c9692-01e5-42f5-9ffc-09a0bf647781",
      "cell_type": "code",
      "source": "df2 = df[[x for x in df.columns if 'Ale' in x]].T[:-2].dropna(axis=1).map(lambda x: x.split(', '))\ncol = df2.columns[0]\ndf2.explode(col).reset_index().sort_values(col).groupby(['index', col])[col].count().unstack()",
      "metadata": {
        "trusted": false
      },
      "outputs": [
        {
          "execution_count": 62,
          "output_type": "execute_result",
          "data": {
            "text/plain": "4                        2024/08/15  2024/08/16  2024/08/17  2024/08/18  \\\nindex                                                                     \n5. Familia Ale: Ale             1.0         1.0         1.0         1.0   \n6. Familia Ale: Jaime           1.0         1.0         1.0         1.0   \n7. Familia Ale: Jaimito         1.0         1.0         1.0         1.0   \n8. Familia Ale: Jacinta         1.0         1.0         1.0         1.0   \n\n4                        2024/08/19  \nindex                                \n5. Familia Ale: Ale             NaN  \n6. Familia Ale: Jaime           1.0  \n7. Familia Ale: Jaimito         NaN  \n8. Familia Ale: Jacinta         1.0  ",
            "text/html": "<div>\n<style scoped>\n    .dataframe tbody tr th:only-of-type {\n        vertical-align: middle;\n    }\n\n    .dataframe tbody tr th {\n        vertical-align: top;\n    }\n\n    .dataframe thead th {\n        text-align: right;\n    }\n</style>\n<table border=\"1\" class=\"dataframe\">\n  <thead>\n    <tr style=\"text-align: right;\">\n      <th>4</th>\n      <th>2024/08/15</th>\n      <th>2024/08/16</th>\n      <th>2024/08/17</th>\n      <th>2024/08/18</th>\n      <th>2024/08/19</th>\n    </tr>\n    <tr>\n      <th>index</th>\n      <th></th>\n      <th></th>\n      <th></th>\n      <th></th>\n      <th></th>\n    </tr>\n  </thead>\n  <tbody>\n    <tr>\n      <th>5. Familia Ale: Ale</th>\n      <td>1.0</td>\n      <td>1.0</td>\n      <td>1.0</td>\n      <td>1.0</td>\n      <td>NaN</td>\n    </tr>\n    <tr>\n      <th>6. Familia Ale: Jaime</th>\n      <td>1.0</td>\n      <td>1.0</td>\n      <td>1.0</td>\n      <td>1.0</td>\n      <td>1.0</td>\n    </tr>\n    <tr>\n      <th>7. Familia Ale: Jaimito</th>\n      <td>1.0</td>\n      <td>1.0</td>\n      <td>1.0</td>\n      <td>1.0</td>\n      <td>NaN</td>\n    </tr>\n    <tr>\n      <th>8. Familia Ale: Jacinta</th>\n      <td>1.0</td>\n      <td>1.0</td>\n      <td>1.0</td>\n      <td>1.0</td>\n      <td>1.0</td>\n    </tr>\n  </tbody>\n</table>\n</div>"
          },
          "metadata": {}
        }
      ],
      "execution_count": 62
    },
    {
      "id": "1865e21b-fe08-4b1c-af9c-e31558e3a764",
      "cell_type": "code",
      "source": "df2",
      "metadata": {
        "trusted": false
      },
      "outputs": [
        {
          "execution_count": 65,
          "output_type": "execute_result",
          "data": {
            "text/plain": "                                                                        2\n15. Familia Luly: Luly  [2024/08/16, 2024/08/17, 2024/08/18, 2024/08/1...\n16. Familia Luly: Rafa  [2024/08/16, 2024/08/17, 2024/08/18, 2024/08/1...",
            "text/html": "<div>\n<style scoped>\n    .dataframe tbody tr th:only-of-type {\n        vertical-align: middle;\n    }\n\n    .dataframe tbody tr th {\n        vertical-align: top;\n    }\n\n    .dataframe thead th {\n        text-align: right;\n    }\n</style>\n<table border=\"1\" class=\"dataframe\">\n  <thead>\n    <tr style=\"text-align: right;\">\n      <th></th>\n      <th>2</th>\n    </tr>\n  </thead>\n  <tbody>\n    <tr>\n      <th>15. Familia Luly: Luly</th>\n      <td>[2024/08/16, 2024/08/17, 2024/08/18, 2024/08/1...</td>\n    </tr>\n    <tr>\n      <th>16. Familia Luly: Rafa</th>\n      <td>[2024/08/16, 2024/08/17, 2024/08/18, 2024/08/1...</td>\n    </tr>\n  </tbody>\n</table>\n</div>"
          },
          "metadata": {}
        }
      ],
      "execution_count": 65
    },
    {
      "id": "94447ee7-c596-4602-a53a-ad9f911cb20d",
      "cell_type": "code",
      "source": "df2.columns[0]",
      "metadata": {
        "trusted": false
      },
      "outputs": [
        {
          "execution_count": 61,
          "output_type": "execute_result",
          "data": {
            "text/plain": "np.int64(4)"
          },
          "metadata": {}
        }
      ],
      "execution_count": 61
    },
    {
      "id": "5f0402ed-1afc-41e8-935a-33f0e0ae7bb1",
      "cell_type": "code",
      "source": "!cat ../data/resultados_2024-08-15_2024-08-21.txt",
      "metadata": {
        "trusted": false
      },
      "outputs": [
        {
          "name": "stdout",
          "text": "CUENTAS CAMPO\n\nFechas:\n2024-08-15\n2024-08-16\n2024-08-17\n2024-08-18\n2024-08-19\n2024-08-20\n2024-08-21\n\n\nDetalle Dias:\n+-------------------------------+--------------+--------------+--------------+--------------+--------------+--------------+--------------+\n| index                         |   2024/08/15 |   2024/08/16 |   2024/08/17 |   2024/08/18 |   2024/08/19 |   2024/08/20 |   2024/08/21 |\n+===============================+==============+==============+==============+==============+==============+==============+==============+\n| 2. Familia Mama: Mama         |            1 |            1 |            1 |            1 |            0 |            0 |            0 |\n+-------------------------------+--------------+--------------+--------------+--------------+--------------+--------------+--------------+\n| 3. Familia Mama: Papa         |            1 |            1 |            1 |            0 |            0 |            0 |            0 |\n+-------------------------------+--------------+--------------+--------------+--------------+--------------+--------------+--------------+\n| 4. Familia Mama: Toli         |            1 |            0 |            0 |            0 |            0 |            0 |            0 |\n+-------------------------------+--------------+--------------+--------------+--------------+--------------+--------------+--------------+\n| 5. Familia Ale: Ale           |            1 |            1 |            1 |            1 |            0 |            0 |            0 |\n+-------------------------------+--------------+--------------+--------------+--------------+--------------+--------------+--------------+\n| 6. Familia Ale: Jaime         |            1 |            1 |            1 |            1 |            1 |            0 |            0 |\n+-------------------------------+--------------+--------------+--------------+--------------+--------------+--------------+--------------+\n| 7. Familia Ale: Jaimito       |            1 |            1 |            1 |            1 |            0 |            0 |            0 |\n+-------------------------------+--------------+--------------+--------------+--------------+--------------+--------------+--------------+\n| 8. Familia Ale: Jacinta       |            1 |            1 |            1 |            1 |            1 |            0 |            0 |\n+-------------------------------+--------------+--------------+--------------+--------------+--------------+--------------+--------------+\n| 10. Familia Santiago: Camila  |            0 |            1 |            1 |            1 |            1 |            1 |            0 |\n+-------------------------------+--------------+--------------+--------------+--------------+--------------+--------------+--------------+\n| 11. Familia Santiago: Juanita |            0 |            1 |            1 |            1 |            0 |            1 |            0 |\n+-------------------------------+--------------+--------------+--------------+--------------+--------------+--------------+--------------+\n| 9. Familia Santiago: Santiago |            1 |            0 |            1 |            1 |            1 |            1 |            1 |\n+-------------------------------+--------------+--------------+--------------+--------------+--------------+--------------+--------------+\n| 12. Familia Josefa: Josefa    |            0 |            0 |            1 |            0 |            0 |            0 |            0 |\n+-------------------------------+--------------+--------------+--------------+--------------+--------------+--------------+--------------+\n| 13. Familia Josefa: Cristobal |            0 |            1 |            0 |            0 |            0 |            0 |            0 |\n+-------------------------------+--------------+--------------+--------------+--------------+--------------+--------------+--------------+\n| 14. Familia Josefa: Toti      |            0 |            0 |            1 |            0 |            0 |            0 |            0 |\n+-------------------------------+--------------+--------------+--------------+--------------+--------------+--------------+--------------+\n| 15. Familia Luly: Luly        |            0 |            1 |            1 |            1 |            1 |            1 |            1 |\n+-------------------------------+--------------+--------------+--------------+--------------+--------------+--------------+--------------+\n| 16. Familia Luly: Rafa        |            0 |            1 |            1 |            1 |            1 |            1 |            1 |\n+-------------------------------+--------------+--------------+--------------+--------------+--------------+--------------+--------------+\n\nPor Familia:\n\nMama\nTotal dias familia: 8\nTotal Monto Gastado: $553\nDetalle monto gastado:\n63000 don rola\n552000 lider\n23000 iguazu\n\nAle\nTotal dias familia: 18\nTotal Monto Gastado: $100000\nDetalle monto gastado:\n75.000 L\u00edder\n25.000 Verduras\n\nSantiago\nTotal dias familia: 15\nTotal Monto Gastado: $170000\nDetalle monto gastado:\n90000 - Lider\n80000 - Ema\n\nJosefa\nTotal dias familia: 3\nTotal Monto Gastado: $35\nDetalle monto gastado:\n34.666\n\nLuly\nTotal dias familia: 12\nTotal Monto Gastado: $0\nDetalle monto gastado:\nnan\n\n\nResultados:\n\nTotal Gastos: $270588\nFamilias que asistieron: 5\nValor diario: $4832\n\nMama: $-38102\nAle: $13025\nSantiago: $97521\nJosefa: $-14461\nLuly: $-57983\n\n\nCONCLUSION:\n\nJosefa debe pagarle $13025 a Ale\nJosefa debe pagarle $1436 a Santiago\nMama debe pagarle $38102 a Santiago\nLuly debe pagarle $57983 a Santiago\n",
          "output_type": "stream"
        }
      ],
      "execution_count": 141
    },
    {
      "id": "34f93623-d98f-4f3c-876f-c119ff5f7e47",
      "cell_type": "code",
      "source": "",
      "metadata": {
        "trusted": false
      },
      "outputs": [],
      "execution_count": null
    },
    {
      "id": "8e96eea3-7892-4bad-89f3-0ed39ffb18f6",
      "cell_type": "code",
      "source": "",
      "metadata": {
        "trusted": false
      },
      "outputs": [],
      "execution_count": null
    },
    {
      "id": "71937180-9df9-472d-afe5-5b20f7a2a35d",
      "cell_type": "code",
      "source": "",
      "metadata": {
        "trusted": false
      },
      "outputs": [],
      "execution_count": null
    },
    {
      "id": "f78c92ce-dbad-41c1-9477-a5359ab39d7b",
      "cell_type": "markdown",
      "source": "# ",
      "metadata": {
        "trusted": false
      }
    }
  ]
}